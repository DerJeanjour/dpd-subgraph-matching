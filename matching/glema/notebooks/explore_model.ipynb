{
 "cells": [
  {
   "cell_type": "code",
   "execution_count": null,
   "id": "initial_id",
   "metadata": {
    "collapsed": true
   },
   "outputs": [],
   "source": [
    "import os\n",
    "import numpy as np\n",
    "import networkx as nx\n",
    "import torchinfo\n",
    "import torchviz\n",
    "\n",
    "import matching.glema.common.utils as utils\n",
    "from matching.glema.common.model import GLeMaNet\n",
    "from matching.glema.common.model import InferenceGNN"
   ]
  },
  {
   "cell_type": "code",
   "execution_count": null,
   "outputs": [],
   "source": [
    "args = utils.parse_args( use_default=True )\n",
    "model_ckpt = f\"{args.ckpt_dir}/SYNTHETIC_TINY_jump_directed_30e/best_model.pt\"\n",
    "args = utils.load_args( args, model_ckpt )\n",
    "args.ckpt = model_ckpt\n",
    "args.directed = True"
   ],
   "metadata": {
    "collapsed": false
   },
   "id": "303469441b3f7f16"
  },
  {
   "cell_type": "code",
   "execution_count": null,
   "outputs": [],
   "source": [
    "def gen_example_graph( size, args ):\n",
    "    G = utils.generate_graph( size, directed=args.directed )\n",
    "    for _, data in G.nodes( data=True ):\n",
    "        data[ \"label\" ] = 1\n",
    "    return G"
   ],
   "metadata": {
    "collapsed": false
   },
   "id": "8fd1232461538da0"
  },
  {
   "cell_type": "code",
   "execution_count": null,
   "outputs": [],
   "source": [
    "max_n = 55\n",
    "batch_size = args.batch_size"
   ],
   "metadata": {
    "collapsed": false
   },
   "id": "9dc55c4902c6ffc4"
  },
  {
   "cell_type": "code",
   "execution_count": null,
   "outputs": [],
   "source": [
    "def get_example_input( args, batch_size, max_n ):\n",
    "    inf_model = InferenceGNN( args )\n",
    "    input_queries = [ gen_example_graph( int( max_n * 0.3 ), args ) for i in range( batch_size ) ]\n",
    "    input_sources = [ gen_example_graph( int( max_n * 0.7 ), args ) for i in range( batch_size ) ]\n",
    "    list_inputs = inf_model.prepare_multi_input( input_queries, input_sources )\n",
    "    return inf_model.input_to_tensor( list_inputs )"
   ],
   "metadata": {
    "collapsed": false
   },
   "id": "6cf64abbc28f6c3f"
  },
  {
   "cell_type": "code",
   "execution_count": null,
   "outputs": [],
   "source": [
    "input_shapes = [\n",
    "    (batch_size, max_n, args.embedding_dim * 2),\n",
    "    (batch_size, max_n, max_n),\n",
    "    (batch_size, max_n, max_n),\n",
    "    (batch_size, max_n)\n",
    "]\n",
    "input_shapes"
   ],
   "metadata": {
    "collapsed": false
   },
   "id": "70f019eec8a592c2"
  },
  {
   "cell_type": "code",
   "execution_count": null,
   "outputs": [],
   "source": [
    "input_tensors = get_example_input( args, batch_size, max_n )\n",
    "input_shapes = utils.get_shape_of_tensors( input_tensors )\n",
    "input_shapes"
   ],
   "metadata": {
    "collapsed": false
   },
   "id": "f09caee634675d56"
  },
  {
   "cell_type": "code",
   "execution_count": null,
   "outputs": [],
   "source": [
    "model = utils.initialize_model( GLeMaNet( args ), utils.get_device() )\n",
    "model.eval()"
   ],
   "metadata": {
    "collapsed": false
   },
   "id": "bb692cb2e762b8d7"
  },
  {
   "cell_type": "code",
   "execution_count": null,
   "outputs": [],
   "source": [
    "output_tensor = model( input_tensors )\n",
    "output_tensor"
   ],
   "metadata": {
    "collapsed": false
   },
   "id": "5306e11a0065e6"
  },
  {
   "cell_type": "code",
   "execution_count": null,
   "outputs": [],
   "source": [
    "torchinfo.summary( model,\n",
    "                   #input_size=input_shapes,\n",
    "                   #input_data=input_tensors,\n",
    "                   device=utils.get_device() )"
   ],
   "metadata": {
    "collapsed": false
   },
   "id": "d35eb34d5f4ad879"
  },
  {
   "cell_type": "code",
   "execution_count": null,
   "outputs": [],
   "source": [
    "torchviz.make_dot(\n",
    "    output_tensor,\n",
    "    params=dict( list( model.named_parameters() ) )\n",
    ").render( f\"model_graph/{args.dataset}\", format=\"png\" )"
   ],
   "metadata": {
    "collapsed": false
   },
   "id": "9990d296093f94aa"
  },
  {
   "cell_type": "code",
   "execution_count": null,
   "outputs": [],
   "source": [],
   "metadata": {
    "collapsed": false
   },
   "id": "e4c274d9205c06df"
  }
 ],
 "metadata": {
  "kernelspec": {
   "display_name": "Python 3",
   "language": "python",
   "name": "python3"
  },
  "language_info": {
   "codemirror_mode": {
    "name": "ipython",
    "version": 2
   },
   "file_extension": ".py",
   "mimetype": "text/x-python",
   "name": "python",
   "nbconvert_exporter": "python",
   "pygments_lexer": "ipython2",
   "version": "2.7.6"
  }
 },
 "nbformat": 4,
 "nbformat_minor": 5
}
