{
 "cells": [
  {
   "cell_type": "code",
   "execution_count": 1,
   "id": "initial_id",
   "metadata": {
    "collapsed": true,
    "ExecuteTime": {
     "end_time": "2024-12-17T19:13:12.742476Z",
     "start_time": "2024-12-17T19:13:11.757686Z"
    }
   },
   "outputs": [],
   "source": [
    "import os\n",
    "import numpy as np\n",
    "import networkx as nx\n",
    "import torchinfo\n",
    "import torchviz\n",
    "\n",
    "import matching.glema.common.utils as utils\n",
    "from matching.glema.common.model import GLeMaNet\n",
    "from matching.glema.common.model import InferenceGNN"
   ]
  },
  {
   "cell_type": "code",
   "execution_count": 2,
   "outputs": [],
   "source": [
    "args = utils.parse_args( use_default=True )\n",
    "model_ckpt = f\"{args.ckpt_dir}/CPG_best_with_pivot_emb/best_model.pt\"\n",
    "args = utils.load_args( args, model_ckpt )\n",
    "args.ckpt = model_ckpt\n",
    "args.directed = True"
   ],
   "metadata": {
    "collapsed": false,
    "ExecuteTime": {
     "end_time": "2024-12-17T19:13:12.782151Z",
     "start_time": "2024-12-17T19:13:12.763493Z"
    }
   },
   "id": "303469441b3f7f16"
  },
  {
   "cell_type": "code",
   "execution_count": 3,
   "outputs": [],
   "source": [
    "def gen_example_graph( size, args ):\n",
    "    G = utils.generate_graph( size, directed=args.directed )\n",
    "    for id, data in G.nodes( data=True ):\n",
    "        data[ \"label\" ] = 1\n",
    "        data[ \"pivot\" ] = 1 if id == 0 else 0\n",
    "    return G"
   ],
   "metadata": {
    "collapsed": false,
    "ExecuteTime": {
     "end_time": "2024-12-17T19:13:12.794869Z",
     "start_time": "2024-12-17T19:13:12.783924Z"
    }
   },
   "id": "8fd1232461538da0"
  },
  {
   "cell_type": "code",
   "execution_count": 4,
   "outputs": [],
   "source": [
    "max_n = 55\n",
    "batch_size = args.batch_size"
   ],
   "metadata": {
    "collapsed": false,
    "ExecuteTime": {
     "end_time": "2024-12-17T19:13:12.821041Z",
     "start_time": "2024-12-17T19:13:12.795728Z"
    }
   },
   "id": "9dc55c4902c6ffc4"
  },
  {
   "cell_type": "code",
   "execution_count": 5,
   "outputs": [],
   "source": [
    "def get_example_input( args, batch_size, max_n ):\n",
    "    inf_model = InferenceGNN( args )\n",
    "    input_queries = [ gen_example_graph( int( max_n * 0.3 ), args ) for i in range( batch_size ) ]\n",
    "    input_sources = [ gen_example_graph( int( max_n * 0.7 ), args ) for i in range( batch_size ) ]\n",
    "    list_inputs = inf_model.prepare_multi_input( input_queries, input_sources )\n",
    "    return inf_model.input_to_tensor( list_inputs )"
   ],
   "metadata": {
    "collapsed": false,
    "ExecuteTime": {
     "end_time": "2024-12-17T19:13:12.838068Z",
     "start_time": "2024-12-17T19:13:12.832550Z"
    }
   },
   "id": "6cf64abbc28f6c3f"
  },
  {
   "cell_type": "code",
   "execution_count": 6,
   "outputs": [
    {
     "data": {
      "text/plain": "[(128, 55, 12), (128, 55, 55), (128, 55, 55), (128, 55)]"
     },
     "execution_count": 6,
     "metadata": {},
     "output_type": "execute_result"
    }
   ],
   "source": [
    "input_shapes = [\n",
    "    (batch_size, max_n, args.embedding_dim * 2),\n",
    "    (batch_size, max_n, max_n),\n",
    "    (batch_size, max_n, max_n),\n",
    "    (batch_size, max_n)\n",
    "]\n",
    "input_shapes"
   ],
   "metadata": {
    "collapsed": false,
    "ExecuteTime": {
     "end_time": "2024-12-17T19:13:12.857285Z",
     "start_time": "2024-12-17T19:13:12.842197Z"
    }
   },
   "id": "70f019eec8a592c2"
  },
  {
   "cell_type": "code",
   "execution_count": 7,
   "outputs": [
    {
     "name": "stdout",
     "output_type": "stream",
     "text": [
      "Init default model ...\n"
     ]
    },
    {
     "data": {
      "text/plain": "[(128, 54, 12), (128, 54, 54), (128, 54, 54), (128, 54)]"
     },
     "execution_count": 7,
     "metadata": {},
     "output_type": "execute_result"
    }
   ],
   "source": [
    "input_tensors = get_example_input( args, batch_size, max_n )\n",
    "input_shapes = utils.get_shape_of_tensors( input_tensors )\n",
    "input_shapes"
   ],
   "metadata": {
    "collapsed": false,
    "ExecuteTime": {
     "end_time": "2024-12-17T19:13:12.978158Z",
     "start_time": "2024-12-17T19:13:12.854643Z"
    }
   },
   "id": "f09caee634675d56"
  },
  {
   "cell_type": "code",
   "execution_count": 8,
   "outputs": [
    {
     "name": "stdout",
     "output_type": "stream",
     "text": [
      "Init default model ...\n"
     ]
    },
    {
     "data": {
      "text/plain": "GLeMaNet(\n  (gconv1): ModuleList(\n    (0-3): 4 x GLeMa(\n      (W_h): Linear(in_features=140, out_features=140, bias=True)\n      (W_beta): Linear(in_features=280, out_features=1, bias=True)\n    )\n  )\n  (FC): ModuleList(\n    (0): Linear(in_features=140, out_features=128, bias=True)\n    (1-2): 2 x Linear(in_features=128, out_features=128, bias=True)\n    (3): Linear(in_features=128, out_features=1, bias=True)\n  )\n  (embede): Linear(in_features=12, out_features=140, bias=False)\n)"
     },
     "execution_count": 8,
     "metadata": {},
     "output_type": "execute_result"
    }
   ],
   "source": [
    "model = utils.initialize_model( GLeMaNet( args ), utils.get_device() )\n",
    "model.eval()"
   ],
   "metadata": {
    "collapsed": false,
    "ExecuteTime": {
     "end_time": "2024-12-17T19:13:12.988580Z",
     "start_time": "2024-12-17T19:13:12.977548Z"
    }
   },
   "id": "bb692cb2e762b8d7"
  },
  {
   "cell_type": "code",
   "execution_count": 9,
   "outputs": [
    {
     "data": {
      "text/plain": "tensor([0.5147, 0.5147, 0.5147, 0.5147, 0.5147, 0.5147, 0.5147, 0.5147, 0.5147,\n        0.5147, 0.5147, 0.5147, 0.5147, 0.5147, 0.5147, 0.5147, 0.5147, 0.5147,\n        0.5147, 0.5147, 0.5147, 0.5147, 0.5147, 0.5147, 0.5147, 0.5147, 0.5147,\n        0.5147, 0.5147, 0.5147, 0.5147, 0.5147, 0.5147, 0.5147, 0.5147, 0.5147,\n        0.5147, 0.5147, 0.5147, 0.5147, 0.5147, 0.5147, 0.5147, 0.5147, 0.5147,\n        0.5147, 0.5147, 0.5147, 0.5147, 0.5147, 0.5147, 0.5147, 0.5147, 0.5147,\n        0.5147, 0.5147, 0.5147, 0.5147, 0.5147, 0.5147, 0.5147, 0.5147, 0.5147,\n        0.5147, 0.5147, 0.5147, 0.5147, 0.5147, 0.5147, 0.5147, 0.5147, 0.5147,\n        0.5147, 0.5147, 0.5147, 0.5147, 0.5147, 0.5147, 0.5147, 0.5147, 0.5147,\n        0.5147, 0.5147, 0.5147, 0.5147, 0.5147, 0.5147, 0.5147, 0.5147, 0.5147,\n        0.5147, 0.5147, 0.5147, 0.5147, 0.5147, 0.5147, 0.5147, 0.5147, 0.5147,\n        0.5147, 0.5147, 0.5147, 0.5147, 0.5147, 0.5147, 0.5147, 0.5147, 0.5147,\n        0.5147, 0.5147, 0.5147, 0.5147, 0.5147, 0.5147, 0.5147, 0.5147, 0.5147,\n        0.5147, 0.5147, 0.5147, 0.5147, 0.5147, 0.5147, 0.5147, 0.5147, 0.5147,\n        0.5147, 0.5147], device='mps:0', grad_fn=<ViewBackward0>)"
     },
     "execution_count": 9,
     "metadata": {},
     "output_type": "execute_result"
    }
   ],
   "source": [
    "output_tensor = model( input_tensors )\n",
    "output_tensor"
   ],
   "metadata": {
    "collapsed": false,
    "ExecuteTime": {
     "end_time": "2024-12-17T19:13:13.174427Z",
     "start_time": "2024-12-17T19:13:12.987672Z"
    }
   },
   "id": "5306e11a0065e6"
  },
  {
   "cell_type": "code",
   "execution_count": 10,
   "outputs": [
    {
     "data": {
      "text/plain": "=================================================================\nLayer (type:depth-idx)                   Param #\n=================================================================\nGLeMaNet                                 --\n├─ModuleList: 1-1                        --\n│    └─GLeMa: 2-1                        19,600\n│    │    └─Linear: 3-1                  19,740\n│    │    └─Linear: 3-2                  281\n│    └─GLeMa: 2-2                        19,600\n│    │    └─Linear: 3-3                  19,740\n│    │    └─Linear: 3-4                  281\n│    └─GLeMa: 2-3                        19,600\n│    │    └─Linear: 3-5                  19,740\n│    │    └─Linear: 3-6                  281\n│    └─GLeMa: 2-4                        19,600\n│    │    └─Linear: 3-7                  19,740\n│    │    └─Linear: 3-8                  281\n├─ModuleList: 1-2                        --\n│    └─Linear: 2-5                       18,048\n│    └─Linear: 2-6                       16,512\n│    └─Linear: 2-7                       16,512\n│    └─Linear: 2-8                       129\n├─Linear: 1-3                            1,680\n=================================================================\nTotal params: 211,365\nTrainable params: 211,365\nNon-trainable params: 0\n================================================================="
     },
     "execution_count": 10,
     "metadata": {},
     "output_type": "execute_result"
    }
   ],
   "source": [
    "torchinfo.summary( model,\n",
    "                   #input_size=input_shapes,\n",
    "                   #input_data=input_tensors,\n",
    "                   device=utils.get_device() )"
   ],
   "metadata": {
    "collapsed": false,
    "ExecuteTime": {
     "end_time": "2024-12-17T19:13:13.177270Z",
     "start_time": "2024-12-17T19:13:13.174566Z"
    }
   },
   "id": "d35eb34d5f4ad879"
  },
  {
   "cell_type": "code",
   "execution_count": 11,
   "outputs": [],
   "source": [
    "if False:\n",
    "    torchviz.make_dot(\n",
    "        output_tensor,\n",
    "        params=dict( list( model.named_parameters() ) )\n",
    "    ).render( f\"model_graph/{args.dataset}\", format=\"png\" )"
   ],
   "metadata": {
    "collapsed": false,
    "ExecuteTime": {
     "end_time": "2024-12-17T19:13:13.179753Z",
     "start_time": "2024-12-17T19:13:13.177518Z"
    }
   },
   "id": "9990d296093f94aa"
  },
  {
   "cell_type": "code",
   "execution_count": 11,
   "outputs": [],
   "source": [],
   "metadata": {
    "collapsed": false,
    "ExecuteTime": {
     "end_time": "2024-12-17T19:13:13.182019Z",
     "start_time": "2024-12-17T19:13:13.179349Z"
    }
   },
   "id": "e4c274d9205c06df"
  }
 ],
 "metadata": {
  "kernelspec": {
   "display_name": "Python 3",
   "language": "python",
   "name": "python3"
  },
  "language_info": {
   "codemirror_mode": {
    "name": "ipython",
    "version": 2
   },
   "file_extension": ".py",
   "mimetype": "text/x-python",
   "name": "python",
   "nbconvert_exporter": "python",
   "pygments_lexer": "ipython2",
   "version": "2.7.6"
  }
 },
 "nbformat": 4,
 "nbformat_minor": 5
}
