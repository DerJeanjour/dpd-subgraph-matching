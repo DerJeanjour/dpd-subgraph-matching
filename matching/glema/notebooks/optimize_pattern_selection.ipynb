{
 "cells": [
  {
   "cell_type": "code",
   "execution_count": 60,
   "id": "initial_id",
   "metadata": {
    "collapsed": true,
    "ExecuteTime": {
     "end_time": "2025-03-17T13:13:39.990219Z",
     "start_time": "2025-03-17T13:13:39.974954Z"
    }
   },
   "outputs": [],
   "source": [
    "import pandas as pd\n",
    "from ortools.sat.python import cp_model"
   ]
  },
  {
   "cell_type": "code",
   "execution_count": 61,
   "outputs": [],
   "source": [
    "gen_dataset_file = \"./generation_meta/dpdf/gen_data.txt\"\n",
    "dataset_stats_file = \"./generation_meta/dpdf/dataset_stats.csv\"\n",
    "size_summary_file = \"./generation_meta/dpdf/size_summary.csv\"\n",
    "target = 20"
   ],
   "metadata": {
    "collapsed": false,
    "ExecuteTime": {
     "end_time": "2025-03-17T13:13:39.990576Z",
     "start_time": "2025-03-17T13:13:39.978629Z"
    }
   },
   "id": "4c9f0c23ca7f943a"
  },
  {
   "cell_type": "code",
   "execution_count": 62,
   "outputs": [],
   "source": [
    "def transform_project( x: str, prefix=\"dpdf\" ):\n",
    "    x = x.lower()\n",
    "    x = x.replace( \" \", \"_\" )\n",
    "    x = x.replace( \".\", \"\" )\n",
    "    return f\"{prefix}-{x}\""
   ],
   "metadata": {
    "collapsed": false,
    "ExecuteTime": {
     "end_time": "2025-03-17T13:13:39.990647Z",
     "start_time": "2025-03-17T13:13:39.982948Z"
    }
   },
   "id": "a44a8ca7a4f0fff7"
  },
  {
   "cell_type": "code",
   "execution_count": 63,
   "outputs": [
    {
     "data": {
      "text/plain": "['dpdf-maven-cuke4duke-jump-start',\n 'dpdf-protoj',\n 'dpdf-sample-projects',\n 'dpdf-whartoneventscheduler',\n 'dpdf-clusterbench',\n 'dpdf-hunapknotifier',\n 'dpdf-javadesignpatternexercises',\n 'dpdf-comhappyprogtdgotchi',\n 'dpdf-3taps-java-client',\n 'dpdf-spring-stringtemplate',\n 'dpdf-modapi',\n 'dpdf-java-patterns',\n 'dpdf-basiclti-portlet',\n 'dpdf-accent',\n 'dpdf-android-rtmp',\n 'dpdf-swp1-teamhub',\n 'dpdf-ibatisworkshop',\n 'dpdf-akka-javaee6-integracia',\n 'dpdf-swing-mvc-demo',\n 'dpdf-bio_quiz',\n 'dpdf-jagtrack',\n 'dpdf-uk-ejemplos',\n 'dpdf-lord-of-ultima-manager',\n 'dpdf-a7b36ass',\n 'dpdf-jpatterns',\n 'dpdf-turtleplayer',\n 'dpdf-smartbiprototype',\n 'dpdf-chute-android-components',\n 'dpdf-brightroom',\n 'dpdf-cream',\n 'dpdf-mitfahrzentraleclient',\n 'dpdf-java-design-patterns',\n 'dpdf-cs230-software-project',\n 'dpdf-get-another-label',\n 'dpdf-magic-config',\n 'dpdf-tapestry-bootstrap',\n 'dpdf-client',\n 'dpdf-androidbillinglibrary',\n 'dpdf-ipage',\n 'dpdf-hazelcast-cluster-monitor',\n 'dpdf-m2eclipse-extras',\n 'dpdf-api',\n 'dpdf-robo-remote',\n 'dpdf-jboss-aejb',\n 'dpdf-fest-reflect',\n 'dpdf-tapit-android-sdk-source',\n 'dpdf-samygo-android-remote',\n 'dpdf-agetac-ng',\n 'dpdf-cytoscape-plugins',\n 'dpdf-suite',\n 'dpdf-downloadprovider',\n 'dpdf-protogrid',\n 'dpdf-archaius',\n 'dpdf-see',\n 'dpdf-hms',\n 'dpdf-fafdtibb',\n 'dpdf-console_1',\n 'dpdf-jge3d',\n 'dpdf-jamendo-android',\n 'dpdf-coala',\n 'dpdf-dual-battery-widget',\n 'dpdf-spring-social-twitter',\n 'dpdf-dawn-third',\n 'dpdf-java-game-server',\n 'dpdf-prevayler',\n 'dpdf-sitemesh2',\n 'dpdf-ccw',\n 'dpdf-cucumber-jvm',\n 'dpdf-cours-3eme-ann-e',\n 'dpdf-sherlog',\n 'dpdf-small-team-km-android-client',\n 'dpdf-bmach',\n 'dpdf-graph-collections',\n 'dpdf-lol-chat',\n 'dpdf-pizzaapp',\n 'dpdf-emergency-service-drools-app',\n 'dpdf-kahlua2',\n 'dpdf-softwaremill-common',\n 'dpdf-smsc-server',\n 'dpdf-spring-migration-analyzer',\n 'dpdf-s4',\n 'dpdf-playorm',\n 'dpdf-sshj',\n 'dpdf-android-rackspacecloud',\n 'dpdf-computercraft-spout',\n 'dpdf-arquillian-extension-persistence',\n 'dpdf-jabylon',\n 'dpdf-lyorio',\n 'dpdf-gson',\n 'dpdf-kodejava',\n 'dpdf-buildcraft',\n 'dpdf-de-webapp',\n 'dpdf-gansenbang',\n 'dpdf-swe12-drone',\n 'dpdf-movsim',\n 'dpdf-zen-project',\n 'dpdf-emma',\n 'dpdf-android_1',\n 'dpdf-cogroo4',\n 'dpdf-helma',\n 'dpdf-alitheia-core',\n 'dpdf-mobile-tour-guide',\n 'dpdf-dozer',\n 'dpdf-orionserver',\n 'dpdf-wayback',\n 'dpdf-fuzzydb',\n 'dpdf-hypergraphdb',\n 'dpdf-jogetworkflow',\n 'dpdf-sablecc',\n 'dpdf-cw-omnibus',\n 'dpdf-javassist',\n 'dpdf-betterform',\n 'dpdf-carrot2',\n 'dpdf-faban',\n 'dpdf-flume_1',\n 'dpdf-james',\n 'dpdf-catroid',\n 'dpdf-milton',\n 'dpdf-maven-3',\n 'dpdf-cfeclipse',\n 'dpdf-spring-batch',\n 'dpdf-santuario-java',\n 'dpdf-aseme',\n 'dpdf-vogella',\n 'dpdf-petals-studio']"
     },
     "execution_count": 63,
     "metadata": {},
     "output_type": "execute_result"
    }
   ],
   "source": [
    "with open( gen_dataset_file, \"r\" ) as f:\n",
    "    # Each line is assumed to be in the format: \"[timestamp] project_name\"\n",
    "    gen_projects = [ transform_project( line.strip().split( \"] \" )[ 1 ] ) for line in f if \"] \" in line ]\n",
    "gen_projects"
   ],
   "metadata": {
    "collapsed": false,
    "ExecuteTime": {
     "end_time": "2025-03-17T13:13:39.991443Z",
     "start_time": "2025-03-17T13:13:39.986633Z"
    }
   },
   "id": "329c3f8316584ee"
  },
  {
   "cell_type": "code",
   "execution_count": 64,
   "outputs": [],
   "source": [
    "df_stats = pd.read_csv( dataset_stats_file )\n",
    "df_stats = df_stats[ df_stats.project != \"all\" ]\n",
    "df_stats = df_stats.drop( 'dp_names', axis=1 )\n",
    "df_stats = df_stats.drop( 'dps_unique', axis=1 )\n",
    "df_stats = df_stats.drop( 'dps_total', axis=1 )\n",
    "df_stats = df_stats.drop( 'dps_memento', axis=1 )  # too less instances\n",
    "df_size = pd.read_csv( size_summary_file )\n",
    "df_size[ 'project' ] = df_size[ 'project' ].apply( transform_project )"
   ],
   "metadata": {
    "collapsed": false,
    "ExecuteTime": {
     "end_time": "2025-03-17T13:13:40.013819Z",
     "start_time": "2025-03-17T13:13:39.993547Z"
    }
   },
   "id": "e4337b86fde283c5"
  },
  {
   "cell_type": "code",
   "execution_count": 65,
   "outputs": [
    {
     "data": {
      "text/plain": "                             project      bytes  dps_abstract_factory  \\\n0    dpdf-maven-cuke4duke-jump-start       3939                     0   \n1                        dpdf-protoj      16161                     0   \n2               dpdf-sample-projects      16360                     0   \n3         dpdf-whartoneventscheduler      16634                     0   \n4                  dpdf-clusterbench      28977                     0   \n..                               ...        ...                   ...   \n208                    dpdf-alfresco   66698607                     0   \n209                       dpdf-ju4pa   99237265                     0   \n210                    dpdf-platform  113890053                     0   \n211          dpdf-intellij-community  115123824                     0   \n212              dpdf-liferay-portal  140481262                     0   \n\n     dps_adapter  dps_builder  dps_facade  dps_factory_method  dps_observer  \\\n0              0            0           1                   0             0   \n1              0            0           0                   0             0   \n2              0            0           0                   0             0   \n3              2            0           0                   0             0   \n4              0            0           0                   0             0   \n..           ...          ...         ...                 ...           ...   \n208            0            0           0                   0             0   \n209            0            0           0                   0             1   \n210            0            0           0                   0            34   \n211            0            0           7                   0             0   \n212            0            0           0                   0             0   \n\n     dps_singleton  dps_decorator  dps_prototype  dps_proxy  dps_visitor  \n0                0              0              0          0            0  \n1                0              0              1          0            0  \n2                0              0              0          0            1  \n3                0              0              0          0            0  \n4                1              0              0          0            0  \n..             ...            ...            ...        ...          ...  \n208              1              0              0          0            0  \n209              0              0              0          0            0  \n210              0              0              0          7            0  \n211              5              0              0          0            0  \n212              0              0              8          0            0  \n\n[213 rows x 13 columns]",
      "text/html": "<div>\n<style scoped>\n    .dataframe tbody tr th:only-of-type {\n        vertical-align: middle;\n    }\n\n    .dataframe tbody tr th {\n        vertical-align: top;\n    }\n\n    .dataframe thead th {\n        text-align: right;\n    }\n</style>\n<table border=\"1\" class=\"dataframe\">\n  <thead>\n    <tr style=\"text-align: right;\">\n      <th></th>\n      <th>project</th>\n      <th>bytes</th>\n      <th>dps_abstract_factory</th>\n      <th>dps_adapter</th>\n      <th>dps_builder</th>\n      <th>dps_facade</th>\n      <th>dps_factory_method</th>\n      <th>dps_observer</th>\n      <th>dps_singleton</th>\n      <th>dps_decorator</th>\n      <th>dps_prototype</th>\n      <th>dps_proxy</th>\n      <th>dps_visitor</th>\n    </tr>\n  </thead>\n  <tbody>\n    <tr>\n      <th>0</th>\n      <td>dpdf-maven-cuke4duke-jump-start</td>\n      <td>3939</td>\n      <td>0</td>\n      <td>0</td>\n      <td>0</td>\n      <td>1</td>\n      <td>0</td>\n      <td>0</td>\n      <td>0</td>\n      <td>0</td>\n      <td>0</td>\n      <td>0</td>\n      <td>0</td>\n    </tr>\n    <tr>\n      <th>1</th>\n      <td>dpdf-protoj</td>\n      <td>16161</td>\n      <td>0</td>\n      <td>0</td>\n      <td>0</td>\n      <td>0</td>\n      <td>0</td>\n      <td>0</td>\n      <td>0</td>\n      <td>0</td>\n      <td>1</td>\n      <td>0</td>\n      <td>0</td>\n    </tr>\n    <tr>\n      <th>2</th>\n      <td>dpdf-sample-projects</td>\n      <td>16360</td>\n      <td>0</td>\n      <td>0</td>\n      <td>0</td>\n      <td>0</td>\n      <td>0</td>\n      <td>0</td>\n      <td>0</td>\n      <td>0</td>\n      <td>0</td>\n      <td>0</td>\n      <td>1</td>\n    </tr>\n    <tr>\n      <th>3</th>\n      <td>dpdf-whartoneventscheduler</td>\n      <td>16634</td>\n      <td>0</td>\n      <td>2</td>\n      <td>0</td>\n      <td>0</td>\n      <td>0</td>\n      <td>0</td>\n      <td>0</td>\n      <td>0</td>\n      <td>0</td>\n      <td>0</td>\n      <td>0</td>\n    </tr>\n    <tr>\n      <th>4</th>\n      <td>dpdf-clusterbench</td>\n      <td>28977</td>\n      <td>0</td>\n      <td>0</td>\n      <td>0</td>\n      <td>0</td>\n      <td>0</td>\n      <td>0</td>\n      <td>1</td>\n      <td>0</td>\n      <td>0</td>\n      <td>0</td>\n      <td>0</td>\n    </tr>\n    <tr>\n      <th>...</th>\n      <td>...</td>\n      <td>...</td>\n      <td>...</td>\n      <td>...</td>\n      <td>...</td>\n      <td>...</td>\n      <td>...</td>\n      <td>...</td>\n      <td>...</td>\n      <td>...</td>\n      <td>...</td>\n      <td>...</td>\n      <td>...</td>\n    </tr>\n    <tr>\n      <th>208</th>\n      <td>dpdf-alfresco</td>\n      <td>66698607</td>\n      <td>0</td>\n      <td>0</td>\n      <td>0</td>\n      <td>0</td>\n      <td>0</td>\n      <td>0</td>\n      <td>1</td>\n      <td>0</td>\n      <td>0</td>\n      <td>0</td>\n      <td>0</td>\n    </tr>\n    <tr>\n      <th>209</th>\n      <td>dpdf-ju4pa</td>\n      <td>99237265</td>\n      <td>0</td>\n      <td>0</td>\n      <td>0</td>\n      <td>0</td>\n      <td>0</td>\n      <td>1</td>\n      <td>0</td>\n      <td>0</td>\n      <td>0</td>\n      <td>0</td>\n      <td>0</td>\n    </tr>\n    <tr>\n      <th>210</th>\n      <td>dpdf-platform</td>\n      <td>113890053</td>\n      <td>0</td>\n      <td>0</td>\n      <td>0</td>\n      <td>0</td>\n      <td>0</td>\n      <td>34</td>\n      <td>0</td>\n      <td>0</td>\n      <td>0</td>\n      <td>7</td>\n      <td>0</td>\n    </tr>\n    <tr>\n      <th>211</th>\n      <td>dpdf-intellij-community</td>\n      <td>115123824</td>\n      <td>0</td>\n      <td>0</td>\n      <td>0</td>\n      <td>7</td>\n      <td>0</td>\n      <td>0</td>\n      <td>5</td>\n      <td>0</td>\n      <td>0</td>\n      <td>0</td>\n      <td>0</td>\n    </tr>\n    <tr>\n      <th>212</th>\n      <td>dpdf-liferay-portal</td>\n      <td>140481262</td>\n      <td>0</td>\n      <td>0</td>\n      <td>0</td>\n      <td>0</td>\n      <td>0</td>\n      <td>0</td>\n      <td>0</td>\n      <td>0</td>\n      <td>8</td>\n      <td>0</td>\n      <td>0</td>\n    </tr>\n  </tbody>\n</table>\n<p>213 rows × 13 columns</p>\n</div>"
     },
     "execution_count": 65,
     "metadata": {},
     "output_type": "execute_result"
    }
   ],
   "source": [
    "df = pd.merge( df_size, df_stats, on='project' )\n",
    "df"
   ],
   "metadata": {
    "collapsed": false,
    "ExecuteTime": {
     "end_time": "2025-03-17T13:13:40.022529Z",
     "start_time": "2025-03-17T13:13:40.013089Z"
    }
   },
   "id": "877996f905a9ee94"
  },
  {
   "cell_type": "code",
   "execution_count": 66,
   "outputs": [
    {
     "data": {
      "text/plain": "                             project    bytes  dps_abstract_factory  \\\n0    dpdf-maven-cuke4duke-jump-start     3939                     0   \n1                        dpdf-protoj    16161                     0   \n2               dpdf-sample-projects    16360                     0   \n3         dpdf-whartoneventscheduler    16634                     0   \n4                  dpdf-clusterbench    28977                     0   \n..                               ...      ...                   ...   \n139                dpdf-spring-batch  4424631                     0   \n140              dpdf-santuario-java  4493804                     0   \n141                       dpdf-aseme  4616599                    10   \n144                     dpdf-vogella  5000382                     0   \n146               dpdf-petals-studio  5709274                    12   \n\n     dps_adapter  dps_builder  dps_facade  dps_factory_method  dps_observer  \\\n0              0            0           1                   0             0   \n1              0            0           0                   0             0   \n2              0            0           0                   0             0   \n3              2            0           0                   0             0   \n4              0            0           0                   0             0   \n..           ...          ...         ...                 ...           ...   \n139            2            0           0                   0             0   \n140            0            0           0                   2             0   \n141            0            0           0                   0             0   \n144            0            0           0                   0             3   \n146            0            0           0                   0             0   \n\n     dps_singleton  dps_decorator  dps_prototype  dps_proxy  dps_visitor  \n0                0              0              0          0            0  \n1                0              0              1          0            0  \n2                0              0              0          0            1  \n3                0              0              0          0            0  \n4                1              0              0          0            0  \n..             ...            ...            ...        ...          ...  \n139              0              0              0          0            0  \n140              0              0              0          3            0  \n141              0              0              0          0            0  \n144              1              0              0          0            0  \n146              0              0              0          0            0  \n\n[125 rows x 13 columns]",
      "text/html": "<div>\n<style scoped>\n    .dataframe tbody tr th:only-of-type {\n        vertical-align: middle;\n    }\n\n    .dataframe tbody tr th {\n        vertical-align: top;\n    }\n\n    .dataframe thead th {\n        text-align: right;\n    }\n</style>\n<table border=\"1\" class=\"dataframe\">\n  <thead>\n    <tr style=\"text-align: right;\">\n      <th></th>\n      <th>project</th>\n      <th>bytes</th>\n      <th>dps_abstract_factory</th>\n      <th>dps_adapter</th>\n      <th>dps_builder</th>\n      <th>dps_facade</th>\n      <th>dps_factory_method</th>\n      <th>dps_observer</th>\n      <th>dps_singleton</th>\n      <th>dps_decorator</th>\n      <th>dps_prototype</th>\n      <th>dps_proxy</th>\n      <th>dps_visitor</th>\n    </tr>\n  </thead>\n  <tbody>\n    <tr>\n      <th>0</th>\n      <td>dpdf-maven-cuke4duke-jump-start</td>\n      <td>3939</td>\n      <td>0</td>\n      <td>0</td>\n      <td>0</td>\n      <td>1</td>\n      <td>0</td>\n      <td>0</td>\n      <td>0</td>\n      <td>0</td>\n      <td>0</td>\n      <td>0</td>\n      <td>0</td>\n    </tr>\n    <tr>\n      <th>1</th>\n      <td>dpdf-protoj</td>\n      <td>16161</td>\n      <td>0</td>\n      <td>0</td>\n      <td>0</td>\n      <td>0</td>\n      <td>0</td>\n      <td>0</td>\n      <td>0</td>\n      <td>0</td>\n      <td>1</td>\n      <td>0</td>\n      <td>0</td>\n    </tr>\n    <tr>\n      <th>2</th>\n      <td>dpdf-sample-projects</td>\n      <td>16360</td>\n      <td>0</td>\n      <td>0</td>\n      <td>0</td>\n      <td>0</td>\n      <td>0</td>\n      <td>0</td>\n      <td>0</td>\n      <td>0</td>\n      <td>0</td>\n      <td>0</td>\n      <td>1</td>\n    </tr>\n    <tr>\n      <th>3</th>\n      <td>dpdf-whartoneventscheduler</td>\n      <td>16634</td>\n      <td>0</td>\n      <td>2</td>\n      <td>0</td>\n      <td>0</td>\n      <td>0</td>\n      <td>0</td>\n      <td>0</td>\n      <td>0</td>\n      <td>0</td>\n      <td>0</td>\n      <td>0</td>\n    </tr>\n    <tr>\n      <th>4</th>\n      <td>dpdf-clusterbench</td>\n      <td>28977</td>\n      <td>0</td>\n      <td>0</td>\n      <td>0</td>\n      <td>0</td>\n      <td>0</td>\n      <td>0</td>\n      <td>1</td>\n      <td>0</td>\n      <td>0</td>\n      <td>0</td>\n      <td>0</td>\n    </tr>\n    <tr>\n      <th>...</th>\n      <td>...</td>\n      <td>...</td>\n      <td>...</td>\n      <td>...</td>\n      <td>...</td>\n      <td>...</td>\n      <td>...</td>\n      <td>...</td>\n      <td>...</td>\n      <td>...</td>\n      <td>...</td>\n      <td>...</td>\n      <td>...</td>\n    </tr>\n    <tr>\n      <th>139</th>\n      <td>dpdf-spring-batch</td>\n      <td>4424631</td>\n      <td>0</td>\n      <td>2</td>\n      <td>0</td>\n      <td>0</td>\n      <td>0</td>\n      <td>0</td>\n      <td>0</td>\n      <td>0</td>\n      <td>0</td>\n      <td>0</td>\n      <td>0</td>\n    </tr>\n    <tr>\n      <th>140</th>\n      <td>dpdf-santuario-java</td>\n      <td>4493804</td>\n      <td>0</td>\n      <td>0</td>\n      <td>0</td>\n      <td>0</td>\n      <td>2</td>\n      <td>0</td>\n      <td>0</td>\n      <td>0</td>\n      <td>0</td>\n      <td>3</td>\n      <td>0</td>\n    </tr>\n    <tr>\n      <th>141</th>\n      <td>dpdf-aseme</td>\n      <td>4616599</td>\n      <td>10</td>\n      <td>0</td>\n      <td>0</td>\n      <td>0</td>\n      <td>0</td>\n      <td>0</td>\n      <td>0</td>\n      <td>0</td>\n      <td>0</td>\n      <td>0</td>\n      <td>0</td>\n    </tr>\n    <tr>\n      <th>144</th>\n      <td>dpdf-vogella</td>\n      <td>5000382</td>\n      <td>0</td>\n      <td>0</td>\n      <td>0</td>\n      <td>0</td>\n      <td>0</td>\n      <td>3</td>\n      <td>1</td>\n      <td>0</td>\n      <td>0</td>\n      <td>0</td>\n      <td>0</td>\n    </tr>\n    <tr>\n      <th>146</th>\n      <td>dpdf-petals-studio</td>\n      <td>5709274</td>\n      <td>12</td>\n      <td>0</td>\n      <td>0</td>\n      <td>0</td>\n      <td>0</td>\n      <td>0</td>\n      <td>0</td>\n      <td>0</td>\n      <td>0</td>\n      <td>0</td>\n      <td>0</td>\n    </tr>\n  </tbody>\n</table>\n<p>125 rows × 13 columns</p>\n</div>"
     },
     "execution_count": 66,
     "metadata": {},
     "output_type": "execute_result"
    }
   ],
   "source": [
    "df = df[ df[ 'project' ].isin( gen_projects ) ]\n",
    "df"
   ],
   "metadata": {
    "collapsed": false,
    "ExecuteTime": {
     "end_time": "2025-03-17T13:13:40.028390Z",
     "start_time": "2025-03-17T13:13:40.024722Z"
    }
   },
   "id": "3595f59ba3e4ee9e"
  },
  {
   "cell_type": "code",
   "execution_count": 67,
   "outputs": [
    {
     "data": {
      "text/plain": "bytes                   119996359\ndps_abstract_factory           43\ndps_adapter                    32\ndps_builder                    36\ndps_facade                     31\ndps_factory_method             52\ndps_observer                   28\ndps_singleton                  34\ndps_decorator                  53\ndps_prototype                  25\ndps_proxy                      33\ndps_visitor                    24\ndtype: int64"
     },
     "execution_count": 67,
     "metadata": {},
     "output_type": "execute_result"
    }
   ],
   "source": [
    "df.sum( numeric_only=True, axis=0 )"
   ],
   "metadata": {
    "collapsed": false,
    "ExecuteTime": {
     "end_time": "2025-03-17T13:13:40.040810Z",
     "start_time": "2025-03-17T13:13:40.028664Z"
    }
   },
   "id": "125a6cbacf57033d"
  },
  {
   "cell_type": "code",
   "execution_count": 68,
   "outputs": [
    {
     "name": "stdout",
     "output_type": "stream",
     "text": [
      "Selected projects: ['dpdf-maven-cuke4duke-jump-start', 'dpdf-protoj', 'dpdf-clusterbench', 'dpdf-javadesignpatternexercises', 'dpdf-comhappyprogtdgotchi', 'dpdf-modapi', 'dpdf-java-patterns', 'dpdf-basiclti-portlet', 'dpdf-android-rtmp', 'dpdf-swp1-teamhub', 'dpdf-ibatisworkshop', 'dpdf-swing-mvc-demo', 'dpdf-bio_quiz', 'dpdf-jagtrack', 'dpdf-uk-ejemplos', 'dpdf-lord-of-ultima-manager', 'dpdf-turtleplayer', 'dpdf-smartbiprototype', 'dpdf-brightroom', 'dpdf-cream', 'dpdf-cs230-software-project', 'dpdf-magic-config', 'dpdf-api', 'dpdf-robo-remote', 'dpdf-tapit-android-sdk-source', 'dpdf-samygo-android-remote', 'dpdf-suite', 'dpdf-downloadprovider', 'dpdf-protogrid', 'dpdf-see', 'dpdf-fafdtibb', 'dpdf-console_1', 'dpdf-jamendo-android', 'dpdf-dual-battery-widget', 'dpdf-spring-social-twitter', 'dpdf-java-game-server', 'dpdf-ccw', 'dpdf-cucumber-jvm', 'dpdf-small-team-km-android-client', 'dpdf-bmach', 'dpdf-kahlua2', 'dpdf-smsc-server', 'dpdf-spring-migration-analyzer', 'dpdf-s4', 'dpdf-playorm', 'dpdf-android-rackspacecloud', 'dpdf-computercraft-spout', 'dpdf-buildcraft', 'dpdf-de-webapp', 'dpdf-emma', 'dpdf-sablecc', 'dpdf-flume_1', 'dpdf-aseme']\n",
      "Total bytes: 27312823\n"
     ]
    },
    {
     "name": "stderr",
     "output_type": "stream",
     "text": [
      "/var/folders/zt/_0dhw2k11qq_vdzd29cd_xmh0000gn/T/ipykernel_57494/191754078.py:3: SettingWithCopyWarning: \n",
      "A value is trying to be set on a copy of a slice from a DataFrame.\n",
      "Try using .loc[row_indexer,col_indexer] = value instead\n",
      "\n",
      "See the caveats in the documentation: https://pandas.pydata.org/pandas-docs/stable/user_guide/indexing.html#returning-a-view-versus-a-copy\n",
      "  df[ design_patterns ] = df[ design_patterns ].fillna( 0 )\n"
     ]
    },
    {
     "data": {
      "text/plain": "                              project     bytes  dps_abstract_factory  \\\n0                               Total  27312823                    20   \n1     dpdf-maven-cuke4duke-jump-start      3939                     0   \n2                         dpdf-protoj     16161                     0   \n3                   dpdf-clusterbench     28977                     0   \n4     dpdf-javadesignpatternexercises     40375                     0   \n5           dpdf-comhappyprogtdgotchi     42280                     0   \n6                         dpdf-modapi     53064                     0   \n7                  dpdf-java-patterns     53707                     4   \n8               dpdf-basiclti-portlet     53992                     0   \n9                   dpdf-android-rtmp     59203                     0   \n10                  dpdf-swp1-teamhub     60408                     0   \n11                dpdf-ibatisworkshop     64807                     0   \n12                dpdf-swing-mvc-demo     68804                     0   \n13                      dpdf-bio_quiz     69095                     0   \n14                      dpdf-jagtrack     69839                     0   \n15                   dpdf-uk-ejemplos     80042                     0   \n16        dpdf-lord-of-ultima-manager     85545                     0   \n17                  dpdf-turtleplayer    104685                     0   \n18              dpdf-smartbiprototype    107326                     0   \n19                    dpdf-brightroom    115135                     0   \n20                         dpdf-cream    117232                     0   \n21        dpdf-cs230-software-project    124934                     0   \n22                  dpdf-magic-config    139613                     0   \n23                           dpdf-api    205054                     0   \n24                   dpdf-robo-remote    219558                     0   \n25      dpdf-tapit-android-sdk-source    251342                     0   \n26         dpdf-samygo-android-remote    258812                     0   \n27                         dpdf-suite    277204                     0   \n28              dpdf-downloadprovider    281117                     0   \n29                     dpdf-protogrid    292671                     0   \n30                           dpdf-see    326550                     5   \n31                      dpdf-fafdtibb    365537                     0   \n32                     dpdf-console_1    381063                     0   \n33               dpdf-jamendo-android    409027                     0   \n34           dpdf-dual-battery-widget    436322                     0   \n35         dpdf-spring-social-twitter    461304                     0   \n36              dpdf-java-game-server    468893                     1   \n37                           dpdf-ccw    524953                     0   \n38                  dpdf-cucumber-jvm    546366                     0   \n39  dpdf-small-team-km-android-client    579359                     0   \n40                         dpdf-bmach    600413                     0   \n41                       dpdf-kahlua2    660738                     0   \n42                   dpdf-smsc-server    709617                     0   \n43     dpdf-spring-migration-analyzer    742709                     0   \n44                            dpdf-s4    749799                     0   \n45                       dpdf-playorm    752009                     0   \n46        dpdf-android-rackspacecloud    765548                     0   \n47           dpdf-computercraft-spout    765782                     0   \n48                    dpdf-buildcraft   1155796                     0   \n49                     dpdf-de-webapp   1172996                     0   \n50                          dpdf-emma   1506576                     0   \n51                       dpdf-sablecc   2334122                     0   \n52                       dpdf-flume_1   2935824                     0   \n53                         dpdf-aseme   4616599                    10   \n\n    dps_adapter  dps_builder  dps_facade  dps_factory_method  dps_observer  \\\n0            20           20          20                  20            20   \n1             0            0           1                   0             0   \n2             0            0           0                   0             0   \n3             0            0           0                   0             0   \n4             0            0           0                   0             2   \n5             0            0           0                   0             2   \n6             0            0           0                   0             0   \n7             0            0           0                   0             0   \n8             9            0           0                   1             0   \n9             0            0           0                   0             0   \n10            0            0           6                   0             0   \n11            0            0           0                   0             0   \n12            0            0           0                   0             3   \n13            0            0           4                   0             0   \n14            0            0           0                   0             0   \n15            0            0           0                   0             3   \n16            5            0           0                   0             0   \n17            0            0           0                   0             1   \n18            0            0           0                   0             0   \n19            0            0           0                   0             1   \n20            0            0           0                   0             1   \n21            0            0           0                   0             2   \n22            0            0           0                   2             0   \n23            0            0           0                   2             0   \n24            0            0           0                   0             0   \n25            0            0           0                   0             0   \n26            0            0           0                   3             0   \n27            0            0           0                   0             0   \n28            3            0           2                   0             0   \n29            0            0           0                   0             0   \n30            0            0           0                   0             0   \n31            0            5           0                   1             0   \n32            0            0           0                   0             0   \n33            0           11           0                   0             0   \n34            2            0           0                   1             1   \n35            0            0           0                   0             0   \n36            0            0           0                   2             0   \n37            1            2           1                   1             0   \n38            0            0           0                   3             0   \n39            0            0           0                   0             0   \n40            0            0           0                   0             2   \n41            0            0           0                   0             0   \n42            0            0           0                   4             2   \n43            0            0           0                   0             0   \n44            0            0           0                   0             0   \n45            0            0           0                   0             0   \n46            0            0           0                   0             0   \n47            0            0           0                   0             0   \n48            0            0           0                   0             0   \n49            0            2           6                   0             0   \n50            0            0           0                   0             0   \n51            0            0           0                   0             0   \n52            0            0           0                   0             0   \n53            0            0           0                   0             0   \n\n    dps_singleton  dps_decorator  dps_prototype  dps_proxy  dps_visitor  \n0              20             29             20         23           20  \n1               0              0              0          0            0  \n2               0              0              1          0            0  \n3               1              0              0          0            0  \n4               0              0              0          0            0  \n5               0              0              0          0            0  \n6               0              0              1          0            0  \n7               0              0              0          0            0  \n8               0              0              0          0            0  \n9               0              0              1          0            0  \n10              0              0              0          0            0  \n11              2              0              0          0            0  \n12              0              0              0          0            0  \n13              0              0              0          0            0  \n14              0              0              1          0            0  \n15              0              0              0          0            0  \n16              0              0              0          0            0  \n17              0              0              0          0            0  \n18              0              0              1          0            0  \n19              0              0              0          0            0  \n20              0              0              0          0            0  \n21              0              0              0          0            0  \n22              0              5              0          0            0  \n23              4              0              0          0            0  \n24              2              0              0          0            0  \n25              0              0              4          4            0  \n26              0              0              0          0            0  \n27              0              0              1          0            0  \n28              0              0              0          0            0  \n29              0              0              2          0            0  \n30              0              0              0          0            0  \n31              0              0              0          0            0  \n32              3              0              0          0            0  \n33              0              0              0          0            0  \n34              0              0              0          0            0  \n35              0              0              1          0            0  \n36              1              0              0          0            0  \n37              0              0              0          0            1  \n38              1              0              0          0            0  \n39              2              0              0          0            0  \n40              0              0              0          0            0  \n41              0              0              1          0            0  \n42              0              0              0          0            0  \n43              0              0              0          0           11  \n44              0              0              2          0            0  \n45              1              0              0          7            0  \n46              3              0              0          0            0  \n47              0              0              1          0            0  \n48              0              0              0         12            0  \n49              0              0              0          0            0  \n50              0              0              0          0            8  \n51              0              0              3          0            0  \n52              0             24              0          0            0  \n53              0              0              0          0            0  ",
      "text/html": "<div>\n<style scoped>\n    .dataframe tbody tr th:only-of-type {\n        vertical-align: middle;\n    }\n\n    .dataframe tbody tr th {\n        vertical-align: top;\n    }\n\n    .dataframe thead th {\n        text-align: right;\n    }\n</style>\n<table border=\"1\" class=\"dataframe\">\n  <thead>\n    <tr style=\"text-align: right;\">\n      <th></th>\n      <th>project</th>\n      <th>bytes</th>\n      <th>dps_abstract_factory</th>\n      <th>dps_adapter</th>\n      <th>dps_builder</th>\n      <th>dps_facade</th>\n      <th>dps_factory_method</th>\n      <th>dps_observer</th>\n      <th>dps_singleton</th>\n      <th>dps_decorator</th>\n      <th>dps_prototype</th>\n      <th>dps_proxy</th>\n      <th>dps_visitor</th>\n    </tr>\n  </thead>\n  <tbody>\n    <tr>\n      <th>0</th>\n      <td>Total</td>\n      <td>27312823</td>\n      <td>20</td>\n      <td>20</td>\n      <td>20</td>\n      <td>20</td>\n      <td>20</td>\n      <td>20</td>\n      <td>20</td>\n      <td>29</td>\n      <td>20</td>\n      <td>23</td>\n      <td>20</td>\n    </tr>\n    <tr>\n      <th>1</th>\n      <td>dpdf-maven-cuke4duke-jump-start</td>\n      <td>3939</td>\n      <td>0</td>\n      <td>0</td>\n      <td>0</td>\n      <td>1</td>\n      <td>0</td>\n      <td>0</td>\n      <td>0</td>\n      <td>0</td>\n      <td>0</td>\n      <td>0</td>\n      <td>0</td>\n    </tr>\n    <tr>\n      <th>2</th>\n      <td>dpdf-protoj</td>\n      <td>16161</td>\n      <td>0</td>\n      <td>0</td>\n      <td>0</td>\n      <td>0</td>\n      <td>0</td>\n      <td>0</td>\n      <td>0</td>\n      <td>0</td>\n      <td>1</td>\n      <td>0</td>\n      <td>0</td>\n    </tr>\n    <tr>\n      <th>3</th>\n      <td>dpdf-clusterbench</td>\n      <td>28977</td>\n      <td>0</td>\n      <td>0</td>\n      <td>0</td>\n      <td>0</td>\n      <td>0</td>\n      <td>0</td>\n      <td>1</td>\n      <td>0</td>\n      <td>0</td>\n      <td>0</td>\n      <td>0</td>\n    </tr>\n    <tr>\n      <th>4</th>\n      <td>dpdf-javadesignpatternexercises</td>\n      <td>40375</td>\n      <td>0</td>\n      <td>0</td>\n      <td>0</td>\n      <td>0</td>\n      <td>0</td>\n      <td>2</td>\n      <td>0</td>\n      <td>0</td>\n      <td>0</td>\n      <td>0</td>\n      <td>0</td>\n    </tr>\n    <tr>\n      <th>5</th>\n      <td>dpdf-comhappyprogtdgotchi</td>\n      <td>42280</td>\n      <td>0</td>\n      <td>0</td>\n      <td>0</td>\n      <td>0</td>\n      <td>0</td>\n      <td>2</td>\n      <td>0</td>\n      <td>0</td>\n      <td>0</td>\n      <td>0</td>\n      <td>0</td>\n    </tr>\n    <tr>\n      <th>6</th>\n      <td>dpdf-modapi</td>\n      <td>53064</td>\n      <td>0</td>\n      <td>0</td>\n      <td>0</td>\n      <td>0</td>\n      <td>0</td>\n      <td>0</td>\n      <td>0</td>\n      <td>0</td>\n      <td>1</td>\n      <td>0</td>\n      <td>0</td>\n    </tr>\n    <tr>\n      <th>7</th>\n      <td>dpdf-java-patterns</td>\n      <td>53707</td>\n      <td>4</td>\n      <td>0</td>\n      <td>0</td>\n      <td>0</td>\n      <td>0</td>\n      <td>0</td>\n      <td>0</td>\n      <td>0</td>\n      <td>0</td>\n      <td>0</td>\n      <td>0</td>\n    </tr>\n    <tr>\n      <th>8</th>\n      <td>dpdf-basiclti-portlet</td>\n      <td>53992</td>\n      <td>0</td>\n      <td>9</td>\n      <td>0</td>\n      <td>0</td>\n      <td>1</td>\n      <td>0</td>\n      <td>0</td>\n      <td>0</td>\n      <td>0</td>\n      <td>0</td>\n      <td>0</td>\n    </tr>\n    <tr>\n      <th>9</th>\n      <td>dpdf-android-rtmp</td>\n      <td>59203</td>\n      <td>0</td>\n      <td>0</td>\n      <td>0</td>\n      <td>0</td>\n      <td>0</td>\n      <td>0</td>\n      <td>0</td>\n      <td>0</td>\n      <td>1</td>\n      <td>0</td>\n      <td>0</td>\n    </tr>\n    <tr>\n      <th>10</th>\n      <td>dpdf-swp1-teamhub</td>\n      <td>60408</td>\n      <td>0</td>\n      <td>0</td>\n      <td>0</td>\n      <td>6</td>\n      <td>0</td>\n      <td>0</td>\n      <td>0</td>\n      <td>0</td>\n      <td>0</td>\n      <td>0</td>\n      <td>0</td>\n    </tr>\n    <tr>\n      <th>11</th>\n      <td>dpdf-ibatisworkshop</td>\n      <td>64807</td>\n      <td>0</td>\n      <td>0</td>\n      <td>0</td>\n      <td>0</td>\n      <td>0</td>\n      <td>0</td>\n      <td>2</td>\n      <td>0</td>\n      <td>0</td>\n      <td>0</td>\n      <td>0</td>\n    </tr>\n    <tr>\n      <th>12</th>\n      <td>dpdf-swing-mvc-demo</td>\n      <td>68804</td>\n      <td>0</td>\n      <td>0</td>\n      <td>0</td>\n      <td>0</td>\n      <td>0</td>\n      <td>3</td>\n      <td>0</td>\n      <td>0</td>\n      <td>0</td>\n      <td>0</td>\n      <td>0</td>\n    </tr>\n    <tr>\n      <th>13</th>\n      <td>dpdf-bio_quiz</td>\n      <td>69095</td>\n      <td>0</td>\n      <td>0</td>\n      <td>0</td>\n      <td>4</td>\n      <td>0</td>\n      <td>0</td>\n      <td>0</td>\n      <td>0</td>\n      <td>0</td>\n      <td>0</td>\n      <td>0</td>\n    </tr>\n    <tr>\n      <th>14</th>\n      <td>dpdf-jagtrack</td>\n      <td>69839</td>\n      <td>0</td>\n      <td>0</td>\n      <td>0</td>\n      <td>0</td>\n      <td>0</td>\n      <td>0</td>\n      <td>0</td>\n      <td>0</td>\n      <td>1</td>\n      <td>0</td>\n      <td>0</td>\n    </tr>\n    <tr>\n      <th>15</th>\n      <td>dpdf-uk-ejemplos</td>\n      <td>80042</td>\n      <td>0</td>\n      <td>0</td>\n      <td>0</td>\n      <td>0</td>\n      <td>0</td>\n      <td>3</td>\n      <td>0</td>\n      <td>0</td>\n      <td>0</td>\n      <td>0</td>\n      <td>0</td>\n    </tr>\n    <tr>\n      <th>16</th>\n      <td>dpdf-lord-of-ultima-manager</td>\n      <td>85545</td>\n      <td>0</td>\n      <td>5</td>\n      <td>0</td>\n      <td>0</td>\n      <td>0</td>\n      <td>0</td>\n      <td>0</td>\n      <td>0</td>\n      <td>0</td>\n      <td>0</td>\n      <td>0</td>\n    </tr>\n    <tr>\n      <th>17</th>\n      <td>dpdf-turtleplayer</td>\n      <td>104685</td>\n      <td>0</td>\n      <td>0</td>\n      <td>0</td>\n      <td>0</td>\n      <td>0</td>\n      <td>1</td>\n      <td>0</td>\n      <td>0</td>\n      <td>0</td>\n      <td>0</td>\n      <td>0</td>\n    </tr>\n    <tr>\n      <th>18</th>\n      <td>dpdf-smartbiprototype</td>\n      <td>107326</td>\n      <td>0</td>\n      <td>0</td>\n      <td>0</td>\n      <td>0</td>\n      <td>0</td>\n      <td>0</td>\n      <td>0</td>\n      <td>0</td>\n      <td>1</td>\n      <td>0</td>\n      <td>0</td>\n    </tr>\n    <tr>\n      <th>19</th>\n      <td>dpdf-brightroom</td>\n      <td>115135</td>\n      <td>0</td>\n      <td>0</td>\n      <td>0</td>\n      <td>0</td>\n      <td>0</td>\n      <td>1</td>\n      <td>0</td>\n      <td>0</td>\n      <td>0</td>\n      <td>0</td>\n      <td>0</td>\n    </tr>\n    <tr>\n      <th>20</th>\n      <td>dpdf-cream</td>\n      <td>117232</td>\n      <td>0</td>\n      <td>0</td>\n      <td>0</td>\n      <td>0</td>\n      <td>0</td>\n      <td>1</td>\n      <td>0</td>\n      <td>0</td>\n      <td>0</td>\n      <td>0</td>\n      <td>0</td>\n    </tr>\n    <tr>\n      <th>21</th>\n      <td>dpdf-cs230-software-project</td>\n      <td>124934</td>\n      <td>0</td>\n      <td>0</td>\n      <td>0</td>\n      <td>0</td>\n      <td>0</td>\n      <td>2</td>\n      <td>0</td>\n      <td>0</td>\n      <td>0</td>\n      <td>0</td>\n      <td>0</td>\n    </tr>\n    <tr>\n      <th>22</th>\n      <td>dpdf-magic-config</td>\n      <td>139613</td>\n      <td>0</td>\n      <td>0</td>\n      <td>0</td>\n      <td>0</td>\n      <td>2</td>\n      <td>0</td>\n      <td>0</td>\n      <td>5</td>\n      <td>0</td>\n      <td>0</td>\n      <td>0</td>\n    </tr>\n    <tr>\n      <th>23</th>\n      <td>dpdf-api</td>\n      <td>205054</td>\n      <td>0</td>\n      <td>0</td>\n      <td>0</td>\n      <td>0</td>\n      <td>2</td>\n      <td>0</td>\n      <td>4</td>\n      <td>0</td>\n      <td>0</td>\n      <td>0</td>\n      <td>0</td>\n    </tr>\n    <tr>\n      <th>24</th>\n      <td>dpdf-robo-remote</td>\n      <td>219558</td>\n      <td>0</td>\n      <td>0</td>\n      <td>0</td>\n      <td>0</td>\n      <td>0</td>\n      <td>0</td>\n      <td>2</td>\n      <td>0</td>\n      <td>0</td>\n      <td>0</td>\n      <td>0</td>\n    </tr>\n    <tr>\n      <th>25</th>\n      <td>dpdf-tapit-android-sdk-source</td>\n      <td>251342</td>\n      <td>0</td>\n      <td>0</td>\n      <td>0</td>\n      <td>0</td>\n      <td>0</td>\n      <td>0</td>\n      <td>0</td>\n      <td>0</td>\n      <td>4</td>\n      <td>4</td>\n      <td>0</td>\n    </tr>\n    <tr>\n      <th>26</th>\n      <td>dpdf-samygo-android-remote</td>\n      <td>258812</td>\n      <td>0</td>\n      <td>0</td>\n      <td>0</td>\n      <td>0</td>\n      <td>3</td>\n      <td>0</td>\n      <td>0</td>\n      <td>0</td>\n      <td>0</td>\n      <td>0</td>\n      <td>0</td>\n    </tr>\n    <tr>\n      <th>27</th>\n      <td>dpdf-suite</td>\n      <td>277204</td>\n      <td>0</td>\n      <td>0</td>\n      <td>0</td>\n      <td>0</td>\n      <td>0</td>\n      <td>0</td>\n      <td>0</td>\n      <td>0</td>\n      <td>1</td>\n      <td>0</td>\n      <td>0</td>\n    </tr>\n    <tr>\n      <th>28</th>\n      <td>dpdf-downloadprovider</td>\n      <td>281117</td>\n      <td>0</td>\n      <td>3</td>\n      <td>0</td>\n      <td>2</td>\n      <td>0</td>\n      <td>0</td>\n      <td>0</td>\n      <td>0</td>\n      <td>0</td>\n      <td>0</td>\n      <td>0</td>\n    </tr>\n    <tr>\n      <th>29</th>\n      <td>dpdf-protogrid</td>\n      <td>292671</td>\n      <td>0</td>\n      <td>0</td>\n      <td>0</td>\n      <td>0</td>\n      <td>0</td>\n      <td>0</td>\n      <td>0</td>\n      <td>0</td>\n      <td>2</td>\n      <td>0</td>\n      <td>0</td>\n    </tr>\n    <tr>\n      <th>30</th>\n      <td>dpdf-see</td>\n      <td>326550</td>\n      <td>5</td>\n      <td>0</td>\n      <td>0</td>\n      <td>0</td>\n      <td>0</td>\n      <td>0</td>\n      <td>0</td>\n      <td>0</td>\n      <td>0</td>\n      <td>0</td>\n      <td>0</td>\n    </tr>\n    <tr>\n      <th>31</th>\n      <td>dpdf-fafdtibb</td>\n      <td>365537</td>\n      <td>0</td>\n      <td>0</td>\n      <td>5</td>\n      <td>0</td>\n      <td>1</td>\n      <td>0</td>\n      <td>0</td>\n      <td>0</td>\n      <td>0</td>\n      <td>0</td>\n      <td>0</td>\n    </tr>\n    <tr>\n      <th>32</th>\n      <td>dpdf-console_1</td>\n      <td>381063</td>\n      <td>0</td>\n      <td>0</td>\n      <td>0</td>\n      <td>0</td>\n      <td>0</td>\n      <td>0</td>\n      <td>3</td>\n      <td>0</td>\n      <td>0</td>\n      <td>0</td>\n      <td>0</td>\n    </tr>\n    <tr>\n      <th>33</th>\n      <td>dpdf-jamendo-android</td>\n      <td>409027</td>\n      <td>0</td>\n      <td>0</td>\n      <td>11</td>\n      <td>0</td>\n      <td>0</td>\n      <td>0</td>\n      <td>0</td>\n      <td>0</td>\n      <td>0</td>\n      <td>0</td>\n      <td>0</td>\n    </tr>\n    <tr>\n      <th>34</th>\n      <td>dpdf-dual-battery-widget</td>\n      <td>436322</td>\n      <td>0</td>\n      <td>2</td>\n      <td>0</td>\n      <td>0</td>\n      <td>1</td>\n      <td>1</td>\n      <td>0</td>\n      <td>0</td>\n      <td>0</td>\n      <td>0</td>\n      <td>0</td>\n    </tr>\n    <tr>\n      <th>35</th>\n      <td>dpdf-spring-social-twitter</td>\n      <td>461304</td>\n      <td>0</td>\n      <td>0</td>\n      <td>0</td>\n      <td>0</td>\n      <td>0</td>\n      <td>0</td>\n      <td>0</td>\n      <td>0</td>\n      <td>1</td>\n      <td>0</td>\n      <td>0</td>\n    </tr>\n    <tr>\n      <th>36</th>\n      <td>dpdf-java-game-server</td>\n      <td>468893</td>\n      <td>1</td>\n      <td>0</td>\n      <td>0</td>\n      <td>0</td>\n      <td>2</td>\n      <td>0</td>\n      <td>1</td>\n      <td>0</td>\n      <td>0</td>\n      <td>0</td>\n      <td>0</td>\n    </tr>\n    <tr>\n      <th>37</th>\n      <td>dpdf-ccw</td>\n      <td>524953</td>\n      <td>0</td>\n      <td>1</td>\n      <td>2</td>\n      <td>1</td>\n      <td>1</td>\n      <td>0</td>\n      <td>0</td>\n      <td>0</td>\n      <td>0</td>\n      <td>0</td>\n      <td>1</td>\n    </tr>\n    <tr>\n      <th>38</th>\n      <td>dpdf-cucumber-jvm</td>\n      <td>546366</td>\n      <td>0</td>\n      <td>0</td>\n      <td>0</td>\n      <td>0</td>\n      <td>3</td>\n      <td>0</td>\n      <td>1</td>\n      <td>0</td>\n      <td>0</td>\n      <td>0</td>\n      <td>0</td>\n    </tr>\n    <tr>\n      <th>39</th>\n      <td>dpdf-small-team-km-android-client</td>\n      <td>579359</td>\n      <td>0</td>\n      <td>0</td>\n      <td>0</td>\n      <td>0</td>\n      <td>0</td>\n      <td>0</td>\n      <td>2</td>\n      <td>0</td>\n      <td>0</td>\n      <td>0</td>\n      <td>0</td>\n    </tr>\n    <tr>\n      <th>40</th>\n      <td>dpdf-bmach</td>\n      <td>600413</td>\n      <td>0</td>\n      <td>0</td>\n      <td>0</td>\n      <td>0</td>\n      <td>0</td>\n      <td>2</td>\n      <td>0</td>\n      <td>0</td>\n      <td>0</td>\n      <td>0</td>\n      <td>0</td>\n    </tr>\n    <tr>\n      <th>41</th>\n      <td>dpdf-kahlua2</td>\n      <td>660738</td>\n      <td>0</td>\n      <td>0</td>\n      <td>0</td>\n      <td>0</td>\n      <td>0</td>\n      <td>0</td>\n      <td>0</td>\n      <td>0</td>\n      <td>1</td>\n      <td>0</td>\n      <td>0</td>\n    </tr>\n    <tr>\n      <th>42</th>\n      <td>dpdf-smsc-server</td>\n      <td>709617</td>\n      <td>0</td>\n      <td>0</td>\n      <td>0</td>\n      <td>0</td>\n      <td>4</td>\n      <td>2</td>\n      <td>0</td>\n      <td>0</td>\n      <td>0</td>\n      <td>0</td>\n      <td>0</td>\n    </tr>\n    <tr>\n      <th>43</th>\n      <td>dpdf-spring-migration-analyzer</td>\n      <td>742709</td>\n      <td>0</td>\n      <td>0</td>\n      <td>0</td>\n      <td>0</td>\n      <td>0</td>\n      <td>0</td>\n      <td>0</td>\n      <td>0</td>\n      <td>0</td>\n      <td>0</td>\n      <td>11</td>\n    </tr>\n    <tr>\n      <th>44</th>\n      <td>dpdf-s4</td>\n      <td>749799</td>\n      <td>0</td>\n      <td>0</td>\n      <td>0</td>\n      <td>0</td>\n      <td>0</td>\n      <td>0</td>\n      <td>0</td>\n      <td>0</td>\n      <td>2</td>\n      <td>0</td>\n      <td>0</td>\n    </tr>\n    <tr>\n      <th>45</th>\n      <td>dpdf-playorm</td>\n      <td>752009</td>\n      <td>0</td>\n      <td>0</td>\n      <td>0</td>\n      <td>0</td>\n      <td>0</td>\n      <td>0</td>\n      <td>1</td>\n      <td>0</td>\n      <td>0</td>\n      <td>7</td>\n      <td>0</td>\n    </tr>\n    <tr>\n      <th>46</th>\n      <td>dpdf-android-rackspacecloud</td>\n      <td>765548</td>\n      <td>0</td>\n      <td>0</td>\n      <td>0</td>\n      <td>0</td>\n      <td>0</td>\n      <td>0</td>\n      <td>3</td>\n      <td>0</td>\n      <td>0</td>\n      <td>0</td>\n      <td>0</td>\n    </tr>\n    <tr>\n      <th>47</th>\n      <td>dpdf-computercraft-spout</td>\n      <td>765782</td>\n      <td>0</td>\n      <td>0</td>\n      <td>0</td>\n      <td>0</td>\n      <td>0</td>\n      <td>0</td>\n      <td>0</td>\n      <td>0</td>\n      <td>1</td>\n      <td>0</td>\n      <td>0</td>\n    </tr>\n    <tr>\n      <th>48</th>\n      <td>dpdf-buildcraft</td>\n      <td>1155796</td>\n      <td>0</td>\n      <td>0</td>\n      <td>0</td>\n      <td>0</td>\n      <td>0</td>\n      <td>0</td>\n      <td>0</td>\n      <td>0</td>\n      <td>0</td>\n      <td>12</td>\n      <td>0</td>\n    </tr>\n    <tr>\n      <th>49</th>\n      <td>dpdf-de-webapp</td>\n      <td>1172996</td>\n      <td>0</td>\n      <td>0</td>\n      <td>2</td>\n      <td>6</td>\n      <td>0</td>\n      <td>0</td>\n      <td>0</td>\n      <td>0</td>\n      <td>0</td>\n      <td>0</td>\n      <td>0</td>\n    </tr>\n    <tr>\n      <th>50</th>\n      <td>dpdf-emma</td>\n      <td>1506576</td>\n      <td>0</td>\n      <td>0</td>\n      <td>0</td>\n      <td>0</td>\n      <td>0</td>\n      <td>0</td>\n      <td>0</td>\n      <td>0</td>\n      <td>0</td>\n      <td>0</td>\n      <td>8</td>\n    </tr>\n    <tr>\n      <th>51</th>\n      <td>dpdf-sablecc</td>\n      <td>2334122</td>\n      <td>0</td>\n      <td>0</td>\n      <td>0</td>\n      <td>0</td>\n      <td>0</td>\n      <td>0</td>\n      <td>0</td>\n      <td>0</td>\n      <td>3</td>\n      <td>0</td>\n      <td>0</td>\n    </tr>\n    <tr>\n      <th>52</th>\n      <td>dpdf-flume_1</td>\n      <td>2935824</td>\n      <td>0</td>\n      <td>0</td>\n      <td>0</td>\n      <td>0</td>\n      <td>0</td>\n      <td>0</td>\n      <td>0</td>\n      <td>24</td>\n      <td>0</td>\n      <td>0</td>\n      <td>0</td>\n    </tr>\n    <tr>\n      <th>53</th>\n      <td>dpdf-aseme</td>\n      <td>4616599</td>\n      <td>10</td>\n      <td>0</td>\n      <td>0</td>\n      <td>0</td>\n      <td>0</td>\n      <td>0</td>\n      <td>0</td>\n      <td>0</td>\n      <td>0</td>\n      <td>0</td>\n      <td>0</td>\n    </tr>\n  </tbody>\n</table>\n</div>"
     },
     "execution_count": 68,
     "metadata": {},
     "output_type": "execute_result"
    }
   ],
   "source": [
    "# Identify design pattern columns and fill missing values with zeros\n",
    "design_patterns = [ col for col in df.columns if col.startswith( \"dps_\" ) ]\n",
    "df[ design_patterns ] = df[ design_patterns ].fillna( 0 )\n",
    "\n",
    "projects = df[ 'project' ].tolist()\n",
    "bytes_list = df[ 'bytes' ].tolist()\n",
    "\n",
    "# For each design pattern, get its counts per project as a list\n",
    "dp_counts = { dp: df[ dp ].tolist() for dp in design_patterns }\n",
    "\n",
    "# Create the OR-Tools CP-SAT model\n",
    "model = cp_model.CpModel()\n",
    "\n",
    "# Create binary decision variables for each project\n",
    "project_vars = { }\n",
    "for i, project in enumerate( projects ):\n",
    "    project_vars[ i ] = model.NewBoolVar( f\"select_{i}\" )\n",
    "\n",
    "# Define a weight for the project selection term.\n",
    "# Adjust weight so that minimizing number of projects is prioritized along with bytes.\n",
    "# For example, if typical project sizes are around 1e6 bytes, you might choose weight = 1e6.\n",
    "weight = 1e6  # <-- Adjust this value as needed\n",
    "\n",
    "# Objective: minimize total bytes plus a penalty for each selected project\n",
    "model.Minimize(\n",
    "    sum( bytes_list[ i ] * project_vars[ i ] for i in range( len( projects ) ) ) +\n",
    "    weight * sum( project_vars[ i ] for i in range( len( projects ) ) )\n",
    ")\n",
    "\n",
    "# Constraints: For each design pattern, ensure the selected projects have at least 'target' instances\n",
    "for dp in design_patterns:\n",
    "    model.Add( sum( dp_counts[ dp ][ i ] * project_vars[ i ] for i in range( len( projects ) ) ) >= target )\n",
    "\n",
    "# Solve the model\n",
    "solver = cp_model.CpSolver()\n",
    "status = solver.Solve( model )\n",
    "\n",
    "if status == cp_model.OPTIMAL or status == cp_model.FEASIBLE:\n",
    "    selected_projects = [ projects[ i ] for i in range( len( projects ) ) if solver.Value( project_vars[ i ] ) == 1 ]\n",
    "    total_bytes = sum( bytes_list[ i ] for i in range( len( projects ) ) if solver.Value( project_vars[ i ] ) == 1 )\n",
    "    print( \"Selected projects:\", selected_projects )\n",
    "    print( \"Total bytes:\", total_bytes )\n",
    "\n",
    "    # Filter the dataframe to only include the selected projects\n",
    "    selected_df = df[ df[ 'project' ].isin( selected_projects ) ].copy()\n",
    "\n",
    "    # Calculate totals for each design pattern and the bytes column\n",
    "    totals = { 'project': \"Total\", 'bytes': selected_df[ 'bytes' ].sum() }\n",
    "    for dp in design_patterns:\n",
    "        totals[ dp ] = selected_df[ dp ].sum()\n",
    "\n",
    "    # Create a DataFrame for the totals row\n",
    "    total_df = pd.DataFrame( [ totals ] )\n",
    "\n",
    "    # Prepend the totals row to the selected projects dataframe\n",
    "    selected_df = pd.concat( [ total_df, selected_df ], ignore_index=True )\n",
    "\n",
    "    # Optionally, reorder columns so that 'project' is the first column\n",
    "    cols = [ 'project' ] + [ c for c in selected_df.columns if c != 'project' ]\n",
    "    selected_df = selected_df[ cols ]\n",
    "else:\n",
    "    print( \"No solution found.\" )\n",
    "\n",
    "selected_df"
   ],
   "metadata": {
    "collapsed": false,
    "ExecuteTime": {
     "end_time": "2025-03-17T13:13:40.092716Z",
     "start_time": "2025-03-17T13:13:40.038983Z"
    }
   },
   "id": "f71d5ed205639eae"
  },
  {
   "cell_type": "code",
   "execution_count": 70,
   "outputs": [
    {
     "data": {
      "text/plain": "['dpdf-android-rackspacecloud',\n 'dpdf-android-rtmp',\n 'dpdf-api',\n 'dpdf-aseme',\n 'dpdf-basiclti-portlet',\n 'dpdf-bio_quiz',\n 'dpdf-bmach',\n 'dpdf-brightroom',\n 'dpdf-buildcraft',\n 'dpdf-ccw',\n 'dpdf-clusterbench',\n 'dpdf-comhappyprogtdgotchi',\n 'dpdf-computercraft-spout',\n 'dpdf-console_1',\n 'dpdf-cream',\n 'dpdf-cs230-software-project',\n 'dpdf-cucumber-jvm',\n 'dpdf-de-webapp',\n 'dpdf-downloadprovider',\n 'dpdf-dual-battery-widget',\n 'dpdf-emma',\n 'dpdf-fafdtibb',\n 'dpdf-flume_1',\n 'dpdf-ibatisworkshop',\n 'dpdf-jagtrack',\n 'dpdf-jamendo-android',\n 'dpdf-java-game-server',\n 'dpdf-java-patterns',\n 'dpdf-javadesignpatternexercises',\n 'dpdf-kahlua2',\n 'dpdf-lord-of-ultima-manager',\n 'dpdf-magic-config',\n 'dpdf-maven-cuke4duke-jump-start',\n 'dpdf-modapi',\n 'dpdf-playorm',\n 'dpdf-protogrid',\n 'dpdf-protoj',\n 'dpdf-robo-remote',\n 'dpdf-s4',\n 'dpdf-sablecc',\n 'dpdf-samygo-android-remote',\n 'dpdf-see',\n 'dpdf-small-team-km-android-client',\n 'dpdf-smartbiprototype',\n 'dpdf-smsc-server',\n 'dpdf-spring-migration-analyzer',\n 'dpdf-spring-social-twitter',\n 'dpdf-suite',\n 'dpdf-swing-mvc-demo',\n 'dpdf-swp1-teamhub',\n 'dpdf-tapit-android-sdk-source',\n 'dpdf-turtleplayer',\n 'dpdf-uk-ejemplos']"
     },
     "execution_count": 70,
     "metadata": {},
     "output_type": "execute_result"
    }
   ],
   "source": [
    "sorted( selected_projects )"
   ],
   "metadata": {
    "collapsed": false,
    "ExecuteTime": {
     "end_time": "2025-03-17T13:16:48.393887Z",
     "start_time": "2025-03-17T13:16:48.388975Z"
    }
   },
   "id": "b3a50c1d81fdf306"
  },
  {
   "cell_type": "code",
   "execution_count": null,
   "outputs": [],
   "source": [],
   "metadata": {
    "collapsed": false
   },
   "id": "fde1f3968893cb69"
  }
 ],
 "metadata": {
  "kernelspec": {
   "display_name": "Python 3",
   "language": "python",
   "name": "python3"
  },
  "language_info": {
   "codemirror_mode": {
    "name": "ipython",
    "version": 2
   },
   "file_extension": ".py",
   "mimetype": "text/x-python",
   "name": "python",
   "nbconvert_exporter": "python",
   "pygments_lexer": "ipython2",
   "version": "2.7.6"
  }
 },
 "nbformat": 4,
 "nbformat_minor": 5
}
