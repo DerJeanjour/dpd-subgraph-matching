{
 "cells": [
  {
   "cell_type": "code",
   "execution_count": 1078,
   "id": "initial_id",
   "metadata": {
    "collapsed": true,
    "ExecuteTime": {
     "end_time": "2025-03-28T22:01:52.343339Z",
     "start_time": "2025-03-28T22:01:52.323013Z"
    }
   },
   "outputs": [],
   "source": [
    "from itertools import islice\n",
    "import numpy as np\n",
    "\n",
    "import matching.glema.common.utils.arg_utils as arg_utils\n",
    "import matching.glema.common.utils.model_utils as model_utils\n",
    "import matching.glema.evaluation.evaluate_pattern_matching as epm\n",
    "import matching.misc.cpg_const as cpg_const\n",
    "from matching.glema.common.dataset import DesignPatternDataset\n",
    "from matching.glema.common.model import InferenceGNN"
   ]
  },
  {
   "cell_type": "code",
   "execution_count": 1079,
   "outputs": [],
   "source": [
    "args = arg_utils.parse_args( use_default=True )\n",
    "args.dataset = \"dpdf\"\n",
    "args.directed = True\n",
    "args.anchored = True\n",
    "version = model_utils.get_latest_model_version( args )\n",
    "model_name = model_utils.get_model_name( args, version )\n",
    "args = arg_utils.load_args( args, model_name )\n",
    "\n",
    "args.dataset = \"pmart_all\"\n",
    "args.pattern_dataset = \"dpdf\"\n",
    "args.normalized = True\n",
    "args.test_data = True\n",
    "args.batch_size = 128\n",
    "args.num_workers = 1"
   ],
   "metadata": {
    "collapsed": false,
    "ExecuteTime": {
     "end_time": "2025-03-28T22:01:52.343497Z",
     "start_time": "2025-03-28T22:01:52.326425Z"
    }
   },
   "id": "89040f14b981b587"
  },
  {
   "cell_type": "code",
   "execution_count": 1080,
   "outputs": [
    {
     "name": "stdout",
     "output_type": "stream",
     "text": [
      "Loading model from /Users/jeanjour/Documents/projects/python/dpd-subgraph-matching/matching/glema/training/save/dpdf_directed_anchored_v1/model.pt ...\n"
     ]
    }
   ],
   "source": [
    "model = InferenceGNN( args )"
   ],
   "metadata": {
    "collapsed": false,
    "ExecuteTime": {
     "end_time": "2025-03-28T22:01:52.372169Z",
     "start_time": "2025-03-28T22:01:52.330936Z"
    }
   },
   "id": "ae84b62220a93e31"
  },
  {
   "cell_type": "code",
   "execution_count": 1081,
   "outputs": [
    {
     "name": "stdout",
     "output_type": "stream",
     "text": [
      "Loading sources from pmart_all ...\n"
     ]
    },
    {
     "name": "stderr",
     "output_type": "stream",
     "text": [
      "100%|██████████| 1267/1267 [00:00<00:00, 2429.50it/s]\n"
     ]
    },
    {
     "name": "stdout",
     "output_type": "stream",
     "text": [
      "Loading sources from dpdf ...\n"
     ]
    },
    {
     "name": "stderr",
     "output_type": "stream",
     "text": [
      "100%|██████████| 7469/7469 [00:03<00:00, 2248.88it/s]\n"
     ]
    }
   ],
   "source": [
    "pattern_types = [\n",
    "    #cpg_const.DesignPatternType.ABSTRACT_FACTORY.value,\n",
    "    cpg_const.DesignPatternType.ADAPTER.value,\n",
    "    cpg_const.DesignPatternType.BUILDER.value,\n",
    "    # cpg_const.DesignPatternType.FACADE.value,\n",
    "    cpg_const.DesignPatternType.FACTORY_METHOD.value,\n",
    "    cpg_const.DesignPatternType.OBSERVER.value,\n",
    "    cpg_const.DesignPatternType.SINGLETON.value,\n",
    "    cpg_const.DesignPatternType.DECORATOR.value,\n",
    "    cpg_const.DesignPatternType.MEMENTO.value,\n",
    "    # cpg_const.DesignPatternType.PROXY.value,\n",
    "    # cpg_const.DesignPatternType.VISITOR.value\n",
    "]\n",
    "dataset = DesignPatternDataset( args, max_pattern_examples=30, query_pattern=True, pattern_types=pattern_types )\n",
    "up_sources = dataset.get_sources()\n",
    "up_patterns = dataset.get_patterns()"
   ],
   "metadata": {
    "collapsed": false,
    "ExecuteTime": {
     "end_time": "2025-03-28T22:01:56.437756Z",
     "start_time": "2025-03-28T22:01:52.370810Z"
    }
   },
   "id": "c4780d4557d0e419"
  },
  {
   "cell_type": "code",
   "execution_count": 1082,
   "outputs": [
    {
     "name": "stdout",
     "output_type": "stream",
     "text": [
      "Filtering sources ...\n"
     ]
    },
    {
     "name": "stderr",
     "output_type": "stream",
     "text": [
      "100%|██████████| 1267/1267 [00:00<00:00, 4164720.35it/s]\n"
     ]
    },
    {
     "name": "stdout",
     "output_type": "stream",
     "text": [
      "Normalizing sources ...\n"
     ]
    },
    {
     "name": "stderr",
     "output_type": "stream",
     "text": [
      "100%|██████████| 214/214 [00:00<00:00, 41439.57it/s]\n"
     ]
    },
    {
     "name": "stdout",
     "output_type": "stream",
     "text": [
      "Normalizing patterns ...\n"
     ]
    },
    {
     "name": "stderr",
     "output_type": "stream",
     "text": [
      "100%|██████████| 7/7 [00:00<00:00, 3757.86it/s]"
     ]
    },
    {
     "name": "stdout",
     "output_type": "stream",
     "text": [
      "source_pattern_counts: {'ADAPTER': 13, 'BUILDER': 25, 'DECORATOR': 39, 'FACTORY_METHOD': 45, 'MEMENTO': 17, 'N/A': 3, 'OBSERVER': 65, 'SINGLETON': 7}\n",
      "pattern_instance_counts: {'ADAPTER': 6, 'BUILDER': 3, 'DECORATOR': 3, 'FACTORY_METHOD': 6, 'MEMENTO': 2, 'N/A': 3, 'OBSERVER': 10, 'SINGLETON': 7}\n",
      "pattern_example_counts: {'ADAPTER': 16, 'BUILDER': 17, 'DECORATOR': 11, 'FACTORY_METHOD': 18, 'MEMENTO': 4, 'OBSERVER': 20, 'SINGLETON': 15}\n"
     ]
    },
    {
     "name": "stderr",
     "output_type": "stream",
     "text": [
      "\n"
     ]
    }
   ],
   "source": [
    "max_norm_d = 12\n",
    "\n",
    "p_sources = up_sources\n",
    "p_sources = epm.filter_sources( p_sources, dataset.get_source_patterns(),\n",
    "                                max_sources_per_pattern=-1, max_na_patterns=3 )\n",
    "p_sources = epm.normalize_sources( p_sources, max_distance=max_norm_d )\n",
    "\n",
    "p_patterns = up_patterns\n",
    "p_patterns = epm.normalize_patterns( p_patterns, max_distance=max_norm_d  )\n",
    "#p_patterns = epm.get_common_patterns( p_patterns, max_node_distance=max_norm_d, min_nodes=8 )\n",
    "\n",
    "dataset.set_sources( p_sources )\n",
    "dataset.set_patterns( p_patterns )\n",
    "dataset.compute_samples()\n",
    "\n",
    "epm.print_pattern_counts( dataset )"
   ],
   "metadata": {
    "collapsed": false,
    "ExecuteTime": {
     "end_time": "2025-03-28T22:01:56.559952Z",
     "start_time": "2025-03-28T22:01:56.439411Z"
    }
   },
   "id": "d8d9222956007845"
  },
  {
   "cell_type": "code",
   "execution_count": 1083,
   "outputs": [
    {
     "name": "stdout",
     "output_type": "stream",
     "text": [
      "Inference of dataset ...\n"
     ]
    },
    {
     "name": "stderr",
     "output_type": "stream",
     "text": [
      "100%|██████████| 169/169 [00:05<00:00, 31.77it/s]"
     ]
    },
    {
     "name": "stdout",
     "output_type": "stream",
     "text": [
      "source: 21614 / queries: 21614\n",
      "preds: 21614 / metas: 21614\n",
      "meta example: {'source_type': 'N/A', 'pattern_type': 'SINGLETON', 'gidx': 726, 'record_scope': 'Object', 'record_dataset': 'p_mart-1_-_quickuml_2001', 'pattern_id': 726, 'pred_w': 1.0}\n"
     ]
    },
    {
     "name": "stderr",
     "output_type": "stream",
     "text": [
      "\n"
     ]
    }
   ],
   "source": [
    "preds, metas, sources, queries = epm.inference( model, dataset, args,\n",
    "                                                #sample_processor=epm.sample_processor_k_normalized,\n",
    "                                                #min_d_offset=1, max_d_offset=2,\n",
    "                                                collect_graphs=True )\n",
    "\n",
    "print( f\"source: {len( sources )} / queries: {len( queries )}\" )\n",
    "print( f\"preds: {len( preds )} / metas: {len( metas )}\" )\n",
    "print( \"meta example:\", metas[ 0 ] )"
   ],
   "metadata": {
    "collapsed": false,
    "ExecuteTime": {
     "end_time": "2025-03-28T22:02:01.891169Z",
     "start_time": "2025-03-28T22:01:56.558272Z"
    }
   },
   "id": "48b8cffb776e6085"
  },
  {
   "cell_type": "code",
   "execution_count": 1093,
   "outputs": [],
   "source": [
    "groups_by_source = epm.group_by_source( metas )\n",
    "groups_by_instance = epm.group_by_pattern_instance( metas )\n",
    "#groups_by_source = epm.group_by_pattern_instance( metas )"
   ],
   "metadata": {
    "collapsed": false,
    "ExecuteTime": {
     "end_time": "2025-03-28T22:02:58.265783Z",
     "start_time": "2025-03-28T22:02:58.263996Z"
    }
   },
   "id": "deb52f1b25357984"
  },
  {
   "cell_type": "code",
   "execution_count": 1094,
   "outputs": [
    {
     "data": {
      "text/plain": "'\\nfor k, v in islice( source_types.items(), 3 ):\\n    print( f\"type::{k}={source_types[ k ]}\" )\\n    print( f\"group::{k}={groups_by_source[ k ]}\" )\\n    print( f\"pred::{k}={source_preds[ k ]}\\n\" )\\n'"
     },
     "execution_count": 1094,
     "metadata": {},
     "output_type": "execute_result"
    }
   ],
   "source": [
    "source_preds = epm.compute_source_preds( groups_by_source, preds, metas,\n",
    "                                         #pred_aggregator=epm.aggregate_preds_mean,\n",
    "                                         pred_aggregator=epm.aggregate_preds_by_quantile, q=0.999\n",
    "                                        )\n",
    "source_types = epm.compute_source_types( groups_by_source, metas )\n",
    "\n",
    "conf_step = 0.7\n",
    "#true_labels, pred_labels, pred_scores = epm.compute_labels( source_types, source_preds, conf=conf_step )\n",
    "#true_labels, pred_labels, pred_scores = epm.compute_labels_legacy( source_types, source_preds, conf=conf_step )\n",
    "#groups = groups_by_source\n",
    "\n",
    "true_labels, pred_labels, pred_scores = epm.compute_labels_by_instance( source_types, source_preds, groups_by_instance, metas, conf=conf_step )\n",
    "groups = groups_by_instance\n",
    "\n",
    "\"\"\"\n",
    "for k, v in islice( source_types.items(), 3 ):\n",
    "    print( f\"type::{k}={source_types[ k ]}\" )\n",
    "    print( f\"group::{k}={groups_by_source[ k ]}\" )\n",
    "    print( f\"pred::{k}={source_preds[ k ]}\\n\" )\n",
    "\"\"\""
   ],
   "metadata": {
    "collapsed": false,
    "ExecuteTime": {
     "end_time": "2025-03-28T22:02:58.599104Z",
     "start_time": "2025-03-28T22:02:58.542533Z"
    }
   },
   "id": "9be4071d6c31821f"
  },
  {
   "cell_type": "code",
   "execution_count": 1095,
   "outputs": [
    {
     "name": "stdout",
     "output_type": "stream",
     "text": [
      "Roc=[0.641] Acc=[0.38] Prec=[0.492] Rec=[0.361] F1=[0.353] AvgPrec=[0.334]\n"
     ]
    }
   ],
   "source": [
    "x_labels, y_labels = epm.to_numeric_labels( true_labels, pred_labels )\n",
    "metrics = epm.compute_metrics( x_labels, y_labels )\n",
    "metrics[ \"conf\" ] = conf_step\n",
    "print( f\"Roc=[{metrics[ 'roc' ]:.3}] Acc=[{metrics[ 'acc' ]:.3}] \"\n",
    "       f\"Prec=[{metrics[ 'pre' ]:.3}] Rec=[{metrics[ 'rec' ]:.3}] F1=[{metrics[ 'f1s' ]:.3}] \"\n",
    "       f\"AvgPrec=[{metrics[ 'avp' ]:.3}]\" )"
   ],
   "metadata": {
    "collapsed": false,
    "ExecuteTime": {
     "end_time": "2025-03-28T22:02:58.799539Z",
     "start_time": "2025-03-28T22:02:58.792340Z"
    }
   },
   "id": "e8397fc2f58d5a3e"
  },
  {
   "cell_type": "code",
   "execution_count": 1096,
   "outputs": [
    {
     "data": {
      "text/plain": "    gidx                    dataset  \\\n0    726   p_mart-1_-_quickuml_2001   \n1    864       p_mart-5_-_junit_v37   \n2    430        p_mart-11_-_pmd_v18   \n3   1327    p_mart-6_-_jhotdraw_v51   \n4   1328    p_mart-6_-_jhotdraw_v51   \n5   1346  p_mart-8_-_mapperxml_v197   \n6   1347  p_mart-8_-_mapperxml_v197   \n7   1382        p_mart-11_-_pmd_v18   \n8   1383        p_mart-11_-_pmd_v18   \n9   1252   p_mart-1_-_quickuml_2001   \n10  1314       p_mart-5_-_junit_v37   \n11  1316       p_mart-5_-_junit_v37   \n12  1315       p_mart-5_-_junit_v37   \n13  1248   p_mart-1_-_quickuml_2001   \n14  1372        p_mart-11_-_pmd_v18   \n15  1373        p_mart-11_-_pmd_v18   \n16  1361      p_mart-10_-_nutch_v04   \n17  1362      p_mart-10_-_nutch_v04   \n18  1331    p_mart-6_-_jhotdraw_v51   \n19  1318       p_mart-5_-_junit_v37   \n20  1332    p_mart-6_-_jhotdraw_v51   \n21  1350  p_mart-8_-_mapperxml_v197   \n22  1343  p_mart-8_-_mapperxml_v197   \n23  1356      p_mart-10_-_nutch_v04   \n24  1323    p_mart-6_-_jhotdraw_v51   \n25  1324    p_mart-6_-_jhotdraw_v51   \n26  1325    p_mart-6_-_jhotdraw_v51   \n27  1376        p_mart-11_-_pmd_v18   \n28  1377        p_mart-11_-_pmd_v18   \n29  1312       p_mart-5_-_junit_v37   \n30  1322    p_mart-6_-_jhotdraw_v51   \n31  1366      p_mart-10_-_nutch_v04   \n32  1371        p_mart-11_-_pmd_v18   \n33  1319    p_mart-6_-_jhotdraw_v51   \n34  1367      p_mart-10_-_nutch_v04   \n35  1342  p_mart-8_-_mapperxml_v197   \n\n                                               record       true_type  \\\n0                                              Object             N/A   \n1      junit.awtui.TestRunner.ActionListener936706767             N/A   \n2   net.sourceforge.pmd.rules.design.LongParameter...             N/A   \n3       CH.ifa.draw.framework.FigureChangeListener#81        OBSERVER   \n4                    CH.ifa.draw.framework.Drawing#82        OBSERVER   \n5                         com.taursys.xml.Trigger#100  FACTORY_METHOD   \n6                   com.taursys.xml.CheckboxField#101        OBSERVER   \n7   net.sourceforge.pmd.util.viewer.model.ViewerMo...        OBSERVER   \n8   test.net.sourceforge.pmd.rules.design.UseSingl...        OBSERVER   \n9                         diagram.tool.AbstractTool#6        OBSERVER   \n10                        junit.swingui.TestRunner#68       DECORATOR   \n11    junit.swingui.TestSelector.KeySelectListener#70        OBSERVER   \n12  junit.swingui.TestSelector.DoubleClickListener#69        OBSERVER   \n13                      uml.builder.MetaComposition#2         BUILDER   \n14  net.sourceforge.pmd.renderers.SummaryHTMLRende...         BUILDER   \n15              net.sourceforge.pmd.ant.Formatter#127         BUILDER   \n16  net.nutch.db.EditSectionGroupWriter.LinkURLExt...         MEMENTO   \n17                      net.nutch.io.SequenceFile#116         MEMENTO   \n18                      CH.ifa.draw.util.Clipboard#85       SINGLETON   \n19                            junit.runner.Version#72       SINGLETON   \n20                        CH.ifa.draw.util.Iconkit#86       SINGLETON   \n21                com.taursys.tools.CodeGenerator#104       SINGLETON   \n22                         com.taursys.debug.Debug#97         ADAPTER   \n23                      net.nutch.io.NullWritable#110       SINGLETON   \n24                 CH.ifa.draw.framework.Connector#77  FACTORY_METHOD   \n25                 CH.ifa.draw.standard.WestHandle#78  FACTORY_METHOD   \n26              CH.ifa.draw.standard.HandleTracker#79  FACTORY_METHOD   \n27          net.sourceforge.pmd.symboltable.Scope#130  FACTORY_METHOD   \n28           net.sourceforge.pmd.TargetJDKVersion#131  FACTORY_METHOD   \n29                   junit.extensions.RepeatedTest#66       DECORATOR   \n30            CH.ifa.draw.standard.DecoratorFigure#76       DECORATOR   \n31                              net.nutch.db.Page#120         ADAPTER   \n32                net.sourceforge.pmd.ant.PMDTask#125         ADAPTER   \n33                   CH.ifa.draw.framework.Locator#73         ADAPTER   \n34                net.nutch.pagedb.FetchListEntry#121         ADAPTER   \n35  com.taursys.dom.DOM_1_20000929_DocumentAdapter#96         ADAPTER   \n\n         pred_type  pred_score  \n0          BUILDER    0.988963  \n1        DECORATOR    0.976335  \n2          BUILDER    0.997231  \n3        DECORATOR    0.997185  \n4        SINGLETON    0.990939  \n5   FACTORY_METHOD    0.991263  \n6          BUILDER    0.997231  \n7         OBSERVER    0.994573  \n8         OBSERVER    0.994868  \n9          BUILDER    0.997959  \n10       DECORATOR    0.976335  \n11       SINGLETON    0.703508  \n12        OBSERVER    0.980355  \n13         BUILDER    0.997309  \n14         BUILDER    0.996886  \n15       SINGLETON    0.996726  \n16         MEMENTO    0.703508  \n17       SINGLETON    0.996132  \n18        OBSERVER    0.994868  \n19         BUILDER    0.988963  \n20       DECORATOR    0.965144  \n21         BUILDER    0.988963  \n22       SINGLETON    0.996888  \n23             N/A    0.676532  \n24         BUILDER    0.997234  \n25  FACTORY_METHOD    0.996732  \n26  FACTORY_METHOD    0.996549  \n27  FACTORY_METHOD    0.993326  \n28  FACTORY_METHOD    0.996075  \n29       DECORATOR    0.997186  \n30         BUILDER    0.997231  \n31  FACTORY_METHOD    0.996085  \n32             N/A    0.698244  \n33       SINGLETON    0.991587  \n34         BUILDER    0.994278  \n35             N/A    0.676532  ",
      "text/html": "<div>\n<style scoped>\n    .dataframe tbody tr th:only-of-type {\n        vertical-align: middle;\n    }\n\n    .dataframe tbody tr th {\n        vertical-align: top;\n    }\n\n    .dataframe thead th {\n        text-align: right;\n    }\n</style>\n<table border=\"1\" class=\"dataframe\">\n  <thead>\n    <tr style=\"text-align: right;\">\n      <th></th>\n      <th>gidx</th>\n      <th>dataset</th>\n      <th>record</th>\n      <th>true_type</th>\n      <th>pred_type</th>\n      <th>pred_score</th>\n    </tr>\n  </thead>\n  <tbody>\n    <tr>\n      <th>0</th>\n      <td>726</td>\n      <td>p_mart-1_-_quickuml_2001</td>\n      <td>Object</td>\n      <td>N/A</td>\n      <td>BUILDER</td>\n      <td>0.988963</td>\n    </tr>\n    <tr>\n      <th>1</th>\n      <td>864</td>\n      <td>p_mart-5_-_junit_v37</td>\n      <td>junit.awtui.TestRunner.ActionListener936706767</td>\n      <td>N/A</td>\n      <td>DECORATOR</td>\n      <td>0.976335</td>\n    </tr>\n    <tr>\n      <th>2</th>\n      <td>430</td>\n      <td>p_mart-11_-_pmd_v18</td>\n      <td>net.sourceforge.pmd.rules.design.LongParameter...</td>\n      <td>N/A</td>\n      <td>BUILDER</td>\n      <td>0.997231</td>\n    </tr>\n    <tr>\n      <th>3</th>\n      <td>1327</td>\n      <td>p_mart-6_-_jhotdraw_v51</td>\n      <td>CH.ifa.draw.framework.FigureChangeListener#81</td>\n      <td>OBSERVER</td>\n      <td>DECORATOR</td>\n      <td>0.997185</td>\n    </tr>\n    <tr>\n      <th>4</th>\n      <td>1328</td>\n      <td>p_mart-6_-_jhotdraw_v51</td>\n      <td>CH.ifa.draw.framework.Drawing#82</td>\n      <td>OBSERVER</td>\n      <td>SINGLETON</td>\n      <td>0.990939</td>\n    </tr>\n    <tr>\n      <th>5</th>\n      <td>1346</td>\n      <td>p_mart-8_-_mapperxml_v197</td>\n      <td>com.taursys.xml.Trigger#100</td>\n      <td>FACTORY_METHOD</td>\n      <td>FACTORY_METHOD</td>\n      <td>0.991263</td>\n    </tr>\n    <tr>\n      <th>6</th>\n      <td>1347</td>\n      <td>p_mart-8_-_mapperxml_v197</td>\n      <td>com.taursys.xml.CheckboxField#101</td>\n      <td>OBSERVER</td>\n      <td>BUILDER</td>\n      <td>0.997231</td>\n    </tr>\n    <tr>\n      <th>7</th>\n      <td>1382</td>\n      <td>p_mart-11_-_pmd_v18</td>\n      <td>net.sourceforge.pmd.util.viewer.model.ViewerMo...</td>\n      <td>OBSERVER</td>\n      <td>OBSERVER</td>\n      <td>0.994573</td>\n    </tr>\n    <tr>\n      <th>8</th>\n      <td>1383</td>\n      <td>p_mart-11_-_pmd_v18</td>\n      <td>test.net.sourceforge.pmd.rules.design.UseSingl...</td>\n      <td>OBSERVER</td>\n      <td>OBSERVER</td>\n      <td>0.994868</td>\n    </tr>\n    <tr>\n      <th>9</th>\n      <td>1252</td>\n      <td>p_mart-1_-_quickuml_2001</td>\n      <td>diagram.tool.AbstractTool#6</td>\n      <td>OBSERVER</td>\n      <td>BUILDER</td>\n      <td>0.997959</td>\n    </tr>\n    <tr>\n      <th>10</th>\n      <td>1314</td>\n      <td>p_mart-5_-_junit_v37</td>\n      <td>junit.swingui.TestRunner#68</td>\n      <td>DECORATOR</td>\n      <td>DECORATOR</td>\n      <td>0.976335</td>\n    </tr>\n    <tr>\n      <th>11</th>\n      <td>1316</td>\n      <td>p_mart-5_-_junit_v37</td>\n      <td>junit.swingui.TestSelector.KeySelectListener#70</td>\n      <td>OBSERVER</td>\n      <td>SINGLETON</td>\n      <td>0.703508</td>\n    </tr>\n    <tr>\n      <th>12</th>\n      <td>1315</td>\n      <td>p_mart-5_-_junit_v37</td>\n      <td>junit.swingui.TestSelector.DoubleClickListener#69</td>\n      <td>OBSERVER</td>\n      <td>OBSERVER</td>\n      <td>0.980355</td>\n    </tr>\n    <tr>\n      <th>13</th>\n      <td>1248</td>\n      <td>p_mart-1_-_quickuml_2001</td>\n      <td>uml.builder.MetaComposition#2</td>\n      <td>BUILDER</td>\n      <td>BUILDER</td>\n      <td>0.997309</td>\n    </tr>\n    <tr>\n      <th>14</th>\n      <td>1372</td>\n      <td>p_mart-11_-_pmd_v18</td>\n      <td>net.sourceforge.pmd.renderers.SummaryHTMLRende...</td>\n      <td>BUILDER</td>\n      <td>BUILDER</td>\n      <td>0.996886</td>\n    </tr>\n    <tr>\n      <th>15</th>\n      <td>1373</td>\n      <td>p_mart-11_-_pmd_v18</td>\n      <td>net.sourceforge.pmd.ant.Formatter#127</td>\n      <td>BUILDER</td>\n      <td>SINGLETON</td>\n      <td>0.996726</td>\n    </tr>\n    <tr>\n      <th>16</th>\n      <td>1361</td>\n      <td>p_mart-10_-_nutch_v04</td>\n      <td>net.nutch.db.EditSectionGroupWriter.LinkURLExt...</td>\n      <td>MEMENTO</td>\n      <td>MEMENTO</td>\n      <td>0.703508</td>\n    </tr>\n    <tr>\n      <th>17</th>\n      <td>1362</td>\n      <td>p_mart-10_-_nutch_v04</td>\n      <td>net.nutch.io.SequenceFile#116</td>\n      <td>MEMENTO</td>\n      <td>SINGLETON</td>\n      <td>0.996132</td>\n    </tr>\n    <tr>\n      <th>18</th>\n      <td>1331</td>\n      <td>p_mart-6_-_jhotdraw_v51</td>\n      <td>CH.ifa.draw.util.Clipboard#85</td>\n      <td>SINGLETON</td>\n      <td>OBSERVER</td>\n      <td>0.994868</td>\n    </tr>\n    <tr>\n      <th>19</th>\n      <td>1318</td>\n      <td>p_mart-5_-_junit_v37</td>\n      <td>junit.runner.Version#72</td>\n      <td>SINGLETON</td>\n      <td>BUILDER</td>\n      <td>0.988963</td>\n    </tr>\n    <tr>\n      <th>20</th>\n      <td>1332</td>\n      <td>p_mart-6_-_jhotdraw_v51</td>\n      <td>CH.ifa.draw.util.Iconkit#86</td>\n      <td>SINGLETON</td>\n      <td>DECORATOR</td>\n      <td>0.965144</td>\n    </tr>\n    <tr>\n      <th>21</th>\n      <td>1350</td>\n      <td>p_mart-8_-_mapperxml_v197</td>\n      <td>com.taursys.tools.CodeGenerator#104</td>\n      <td>SINGLETON</td>\n      <td>BUILDER</td>\n      <td>0.988963</td>\n    </tr>\n    <tr>\n      <th>22</th>\n      <td>1343</td>\n      <td>p_mart-8_-_mapperxml_v197</td>\n      <td>com.taursys.debug.Debug#97</td>\n      <td>ADAPTER</td>\n      <td>SINGLETON</td>\n      <td>0.996888</td>\n    </tr>\n    <tr>\n      <th>23</th>\n      <td>1356</td>\n      <td>p_mart-10_-_nutch_v04</td>\n      <td>net.nutch.io.NullWritable#110</td>\n      <td>SINGLETON</td>\n      <td>N/A</td>\n      <td>0.676532</td>\n    </tr>\n    <tr>\n      <th>24</th>\n      <td>1323</td>\n      <td>p_mart-6_-_jhotdraw_v51</td>\n      <td>CH.ifa.draw.framework.Connector#77</td>\n      <td>FACTORY_METHOD</td>\n      <td>BUILDER</td>\n      <td>0.997234</td>\n    </tr>\n    <tr>\n      <th>25</th>\n      <td>1324</td>\n      <td>p_mart-6_-_jhotdraw_v51</td>\n      <td>CH.ifa.draw.standard.WestHandle#78</td>\n      <td>FACTORY_METHOD</td>\n      <td>FACTORY_METHOD</td>\n      <td>0.996732</td>\n    </tr>\n    <tr>\n      <th>26</th>\n      <td>1325</td>\n      <td>p_mart-6_-_jhotdraw_v51</td>\n      <td>CH.ifa.draw.standard.HandleTracker#79</td>\n      <td>FACTORY_METHOD</td>\n      <td>FACTORY_METHOD</td>\n      <td>0.996549</td>\n    </tr>\n    <tr>\n      <th>27</th>\n      <td>1376</td>\n      <td>p_mart-11_-_pmd_v18</td>\n      <td>net.sourceforge.pmd.symboltable.Scope#130</td>\n      <td>FACTORY_METHOD</td>\n      <td>FACTORY_METHOD</td>\n      <td>0.993326</td>\n    </tr>\n    <tr>\n      <th>28</th>\n      <td>1377</td>\n      <td>p_mart-11_-_pmd_v18</td>\n      <td>net.sourceforge.pmd.TargetJDKVersion#131</td>\n      <td>FACTORY_METHOD</td>\n      <td>FACTORY_METHOD</td>\n      <td>0.996075</td>\n    </tr>\n    <tr>\n      <th>29</th>\n      <td>1312</td>\n      <td>p_mart-5_-_junit_v37</td>\n      <td>junit.extensions.RepeatedTest#66</td>\n      <td>DECORATOR</td>\n      <td>DECORATOR</td>\n      <td>0.997186</td>\n    </tr>\n    <tr>\n      <th>30</th>\n      <td>1322</td>\n      <td>p_mart-6_-_jhotdraw_v51</td>\n      <td>CH.ifa.draw.standard.DecoratorFigure#76</td>\n      <td>DECORATOR</td>\n      <td>BUILDER</td>\n      <td>0.997231</td>\n    </tr>\n    <tr>\n      <th>31</th>\n      <td>1366</td>\n      <td>p_mart-10_-_nutch_v04</td>\n      <td>net.nutch.db.Page#120</td>\n      <td>ADAPTER</td>\n      <td>FACTORY_METHOD</td>\n      <td>0.996085</td>\n    </tr>\n    <tr>\n      <th>32</th>\n      <td>1371</td>\n      <td>p_mart-11_-_pmd_v18</td>\n      <td>net.sourceforge.pmd.ant.PMDTask#125</td>\n      <td>ADAPTER</td>\n      <td>N/A</td>\n      <td>0.698244</td>\n    </tr>\n    <tr>\n      <th>33</th>\n      <td>1319</td>\n      <td>p_mart-6_-_jhotdraw_v51</td>\n      <td>CH.ifa.draw.framework.Locator#73</td>\n      <td>ADAPTER</td>\n      <td>SINGLETON</td>\n      <td>0.991587</td>\n    </tr>\n    <tr>\n      <th>34</th>\n      <td>1367</td>\n      <td>p_mart-10_-_nutch_v04</td>\n      <td>net.nutch.pagedb.FetchListEntry#121</td>\n      <td>ADAPTER</td>\n      <td>BUILDER</td>\n      <td>0.994278</td>\n    </tr>\n    <tr>\n      <th>35</th>\n      <td>1342</td>\n      <td>p_mart-8_-_mapperxml_v197</td>\n      <td>com.taursys.dom.DOM_1_20000929_DocumentAdapter#96</td>\n      <td>ADAPTER</td>\n      <td>N/A</td>\n      <td>0.676532</td>\n    </tr>\n  </tbody>\n</table>\n</div>"
     },
     "execution_count": 1096,
     "metadata": {},
     "output_type": "execute_result"
    }
   ],
   "source": [
    "epm.get_result_df( groups, metas, true_labels, pred_labels, pred_scores )"
   ],
   "metadata": {
    "collapsed": false,
    "ExecuteTime": {
     "end_time": "2025-03-28T22:02:59.080880Z",
     "start_time": "2025-03-28T22:02:59.077123Z"
    }
   },
   "id": "56cca028af5169c9"
  },
  {
   "cell_type": "code",
   "execution_count": 1097,
   "outputs": [
    {
     "data": {
      "text/plain": "<Figure size 600x600 with 1 Axes>",
      "image/png": "[encoded data removed]"
     },
     "metadata": {},
     "output_type": "display_data"
    }
   ],
   "source": [
    "epm.compute_cm( true_labels, pred_labels, pred_scores, labels=pattern_types )"
   ],
   "metadata": {
    "collapsed": false,
    "ExecuteTime": {
     "end_time": "2025-03-28T22:02:59.544029Z",
     "start_time": "2025-03-28T22:02:59.422165Z"
    }
   },
   "id": "6cbb7fc7da5e37aa"
  },
  {
   "cell_type": "code",
   "execution_count": 1091,
   "outputs": [
    {
     "ename": "ValueError",
     "evalue": "",
     "output_type": "error",
     "traceback": [
      "\u001B[0;31m---------------------------------------------------------------------------\u001B[0m",
      "\u001B[0;31mValueError\u001B[0m                                Traceback (most recent call last)",
      "Cell \u001B[0;32mIn[1091], line 1\u001B[0m\n\u001B[0;32m----> 1\u001B[0m \u001B[38;5;28;01mraise\u001B[39;00m \u001B[38;5;167;01mValueError\u001B[39;00m\n",
      "\u001B[0;31mValueError\u001B[0m: "
     ]
    }
   ],
   "source": [
    "raise ValueError"
   ],
   "metadata": {
    "collapsed": false,
    "ExecuteTime": {
     "end_time": "2025-03-28T22:02:02.125791Z",
     "start_time": "2025-03-28T22:02:02.112748Z"
    }
   },
   "id": "5ec946d796775b0d"
  },
  {
   "cell_type": "code",
   "execution_count": null,
   "outputs": [],
   "source": [
    "matching_colors = { 2: \"purple\", 1: \"green\", 0: \"grey\", -1: \"red\" }\n",
    "example_gidx = -1\n",
    "source_iter = iter( groups_by_source )\n",
    "for _ in range( 21 ):\n",
    "    example_gidx = next( source_iter )\n",
    "print( f\"Should be: {dataset.get_source_patterns()[ example_gidx ]}\" )\n",
    "for pattern_type, score in misc_utils.sort_dict_by_value(\n",
    "        source_preds[ example_gidx ], reverse=True ).items():\n",
    "    print( f\"{pattern_type}: {score:.3}\" )\n",
    "for pattern_type, idxs in groups_by_source[ example_gidx ].items():\n",
    "    for idx in idxs[ :1 ]:\n",
    "        source = sources[ idx ]\n",
    "        query = queries[ idx ]\n",
    "        pred = preds[ idx ]\n",
    "        meta = metas[ idx ]\n",
    "        print( meta )\n",
    "        source_type = meta.get( \"source_type\" )\n",
    "        gidx = meta.get( \"gidx\" )\n",
    "        p_w = meta.get( \"pred_w\", 1.0 )\n",
    "        combined, node_colors, edge_colors = graph_utils.combine_normalized(\n",
    "            source, query, matching_colors=matching_colors )\n",
    "        plot_utils.plot_graph( combined,\n",
    "                               title=f\"#{gidx} ({source_type}): query #{idx} ({pattern_type}) [p={pred:.2}][p_w={p_w:.2}]\",\n",
    "                               nodeLabels=graph_utils.get_node_labels( combined ),\n",
    "                               nodeColors=node_colors, edgeColors=edge_colors )"
   ],
   "metadata": {
    "collapsed": false,
    "ExecuteTime": {
     "start_time": "2025-03-28T22:02:02.122398Z"
    }
   },
   "id": "8df64e0dc2b36fec"
  },
  {
   "cell_type": "code",
   "execution_count": null,
   "outputs": [],
   "source": [],
   "metadata": {
    "collapsed": false,
    "ExecuteTime": {
     "start_time": "2025-03-28T22:02:02.123169Z"
    }
   },
   "id": "839760be5c60833b"
  },
  {
   "cell_type": "code",
   "execution_count": null,
   "outputs": [],
   "source": [],
   "metadata": {
    "collapsed": false,
    "ExecuteTime": {
     "start_time": "2025-03-28T22:02:02.123729Z"
    }
   },
   "id": "c9c20f35f71b0a53"
  }
 ],
 "metadata": {
  "kernelspec": {
   "display_name": "Python 3",
   "language": "python",
   "name": "python3"
  },
  "language_info": {
   "codemirror_mode": {
    "name": "ipython",
    "version": 2
   },
   "file_extension": ".py",
   "mimetype": "text/x-python",
   "name": "python",
   "nbconvert_exporter": "python",
   "pygments_lexer": "ipython2",
   "version": "2.7.6"
  }
 },
 "nbformat": 4,
 "nbformat_minor": 5
}
