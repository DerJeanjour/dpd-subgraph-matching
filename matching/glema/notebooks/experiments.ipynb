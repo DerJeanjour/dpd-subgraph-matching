{
 "cells": [
  {
   "cell_type": "code",
   "execution_count": 1,
   "outputs": [],
   "source": [
    "from collections import Counter\n",
    "\n",
    "import networkx as nx\n",
    "import numpy as np\n",
    "\n",
    "import matching.glema.common.utils.graph_utils as graph_utils\n",
    "import matching.glema.common.utils.misc_utils as misc_utils\n",
    "import matching.glema.common.utils.plot_utils as plot_utils\n",
    "import matching.misc.cpg_const as cpg_const"
   ],
   "metadata": {
    "collapsed": false,
    "ExecuteTime": {
     "end_time": "2025-03-28T12:06:49.657786Z",
     "start_time": "2025-03-28T12:06:48.305445Z"
    }
   },
   "id": "bf3e40890a5d5226"
  },
  {
   "cell_type": "code",
   "execution_count": 12,
   "outputs": [
    {
     "data": {
      "text/plain": "'b'"
     },
     "execution_count": 12,
     "metadata": {},
     "output_type": "execute_result"
    }
   ],
   "source": [
    "obj = {}\n",
    "obj.get( \"a\", \"b\" )"
   ],
   "metadata": {
    "collapsed": false,
    "ExecuteTime": {
     "end_time": "2025-03-28T12:16:14.881262Z",
     "start_time": "2025-03-28T12:16:14.879732Z"
    }
   },
   "id": "db2545a0e1dcedf4"
  },
  {
   "cell_type": "code",
   "execution_count": 9,
   "outputs": [
    {
     "name": "stdout",
     "output_type": "stream",
     "text": [
      "name=abc.def, id=123\n",
      "enc=abc.def#123, dec=123\n",
      "\n",
      "name=abc.def, id=-\n",
      "enc=abc.def, dec=-\n",
      "\n",
      "name=None, id=123\n",
      "enc=None, dec=-\n",
      "\n",
      "name=-, id=123\n",
      "enc=-, dec=-\n",
      "\n",
      "name=abc.def, id=123#345\n",
      "enc=abc.def#123#345, dec=123#345\n"
     ]
    }
   ],
   "source": [
    "def encode_pattern_id( name: str, pid: str ):\n",
    "    if name == \"None\" or name is None or pid is None:\n",
    "        return name\n",
    "    return f\"{name}#{pid}\"\n",
    "\n",
    "\n",
    "def decode_pattern_id( name: str ):\n",
    "    if name is None:\n",
    "        return\n",
    "    parts = name.split( \"#\", 1 )\n",
    "    if len( parts ) < 2:\n",
    "        return None\n",
    "    return parts[ 1 ]\n",
    "\n",
    "\n",
    "def none_to_str( val ):\n",
    "    return \"-\" if val is None else val\n",
    "\n",
    "\n",
    "def test( name: str, name_id: str ):\n",
    "    print( f\"name={none_to_str( name )}, id={none_to_str( name_id )}\" )\n",
    "    name = encode_pattern_id( name, name_id )\n",
    "    print( f\"enc={none_to_str( name )}, dec={none_to_str( decode_pattern_id( name ) )}\\n\" )\n",
    "\n",
    "\n",
    "test( \"abc.def\", \"123\" )\n",
    "test( \"abc.def\", None )\n",
    "test( \"None\", \"123\" )\n",
    "test( None, \"123\" )\n",
    "test( \"abc.def\", \"123#345\" )"
   ],
   "metadata": {
    "collapsed": false,
    "ExecuteTime": {
     "end_time": "2025-03-28T12:13:49.764907Z",
     "start_time": "2025-03-28T12:13:49.762277Z"
    }
   },
   "id": "bdcd706a624a1543"
  },
  {
   "cell_type": "code",
   "execution_count": 17,
   "outputs": [
    {
     "data": {
      "text/plain": "np.float64(0.38000000000000006)"
     },
     "execution_count": 17,
     "metadata": {},
     "output_type": "execute_result"
    }
   ],
   "source": [
    "A = [ 0.3, 0.1, 0.9, 0.9, 0.8, 0.7, 0.8 ]\n",
    "np.quantile( A, 0.2 )"
   ],
   "metadata": {
    "collapsed": false,
    "ExecuteTime": {
     "end_time": "2025-02-28T14:06:26.723965Z",
     "start_time": "2025-02-28T14:06:26.714927Z"
    }
   },
   "id": "d58f3c1affe0eb49"
  },
  {
   "cell_type": "code",
   "execution_count": 31,
   "outputs": [
    {
     "name": "stdout",
     "output_type": "stream",
     "text": [
      "3.5999999999999996\n",
      "3\n"
     ]
    },
    {
     "data": {
      "text/plain": "0.8"
     },
     "execution_count": 31,
     "metadata": {},
     "output_type": "execute_result"
    }
   ],
   "source": [
    "def Q( A: list[ float ], q: float ) -> float:\n",
    "    A_sorted = sorted( A )\n",
    "\n",
    "    # Special cases for the extremes\n",
    "    n = len( A_sorted )\n",
    "\n",
    "    # Compute the position using linear interpolation\n",
    "    # h is a fractional index in the sorted array.\n",
    "    h = q * (n - 1)\n",
    "    i = int( h )  # floor of h\n",
    "    fraction = h - i  # fractional part\n",
    "\n",
    "    print( h )\n",
    "    print( i )\n",
    "    return A_sorted[ i ] + fraction * (A_sorted[ i + 1 ] - A_sorted[ i ])\n",
    "\n",
    "\n",
    "Q( A, 0.6 )"
   ],
   "metadata": {
    "collapsed": false,
    "ExecuteTime": {
     "end_time": "2025-02-28T14:16:48.424799Z",
     "start_time": "2025-02-28T14:16:48.417131Z"
    }
   },
   "id": "1e0fbec9f82a7425"
  },
  {
   "cell_type": "code",
   "execution_count": null,
   "id": "initial_id",
   "metadata": {
    "collapsed": true
   },
   "outputs": [],
   "source": [
    "def addCpgNode( G, label: cpg_const.NodeLabel, anchor=False ):\n",
    "    node_id = G.number_of_nodes()\n",
    "    anchor_idx = 1 if anchor else 0\n",
    "    G.add_node( node_id, label=misc_utils.get_enum_idx( label ), anchor=anchor_idx )\n",
    "    return node_id\n",
    "\n",
    "\n",
    "# Example usage\n",
    "G1 = nx.Graph()\n",
    "n11 = addCpgNode( G1, cpg_const.NodeLabel.RECORD, anchor=True )\n",
    "n12 = addCpgNode( G1, cpg_const.NodeLabel.KNOWS_RECORD )\n",
    "n13 = addCpgNode( G1, cpg_const.NodeLabel.RECORD )\n",
    "n14 = addCpgNode( G1, cpg_const.NodeLabel.RECORD )\n",
    "n15 = addCpgNode( G1, cpg_const.NodeLabel.CREATES_RECORD )\n",
    "n16 = addCpgNode( G1, cpg_const.NodeLabel.RECORD )\n",
    "G1.add_edge( n11, n12 )\n",
    "G1.add_edge( n12, n13 )\n",
    "G1.add_edge( n12, n14 )\n",
    "G1.add_edge( n11, n15 )\n",
    "G1.add_edge( n15, n16 )\n",
    "G1.add_edge( n13, n16 )\n",
    "\n",
    "plot_utils.plot_graph( G1, title=\"G1\", nodeLabels=graph_utils.get_node_labels( G1 ) )\n",
    "\n",
    "G2 = nx.Graph()\n",
    "n21 = addCpgNode( G2, cpg_const.NodeLabel.RECORD, anchor=True )\n",
    "n22 = addCpgNode( G2, cpg_const.NodeLabel.KNOWS_RECORD )\n",
    "n23 = addCpgNode( G2, cpg_const.NodeLabel.RECORD )\n",
    "n24 = addCpgNode( G2, cpg_const.NodeLabel.RECORD )\n",
    "n25 = addCpgNode( G2, cpg_const.NodeLabel.CREATES_RECORD )\n",
    "n26 = addCpgNode( G2, cpg_const.NodeLabel.RECORD )\n",
    "n27 = addCpgNode( G2, cpg_const.NodeLabel.EXTENDED_BY_RECORD )\n",
    "G2.add_edge( n21, n22 )\n",
    "G2.add_edge( n22, n23 )\n",
    "G2.add_edge( n22, n24 )\n",
    "G2.add_edge( n21, n25 )\n",
    "G2.add_edge( n22, n26 )\n",
    "G2.add_edge( n21, n27 )\n",
    "plot_utils.plot_graph( G2, title=\"G2\", nodeLabels=graph_utils.get_node_labels( G2 ) )\n",
    "\n",
    "\n",
    "def largest_common_subgraph( G1_data, G2_data ):\n",
    "    G1, anchor1 = G1_data\n",
    "    G2, anchor2 = G2_data\n",
    "\n",
    "    def nodes_are_equal( node1, node2 ):\n",
    "        return (G1.nodes[ node1 ][ \"anchor\" ] == G2.nodes[ node2 ][ \"anchor\" ] and\n",
    "                G1.nodes[ node1 ][ \"label\" ] == G2.nodes[ node2 ][ \"label\" ])\n",
    "\n",
    "    def get_neighbor_label_count( G, node ):\n",
    "        return dict( Counter( [ G.nodes[ n ][ \"label\" ] for n in G.neighbors( node ) ] ) )\n",
    "\n",
    "    def get_min_label_count( a, b ):\n",
    "        all_labels = set( a.keys() ).union( b.keys() )\n",
    "        return { key: min( a.get( key, 0 ), b.get( key, 0 ) ) for key in all_labels }\n",
    "\n",
    "    def add_node( LCS_data, G1_data, G2_data, mapping ):\n",
    "        LCS, parent = LCS_data\n",
    "        G1, n1 = G1_data\n",
    "        G2, n2 = G2_data\n",
    "        n = LCS.number_of_nodes()  #n = (n1, n2)\n",
    "        if not nodes_are_equal( n1, n2 ) or n in mapping:\n",
    "            return\n",
    "        mapping[ n ] = True\n",
    "        LCS.add_node( n, label=G1.nodes[ n1 ][ 'label' ], anchor=G1.nodes[ n1 ][ 'anchor' ] )\n",
    "        if parent is not None:\n",
    "            LCS.add_edge( parent, n )\n",
    "        nh1_label_count = get_neighbor_label_count( G1, n1 )\n",
    "        nh2_label_count = get_neighbor_label_count( G2, n2 )\n",
    "        nh_label_count = get_min_label_count( nh1_label_count, nh2_label_count )\n",
    "\n",
    "        for nh1 in G1.neighbors( n1 ):\n",
    "            for nh2 in G2.neighbors( n2 ):\n",
    "                if nodes_are_equal( nh1, nh2 ):\n",
    "                    current_label_count = get_neighbor_label_count( LCS, n )\n",
    "                    nh_label = G1.nodes[ nh1 ][ 'label' ]\n",
    "                    if current_label_count.get( nh_label, 0 ) >= nh_label_count.get( nh_label, 0 ):\n",
    "                        continue\n",
    "                    add_node( (LCS, n), (G1, nh1), (G2, nh2), mapping )\n",
    "\n",
    "    LCS = nx.Graph()\n",
    "    add_node( (LCS, None), (G1, anchor1), (G2, anchor2), { } )\n",
    "    return LCS\n",
    "\n",
    "\n",
    "def common_subgraph( graphs ):\n",
    "    if len( graphs ) == 0:\n",
    "        return None\n",
    "\n",
    "    G_common = graphs[ 0 ]\n",
    "    graphs = [ (G.copy(), graph_utils.get_anchor( G )) for G in graphs[ 1: ] ]\n",
    "\n",
    "    for G, anchor in graphs:\n",
    "        anchor_common = graph_utils.get_anchor( G_common )\n",
    "        G_common = largest_common_subgraph( (G_common, anchor_common), (G, anchor) )\n",
    "\n",
    "    return G_common\n",
    "\n",
    "\n",
    "common = common_subgraph( [ G1, G2 ] )\n",
    "plot_utils.plot_graph( common, title=\"common\", nodeLabels=graph_utils.get_node_labels( common ) )"
   ]
  },
  {
   "cell_type": "code",
   "execution_count": null,
   "outputs": [],
   "source": [],
   "metadata": {
    "collapsed": false
   },
   "id": "2541a56dfadfe95d"
  }
 ],
 "metadata": {
  "kernelspec": {
   "display_name": "Python 3",
   "language": "python",
   "name": "python3"
  },
  "language_info": {
   "codemirror_mode": {
    "name": "ipython",
    "version": 2
   },
   "file_extension": ".py",
   "mimetype": "text/x-python",
   "name": "python",
   "nbconvert_exporter": "python",
   "pygments_lexer": "ipython2",
   "version": "2.7.6"
  }
 },
 "nbformat": 4,
 "nbformat_minor": 5
}
