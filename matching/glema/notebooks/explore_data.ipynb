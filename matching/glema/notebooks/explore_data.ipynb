{
 "cells": [
  {
   "cell_type": "code",
   "execution_count": null,
   "id": "initial_id",
   "metadata": {
    "collapsed": true
   },
   "outputs": [],
   "source": [
    "import os\n",
    "import numpy as np\n",
    "import networkx as nx\n",
    "import matching.glema.common.utils as utils\n",
    "import matching.misc.cpg_const as cpg_const"
   ]
  },
  {
   "cell_type": "code",
   "execution_count": null,
   "outputs": [],
   "source": [
    "args = utils.parse_args( use_default=True )\n",
    "args.dataset = \"CPG\"\n",
    "args.directed = True\n",
    "args.iso = True\n",
    "args.test_data = True"
   ],
   "metadata": {
    "collapsed": false
   },
   "id": "6701c3b971f96555"
  },
  {
   "cell_type": "code",
   "execution_count": null,
   "outputs": [],
   "source": [
    "record_scopes = utils.get_record_scopes( args )\n",
    "design_patterns = utils.get_design_patterns( args )\n",
    "label_args = {\n",
    "    \"record_scopes\": record_scopes,\n",
    "    \"design_patterns\": design_patterns\n",
    "}"
   ],
   "metadata": {
    "collapsed": false
   },
   "id": "e8ab4b7464a553d5"
  },
  {
   "cell_type": "code",
   "execution_count": null,
   "outputs": [],
   "source": [
    "source_graph_idx = 8\n",
    "query_subgraph_idx = 0"
   ],
   "metadata": {
    "collapsed": false
   },
   "id": "2bd0259d5e4bb574"
  },
  {
   "cell_type": "code",
   "execution_count": null,
   "outputs": [],
   "source": [
    "source = utils.load_source_graph( args, source_graph_idx )\n",
    "utils.plot_graph( source,\n",
    "                  title=\"Source Graph\",\n",
    "                  nodeLabels=utils.get_node_labels( source, **label_args ) )"
   ],
   "metadata": {
    "collapsed": false
   },
   "id": "bdbe01520e6840ad"
  },
  {
   "cell_type": "code",
   "execution_count": null,
   "outputs": [],
   "source": [
    "query = utils.load_query( args, source_graph_idx, query_subgraph_idx )\n",
    "utils.plot_graph( query,\n",
    "                  title=\"Query Graph\",\n",
    "                  nodeLabels=utils.get_node_labels( query, **label_args ) )"
   ],
   "metadata": {
    "collapsed": false
   },
   "id": "baa971b1349917cd"
  },
  {
   "cell_type": "code",
   "execution_count": null,
   "outputs": [],
   "source": [
    "matching_colors = {\n",
    "    2: \"purple\",\n",
    "    1: \"green\",\n",
    "    0: \"grey\",\n",
    "    -1: \"red\"\n",
    "}\n",
    "combined, node_colors, edge_colors = utils.combine_graph( source, query,\n",
    "                                                          matching_colors=matching_colors )\n",
    "utils.plot_graph(\n",
    "    title=\"Combined Graph\",\n",
    "    graph=combined,\n",
    "    nodeColors=node_colors,\n",
    "    edgeColors=edge_colors,\n",
    "    nodeLabels=utils.get_node_labels( combined )\n",
    ")"
   ],
   "metadata": {
    "collapsed": false
   },
   "id": "111728e3217c5136"
  },
  {
   "cell_type": "code",
   "execution_count": null,
   "outputs": [],
   "source": [],
   "metadata": {
    "collapsed": false
   },
   "id": "462273d4fd67ece0"
  },
  {
   "cell_type": "code",
   "execution_count": null,
   "outputs": [],
   "source": [],
   "metadata": {
    "collapsed": false
   },
   "id": "4fb3704b2f3b63b1"
  }
 ],
 "metadata": {
  "kernelspec": {
   "display_name": "Python 3",
   "language": "python",
   "name": "python3"
  },
  "language_info": {
   "codemirror_mode": {
    "name": "ipython",
    "version": 2
   },
   "file_extension": ".py",
   "mimetype": "text/x-python",
   "name": "python",
   "nbconvert_exporter": "python",
   "pygments_lexer": "ipython2",
   "version": "2.7.6"
  }
 },
 "nbformat": 4,
 "nbformat_minor": 5
}
