{
 "cells": [
  {
   "cell_type": "code",
   "execution_count": null,
   "outputs": [],
   "source": [
    "import os\n",
    "\n",
    "import numpy as np\n",
    "import torchinfo\n",
    "import networkx as nx\n",
    "\n",
    "import matching.glema.common.utils as utils\n",
    "from matching.glema.common.model import GLeMaNet\n",
    "from matching.glema.common.model import InferenceGNN"
   ],
   "metadata": {
    "collapsed": false
   },
   "id": "46b69641eab0d8e4"
  },
  {
   "cell_type": "code",
   "execution_count": null,
   "outputs": [],
   "source": [
    "args = utils.parse_args( use_default=True )\n",
    "# SYNTHETIC_TINY_jump_directed_30e\n",
    "# KKI_jump_directed_promising\n",
    "model_ckpt = \"training/save/KKI_jump_directed_promising/best_model.pt\"\n",
    "args = utils.load_args( args, model_ckpt )\n",
    "args.ckpt = model_ckpt\n",
    "\n",
    "args.data_path = \"data/data_real/datasets\"\n",
    "#\"SYNTHETIC_TINY_train\"\n",
    "args.dataset = \"KKI_test\"\n",
    "args.source = 49\n",
    "args.query = 8\n",
    "args.iso = True\n",
    "args.directed = True\n",
    "args.mapping_threshold = 0.5\n",
    "args.tag = \"\"\n",
    "args"
   ],
   "metadata": {
    "collapsed": false
   },
   "id": "d69194f1a86fc9b9"
  },
  {
   "cell_type": "code",
   "execution_count": null,
   "outputs": [],
   "source": [
    "data_path = utils.get_abs_file_path( os.path.join( args.data_path, args.dataset ) )\n",
    "print( \"data_path:\", data_path )"
   ],
   "metadata": {
    "collapsed": false
   },
   "id": "c4041bba7ea97a09"
  },
  {
   "cell_type": "code",
   "execution_count": null,
   "outputs": [],
   "source": [
    "torchinfo.summary( GLeMaNet( args ) )"
   ],
   "metadata": {
    "collapsed": false
   },
   "id": "3a18110cac14f7ab"
  },
  {
   "cell_type": "code",
   "execution_count": null,
   "outputs": [],
   "source": [
    "model = InferenceGNN( args )"
   ],
   "metadata": {
    "collapsed": false
   },
   "id": "d6434c52e96184a1"
  },
  {
   "cell_type": "code",
   "execution_count": null,
   "outputs": [],
   "source": [
    "def get_node_labels( G ):\n",
    "    return nx.get_node_attributes( G, 'label' )"
   ],
   "metadata": {
    "collapsed": false
   },
   "id": "27ad13048685363f"
  },
  {
   "cell_type": "code",
   "execution_count": null,
   "outputs": [],
   "source": [
    "# Load subgraph\n",
    "subgraphs = utils.read_graphs(\n",
    "    f\"{data_path}/{args.source}/{'non' if not args.iso else ''}iso_subgraphs.lg\", directed=True\n",
    ")\n",
    "subgraph = subgraphs[ args.query ]\n",
    "print( \"subgraph exists\", subgraph is not None )\n",
    "print( \"subgraph nodes\", subgraph.number_of_nodes() )"
   ],
   "metadata": {
    "collapsed": false
   },
   "id": "d41b875448472eaf"
  },
  {
   "cell_type": "code",
   "execution_count": null,
   "outputs": [],
   "source": [
    "utils.plot_graph( subgraph, nodeLabels=get_node_labels( subgraph ) )"
   ],
   "metadata": {
    "collapsed": false
   },
   "id": "5b6da7b342944df0"
  },
  {
   "cell_type": "code",
   "execution_count": null,
   "outputs": [],
   "source": [
    "utils.set_seed( 8 )\n",
    "sub_subgraph = utils.random_subgraph( subgraph, 6 )\n",
    "utils.plot_graph( sub_subgraph, nodeLabels=get_node_labels( sub_subgraph ) )"
   ],
   "metadata": {
    "collapsed": false
   },
   "id": "a004ca45e5fec267"
  },
  {
   "cell_type": "code",
   "execution_count": null,
   "outputs": [],
   "source": [
    "graphs = utils.read_graphs( f\"{data_path}/{args.source}/source.lg\", directed=True )\n",
    "graph = graphs[ args.source ]\n",
    "print( \"graph exists\", graph is not None )\n",
    "print( \"graph nodes\", graph.number_of_nodes() )"
   ],
   "metadata": {
    "collapsed": false
   },
   "id": "79b55b8fa8c694b4"
  },
  {
   "cell_type": "code",
   "execution_count": null,
   "outputs": [],
   "source": [
    "utils.plot_graph( graph, nodeLabels=get_node_labels( subgraph ) )"
   ],
   "metadata": {
    "collapsed": false
   },
   "id": "8dcef0a5614688cc"
  },
  {
   "cell_type": "code",
   "execution_count": null,
   "outputs": [],
   "source": [
    "# Load mapping groundtruth\n",
    "mapping_gts = utils.read_mapping(\n",
    "    f\"{data_path}/{args.source}/{'non' if not args.iso else ''}iso_subgraphs_mapping.lg\"\n",
    ")\n",
    "mapping_gt = mapping_gts[ args.query ]\n",
    "print( mapping_gt )"
   ],
   "metadata": {
    "collapsed": false
   },
   "id": "6cf6c724b885f18"
  },
  {
   "cell_type": "code",
   "execution_count": null,
   "outputs": [],
   "source": [
    "def is_subgraph( graph, query, conf=0.5 ) -> bool:\n",
    "    results = model.predict_label( [ query ], [ graph ] )\n",
    "    return ( results[ 0 ] > conf ).item()"
   ],
   "metadata": {
    "collapsed": false
   },
   "id": "7740f61c29e92311"
  },
  {
   "cell_type": "code",
   "execution_count": null,
   "outputs": [],
   "source": [
    "print( \"result\", is_subgraph( graph, subgraph, args.confidence ) )"
   ],
   "metadata": {
    "collapsed": false
   },
   "id": "506d49b7747ffe7e"
  },
  {
   "cell_type": "code",
   "execution_count": null,
   "outputs": [],
   "source": [
    "subgraph_count = 0\n",
    "for key, query in subgraphs.items():\n",
    "    results = model.predict_label( [ query ], [ graph ] )\n",
    "    is_subgraph = (results[ 0 ] > args.confidence).item()\n",
    "    if is_subgraph:\n",
    "        subgraph_count += 1\n",
    "\n",
    "print( f\"Are subgraphs: {subgraph_count}/{len( subgraphs )}\" )"
   ],
   "metadata": {
    "collapsed": false
   },
   "id": "7ab0894add0b6be3"
  },
  {
   "cell_type": "code",
   "execution_count": null,
   "outputs": [],
   "source": [
    "def plot_matching( graph, subgraph, mapping_gt ):\n",
    "    source_labels = get_node_labels( graph )\n",
    "    source_labels = { key: f\"{key}: {value}\" for key, value in source_labels.items() }\n",
    "    subgraph_labels = get_node_labels( subgraph )\n",
    "    subgraph_labels = { key: f\"{key}: {value}\" for key, value in subgraph_labels.items() }\n",
    "    utils.plot_graph( graph, title=\"Source\", nodeLabels=source_labels )\n",
    "    utils.plot_graph( subgraph, title=\"Query\", nodeLabels=subgraph_labels )\n",
    "\n",
    "    if True:\n",
    "        interactions = model.predict_embedding( [ subgraph ], [ graph ] )\n",
    "        # print(\"interactions\", interactions[0])\n",
    "        interactions = interactions[ 0 ].cpu().detach().numpy()\n",
    "        n_subgraph_atom = subgraph.number_of_nodes()\n",
    "        x_coord, y_coord = np.where( interactions > args.mapping_threshold )\n",
    "\n",
    "        print( \"Embedding: (subgraph node, graph node)\" )\n",
    "        interaction_dict = { }\n",
    "        for x, y in zip( x_coord, y_coord ):\n",
    "            if x < n_subgraph_atom <= y:\n",
    "                interaction_dict[ (x, y - n_subgraph_atom) ] = interactions[ x ][ y ]\n",
    "                # print(\"(\", x, y-n_ligand_atom, \")\")\n",
    "\n",
    "            if (\n",
    "                    x >= n_subgraph_atom > y\n",
    "                    and (y, x - n_subgraph_atom) not in interaction_dict\n",
    "            ):\n",
    "                interaction_dict[ (y, x - n_subgraph_atom) ] = interactions[ x ][ y ]\n",
    "                # print(\"(\", y, x-n_ligand_atom, \")\")\n",
    "\n",
    "        list_mapping = list( interaction_dict.keys() )\n",
    "        mapping_dict = { }\n",
    "        for node in subgraph.nodes:\n",
    "            cnode_mapping = list(\n",
    "                map(\n",
    "                    lambda y: (y[ 1 ], interaction_dict[ y ]),\n",
    "                    filter( lambda x: x[ 0 ] == node, list_mapping ),\n",
    "                )\n",
    "            )\n",
    "            if len( cnode_mapping ) == 0:\n",
    "                mapping_dict[ node ] = [ ]\n",
    "                continue\n",
    "\n",
    "            max_prob = max( cnode_mapping, key=lambda x: x[ 1 ] )[ 1 ]\n",
    "            mapping_dict[ node ] = list(\n",
    "                map( lambda x: x[ 0 ], filter( lambda y: y[ 1 ] == max_prob, cnode_mapping ) )\n",
    "            )\n",
    "\n",
    "        print( \"Mapping:\", mapping_dict )\n",
    "\n",
    "        node_labels = { n: \"\" for n in graph.nodes }\n",
    "        for sgn, list_gn in mapping_dict.items():\n",
    "            for gn in list_gn:\n",
    "                if len( node_labels[ gn ] ) == 0:\n",
    "                    node_labels[ gn ] = str( sgn )\n",
    "                else:\n",
    "                    node_labels[ gn ] += \",%d\" % sgn\n",
    "\n",
    "        node_colors = { n: \"gray\" for n in graph.nodes }\n",
    "        for node, nmaping in node_labels.items():\n",
    "            if not nmaping:\n",
    "                if mapping_gt[ node ] != -1:\n",
    "                    node_colors[ node ] = \"gold\"\n",
    "                continue\n",
    "\n",
    "            list_nm = nmaping.split( \",\" )\n",
    "            for nm in list_nm:\n",
    "                if mapping_gt[ node ] == int( nm ):\n",
    "                    node_colors[ node ] = \"lime\"\n",
    "                    break\n",
    "\n",
    "                if mapping_gt[ node ] != int( nm ) and node_colors[ node ] == \"gray\":\n",
    "                    node_colors[ node ] = \"pink\"\n",
    "\n",
    "        for gn, sgn in mapping_gt.items():\n",
    "            if node_labels[ gn ] == \"\" and sgn != -1:\n",
    "                node_labels[ gn ] = str( sgn )\n",
    "\n",
    "        edge_colors = { n: \"whitesmoke\" for n in graph.edges }\n",
    "        for edge in graph.edges:\n",
    "            n1, n2 = edge\n",
    "            # map node from graph to node in subgraph\n",
    "            n1_sgs, n2_sgs = node_labels[ n1 ], node_labels[ n2 ]\n",
    "\n",
    "            if node_colors[ n1 ] == \"gray\" or node_colors[ n2 ] == \"gray\":\n",
    "                continue\n",
    "\n",
    "            # Check wheather a link between n1, n2 in subgraph\n",
    "            total_pair = len( n1_sgs.split( \",\" ) ) * len( n2_sgs.split( \",\" ) )\n",
    "            count_pair = 0\n",
    "            for n1_sg in n1_sgs.split( \",\" ):\n",
    "                n1_sg = int( n1_sg )\n",
    "                for n2_sg in n2_sgs.split( \",\" ):\n",
    "                    n2_sg = int( n2_sg )\n",
    "                    if (n1_sg, n2_sg) not in subgraph.edges and (\n",
    "                            n2_sg,\n",
    "                            n1_sg,\n",
    "                    ) not in subgraph.edges:\n",
    "                        count_pair += 1\n",
    "\n",
    "            if count_pair != total_pair:\n",
    "                if node_colors[ n1 ] == \"lime\" and node_colors[ n2 ] == \"lime\":\n",
    "                    edge_colors[ edge ] = \"black\"\n",
    "                elif node_colors[ n1 ] == \"gold\" or node_colors[ n2 ] == \"gold\":\n",
    "                    edge_colors[ edge ] = \"goldenrod\"\n",
    "                elif node_colors[ n1 ] == \"pink\" or node_colors[ n2 ] == \"pink\":\n",
    "                    edge_colors[ edge ] = \"palevioletred\"\n",
    "            else:\n",
    "                if node_colors[ n1 ] == \"pink\" or node_colors[ n2 ] == \"pink\":\n",
    "                    edge_colors[ edge ] = \"palevioletred\"\n",
    "\n",
    "        utils.plot_graph( graph,\n",
    "                          nodeLabels=node_labels,\n",
    "                          nodeColors=list( node_colors.values() ),\n",
    "                          edgeColors=list( edge_colors.values() ),\n",
    "                          title=\"Matching\",\n",
    "                          with_label=True )"
   ],
   "metadata": {
    "collapsed": false
   },
   "id": "d410763e9c340035"
  },
  {
   "cell_type": "code",
   "execution_count": null,
   "outputs": [],
   "source": [
    "utils.set_seed( 8 )\n",
    "source_graph_idx = 49\n",
    "query_graph_idx = 10\n",
    "\n",
    "graph = graphs[ source_graph_idx ]\n",
    "subgraph = subgraphs[ query_graph_idx ]\n",
    "#subgraph = utils.inject_edge_errors( subgraph, 12 )\n",
    "#subgraph = utils.random_subgraph( subgraph, 6 )\n",
    "mapping_gt = mapping_gts[ query_graph_idx ]\n",
    "\n",
    "plot_matching( graph, subgraph, mapping_gt )\n",
    "is_subgraph( graph, subgraph, 0.9 )"
   ],
   "metadata": {
    "collapsed": false
   },
   "id": "af0937ced2c8f6e0"
  },
  {
   "cell_type": "code",
   "execution_count": null,
   "outputs": [],
   "source": [],
   "metadata": {
    "collapsed": false
   },
   "id": "93929d8267bb0469"
  }
 ],
 "metadata": {
  "kernelspec": {
   "display_name": "Python 3",
   "language": "python",
   "name": "python3"
  },
  "language_info": {
   "codemirror_mode": {
    "name": "ipython",
    "version": 2
   },
   "file_extension": ".py",
   "mimetype": "text/x-python",
   "name": "python",
   "nbconvert_exporter": "python",
   "pygments_lexer": "ipython2",
   "version": "2.7.6"
  }
 },
 "nbformat": 4,
 "nbformat_minor": 5
}
