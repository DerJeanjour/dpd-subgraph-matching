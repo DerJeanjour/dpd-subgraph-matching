{
 "cells": [
  {
   "cell_type": "code",
   "execution_count": null,
   "id": "initial_id",
   "metadata": {
    "collapsed": true,
    "is_executing": true
   },
   "outputs": [],
   "source": [
    "import networkx as nx\n",
    "import numpy as np\n",
    "from sklearn.metrics import (\n",
    "    accuracy_score,\n",
    "    average_precision_score,\n",
    "    f1_score,\n",
    "    precision_score,\n",
    "    recall_score,\n",
    "    roc_auc_score,\n",
    ")\n",
    "from sklearn.metrics import confusion_matrix, ConfusionMatrixDisplay\n",
    "import matplotlib.pyplot as plt\n",
    "\n",
    "import matching.glema.common.utils.arg_utils as arg_utils\n",
    "import matching.glema.common.utils.graph_utils as graph_utils\n",
    "import matching.glema.common.utils.misc_utils as misc_utils\n",
    "import matching.glema.common.utils.model_utils as model_utils\n",
    "import matching.glema.common.utils.plot_utils as plot_utils\n",
    "import matching.misc.cpg_const as cpg_const\n",
    "from matching.glema.common.model import InferenceGNN"
   ]
  },
  {
   "cell_type": "code",
   "execution_count": null,
   "outputs": [],
   "source": [
    "args = arg_utils.parse_args( use_default=True )\n",
    "\n",
    "args.dataset = \"dpdf\"\n",
    "args.directed = True\n",
    "args.anchored = True\n",
    "version = model_utils.get_latest_model_version( args )\n",
    "model_name = model_utils.get_model_name( args, version )\n",
    "\n",
    "args = arg_utils.load_args( args, model_name )\n",
    "args.iso = True\n",
    "args.test_data = True"
   ],
   "metadata": {
    "collapsed": false
   },
   "id": "62a1214a6faa2163"
  },
  {
   "cell_type": "code",
   "execution_count": null,
   "outputs": [],
   "source": [
    "model = InferenceGNN( args )"
   ],
   "metadata": {
    "collapsed": false
   },
   "id": "8b482a15b6ba4275"
  },
  {
   "cell_type": "code",
   "execution_count": null,
   "outputs": [],
   "source": [
    "def predict( model, G_source, G_query ) -> float:\n",
    "    p, (x, y) = model.predict( G_source, G_query )\n",
    "    return p\n",
    "\n",
    "\n",
    "def is_subgraph( model: InferenceGNN, G_source, G_query, conf=0.5 ) -> bool:\n",
    "    p, (x, y) = model.predict( G_source, G_query, conf=conf )\n",
    "    print( f\"query is subgraph of source: {x == 1.0} [{p:.3}]\" )\n",
    "    return x == 1.0"
   ],
   "metadata": {
    "collapsed": false
   },
   "id": "19a240248e3d98cb"
  },
  {
   "cell_type": "code",
   "execution_count": null,
   "outputs": [],
   "source": [
    "record_scopes = graph_utils.get_record_scopes( args )\n",
    "design_patterns = graph_utils.get_design_patterns( args )\n",
    "label_args = {\n",
    "    \"record_scopes\": record_scopes,\n",
    "    \"design_patterns\": design_patterns\n",
    "}"
   ],
   "metadata": {
    "collapsed": false
   },
   "id": "a5b023fe84078bb0"
  },
  {
   "cell_type": "code",
   "execution_count": null,
   "outputs": [],
   "source": [
    "source_graph_idx = 0\n",
    "query_subgraph_idx = 5"
   ],
   "metadata": {
    "collapsed": false
   },
   "id": "dbee73c4e4747152"
  },
  {
   "cell_type": "code",
   "execution_count": null,
   "outputs": [],
   "source": [
    "source = graph_utils.load_source_graph( args, source_graph_idx )\n",
    "query = graph_utils.load_query_graph( args, source_graph_idx, query_subgraph_idx )\n",
    "matching_colors = {\n",
    "    2: \"purple\",\n",
    "    1: \"green\",\n",
    "    0: \"grey\",\n",
    "    -1: \"red\"\n",
    "}\n",
    "combined, node_colors, edge_colors = graph_utils.combine_graph( source, query,\n",
    "                                                                matching_colors=matching_colors )\n",
    "plot_utils.plot_graph(\n",
    "    title=\"Combined Graph\",\n",
    "    graph=combined,\n",
    "    nodeColors=node_colors,\n",
    "    edgeColors=edge_colors,\n",
    "    #nodeLabels=graph_utils.get_node_labels( combined, **label_args )\n",
    ")"
   ],
   "metadata": {
    "collapsed": false
   },
   "id": "691820d3988d95ad"
  },
  {
   "cell_type": "code",
   "execution_count": null,
   "outputs": [],
   "source": [
    "is_subgraph( model, source, query )"
   ],
   "metadata": {
    "collapsed": false
   },
   "id": "7be20fffd1f17498"
  },
  {
   "cell_type": "code",
   "execution_count": null,
   "outputs": [],
   "source": [
    "graph_utils.plot_interactions( args, model, source_graph_idx, query_subgraph_idx, threshold=0.5 )"
   ],
   "metadata": {
    "collapsed": false
   },
   "id": "dd743b9df75f88c"
  },
  {
   "cell_type": "code",
   "execution_count": null,
   "outputs": [],
   "source": [
    "def addCpgNode( G, label: cpg_const.NodeLabel, anchor=False ):\n",
    "    node_id = G.number_of_nodes()\n",
    "    anchor_idx = 1 if anchor else 0\n",
    "    G.add_node( node_id, label=misc_utils.get_enum_idx( label ), anchor=anchor_idx )\n",
    "    return node_id"
   ],
   "metadata": {
    "collapsed": false
   },
   "id": "46849002ec0cb530"
  },
  {
   "cell_type": "code",
   "execution_count": null,
   "outputs": [],
   "source": [
    "test_source = nx.DiGraph() if args.directed else nx.Graph()\n",
    "node_a = addCpgNode( test_source, cpg_const.NodeLabel.RECORD, anchor=True )\n",
    "node_b = addCpgNode( test_source, cpg_const.NodeLabel.EXTENDED_BY_RECORD )\n",
    "node_c = addCpgNode( test_source, cpg_const.NodeLabel.RECORD )\n",
    "node_d = addCpgNode( test_source, cpg_const.NodeLabel.RECORD )\n",
    "node_e = addCpgNode( test_source, cpg_const.NodeLabel.KNOWS_RECORD )\n",
    "node_f = addCpgNode( test_source, cpg_const.NodeLabel.RECORD )\n",
    "test_source.add_edge( node_a, node_b )\n",
    "test_source.add_edge( node_b, node_c )\n",
    "test_source.add_edge( node_b, node_d )\n",
    "test_source.add_edge( node_f, node_e )\n",
    "test_source.add_edge( node_e, node_a )\n",
    "\n",
    "plot_utils.plot_graph( test_source,\n",
    "                       title=\"Source Graph\",\n",
    "                       nodeLabels=graph_utils.get_node_labels( test_source ) )"
   ],
   "metadata": {
    "collapsed": false
   },
   "id": "7dc3f0bd1be40610"
  },
  {
   "cell_type": "code",
   "execution_count": null,
   "outputs": [],
   "source": [
    "test_query_iso = test_source.copy()\n",
    "test_query_iso.remove_node( node_e )\n",
    "test_query_iso.remove_node( node_f )\n",
    "\n",
    "combined, node_colors, edge_colors = graph_utils.combine_graph( test_source, test_query_iso,\n",
    "                                                                matching_colors=matching_colors )\n",
    "plot_utils.plot_graph(\n",
    "    title=\"Combined Query Graph (Iso)\",\n",
    "    graph=combined,\n",
    "    nodeColors=node_colors,\n",
    "    edgeColors=edge_colors,\n",
    "    nodeLabels=graph_utils.get_node_labels( combined )\n",
    ")\n",
    "is_subgraph( model, test_source, test_query_iso )"
   ],
   "metadata": {
    "collapsed": false
   },
   "id": "2095191096a98ede"
  },
  {
   "cell_type": "code",
   "execution_count": null,
   "outputs": [],
   "source": [
    "test_query_non_iso = test_source.copy()\n",
    "test_query_non_iso.remove_edge( node_b, node_d )\n",
    "test_query_non_iso.add_edge( node_e, node_d )\n",
    "\n",
    "combined, node_colors, edge_colors = graph_utils.combine_graph( test_source, test_query_non_iso,\n",
    "                                                                matching_colors=matching_colors )\n",
    "plot_utils.plot_graph(\n",
    "    title=\"Combined Query Graph (Non Iso)\",\n",
    "    graph=combined,\n",
    "    nodeColors=node_colors,\n",
    "    edgeColors=edge_colors,\n",
    "    nodeLabels=graph_utils.get_node_labels( combined )\n",
    ")\n",
    "is_subgraph( model, test_source, test_query_non_iso )"
   ],
   "metadata": {
    "collapsed": false
   },
   "id": "f3cbd0bbd7d0aae9"
  },
  {
   "cell_type": "code",
   "execution_count": null,
   "outputs": [],
   "source": [
    "test_query_non_iso = test_source.copy()\n",
    "test_query_non_iso.remove_node( node_a )\n",
    "test_query_non_iso.nodes[ node_b ][ \"anchored\" ] = 1\n",
    "test_query_non_iso.add_edge( node_f, node_b )\n",
    "test_query_non_iso.add_edge( node_f, node_c )\n",
    "\n",
    "combined, node_colors, edge_colors = graph_utils.combine_graph( test_source, test_query_non_iso,\n",
    "                                                                matching_colors=matching_colors )\n",
    "plot_utils.plot_graph(\n",
    "    title=\"Combined Query Graph (Non Iso)\",\n",
    "    graph=combined,\n",
    "    nodeColors=node_colors,\n",
    "    edgeColors=edge_colors,\n",
    "    nodeLabels=graph_utils.get_node_labels( combined )\n",
    ")\n",
    "is_subgraph( model, test_source, test_query_non_iso )"
   ],
   "metadata": {
    "collapsed": false
   },
   "id": "5fb9de52cfcdc84a"
  },
  {
   "cell_type": "code",
   "execution_count": null,
   "outputs": [],
   "source": [
    "args.test_data = True\n",
    "args.iso = False\n",
    "source_graph_idx = 0\n",
    "query_subgraph_idx = 6\n",
    "source = graph_utils.load_source_graph( args, source_graph_idx )\n",
    "query = graph_utils.load_query_graph( args, source_graph_idx, query_subgraph_idx )\n",
    "combined, node_colors, edge_colors = graph_utils.combine_graph( source, query,\n",
    "                                                                matching_colors=matching_colors )\n",
    "plot_utils.plot_graph(\n",
    "    title=\"Combined Graph\",\n",
    "    graph=combined,\n",
    "    nodeColors=node_colors,\n",
    "    edgeColors=edge_colors\n",
    ")\n",
    "is_subgraph( model, source, query )"
   ],
   "metadata": {
    "collapsed": false
   },
   "id": "7cd10809993a5eec"
  },
  {
   "cell_type": "code",
   "execution_count": null,
   "outputs": [],
   "source": [
    "args.test_data = True\n",
    "source_graph_idx = 0\n",
    "conf = 0.5 \n",
    "\n",
    "sources = []\n",
    "queries = []\n",
    "y = []\n",
    "\n",
    "for iso in [True, False]:\n",
    "    args.iso = iso\n",
    "    source = graph_utils.load_source_graph( args, source_graph_idx )\n",
    "    queries.extend( [ *graph_utils.load_query_graphs( args, source_graph_idx ).values() ] )\n",
    "    sources.extend( [ source for _ in list( range( len( queries ) ) ) ] )\n",
    "    y.extend( [ (1.0 if iso else 0.0) for _ in list( range( len( queries ) ) ) ] )\n",
    "\n",
    "preds, (x, y) = model.predict_batch( sources, queries, y_labels=y, conf=conf )\n",
    "for idx, pred in enumerate( preds ):\n",
    "    is_correct = int( x[ idx ] ) == int( y[ idx ] )\n",
    "    print( f\"Sample {idx}: x/y=[{is_correct}] [p={pred:.3}]\" )"
   ],
   "metadata": {
    "collapsed": false
   },
   "id": "bfc29f09783c72ff"
  },
  {
   "cell_type": "code",
   "execution_count": null,
   "outputs": [],
   "source": [
    "p_roc = roc_auc_score( y, x )\n",
    "p_acc = accuracy_score( y, x )\n",
    "p_pre = precision_score( y, x, zero_division=np.nan )\n",
    "p_rec = recall_score( y, x, zero_division=np.nan )\n",
    "p_f1s = f1_score( y, x, zero_division=np.nan )\n",
    "p_prc = average_precision_score( y, x )\n",
    "p_var = np.var( preds )\n",
    "p_std = np.std( preds )\n",
    "\n",
    "print( f\"Roc=[{p_roc:.3}] Acc=[{p_acc:.3}]\"\n",
    "       f\" Prec=[{p_pre:.3}] Rec=[{p_rec:.3}] F1=[{p_f1s:.3}]\"\n",
    "       f\" AvgPrec=[{p_prc:.3}] Var=[{p_var:.3}] Std=[{p_std:.3}]\" )\n",
    "\n",
    "labels = [ True, False ]\n",
    "x_labels = [ True if v == 1.0 else False for v in x ]\n",
    "y_labels = [ True if v == 1.0 else False for v in y ]\n",
    "cm = confusion_matrix( y_labels, x_labels, labels=labels )\n",
    "disp = ConfusionMatrixDisplay( confusion_matrix=cm, display_labels=labels )\n",
    "fig, ax = plt.subplots( figsize=(6, 6) )  # Set figure size\n",
    "disp.plot( cmap=plt.cm.Blues, ax=ax, colorbar=False )\n",
    "\n",
    "plt.title( \"Confusion Matrix\", fontsize=16 )\n",
    "plt.xlabel( \"Is Subgraph (Predicted)\", fontsize=14 )\n",
    "plt.ylabel( \"Is Subgraph (Ground Truth)\", fontsize=14 )\n",
    "plt.xticks( fontsize=10, rotation=90 )\n",
    "plt.yticks( fontsize=10 )"
   ],
   "metadata": {
    "collapsed": false
   },
   "id": "87242b1753533ff2"
  },
  {
   "cell_type": "code",
   "execution_count": null,
   "outputs": [],
   "source": [],
   "metadata": {
    "collapsed": false
   },
   "id": "dd922e0f4afff11e"
  }
 ],
 "metadata": {
  "kernelspec": {
   "display_name": "Python 3",
   "language": "python",
   "name": "python3"
  },
  "language_info": {
   "codemirror_mode": {
    "name": "ipython",
    "version": 2
   },
   "file_extension": ".py",
   "mimetype": "text/x-python",
   "name": "python",
   "nbconvert_exporter": "python",
   "pygments_lexer": "ipython2",
   "version": "2.7.6"
  }
 },
 "nbformat": 4,
 "nbformat_minor": 5
}
