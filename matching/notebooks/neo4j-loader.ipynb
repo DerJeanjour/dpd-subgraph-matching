{
 "cells": [
  {
   "cell_type": "code",
   "execution_count": null,
   "id": "initial_id",
   "metadata": {
    "collapsed": true
   },
   "outputs": [],
   "source": [
    "import networkx as nx\n",
    "from neo4j import GraphDatabase"
   ]
  },
  {
   "cell_type": "code",
   "execution_count": null,
   "outputs": [],
   "source": [
    "uri = \"bolt://localhost:7687\"\n",
    "username = \"neo4j\"\n",
    "password = \"password\""
   ],
   "metadata": {
    "collapsed": false
   },
   "id": "a2ac94c7bb937e67"
  },
  {
   "cell_type": "code",
   "execution_count": null,
   "outputs": [],
   "source": [
    "def fetch_graph_data( tx ):\n",
    "    query = \"\"\"\n",
    "    MATCH (n)-[r]->(m)\n",
    "    RETURN \n",
    "    \n",
    "        elementId(n) AS source_id,\n",
    "        labels(n) AS source_labels,\n",
    "        properties(n) AS source_properties, \n",
    "        \n",
    "        elementId(m) AS target_id, \n",
    "        labels(m) AS target_labels,\n",
    "        properties(m) AS target_properties, \n",
    "        \n",
    "        type(r) AS edge_type\n",
    "    \"\"\"\n",
    "    return list( tx.run( query ) )"
   ],
   "metadata": {
    "collapsed": false
   },
   "id": "dd928870881cfbb6"
  },
  {
   "cell_type": "code",
   "execution_count": null,
   "outputs": [],
   "source": [
    "# Initialize a directed NetworkX graph\n",
    "G = nx.MultiDiGraph()\n",
    "\n",
    "# Initialize the driver\n",
    "driver = GraphDatabase.driver( uri, auth=(username, password) )\n",
    "# Retrieve data from Neo4j and populate the NetworkX graph\n",
    "with driver.session() as session:\n",
    "    results = session.execute_read( fetch_graph_data )\n",
    "\n",
    "    for record in results:\n",
    "        \n",
    "        source_id = record[ \"source_id\" ]\n",
    "        source_labels = record[ \"source_labels\" ]\n",
    "        source_properties = record[ \"source_properties\" ]\n",
    "        target_id = record[ \"target_id\" ]\n",
    "        target_labels = record[ \"target_labels\" ]\n",
    "        target_properties = record[ \"target_properties\" ]\n",
    "        relationship_type = record[ \"edge_type\" ]\n",
    "\n",
    "        G.add_node( source_id, labels=source_labels, **source_properties )\n",
    "        G.add_node( target_id, labels=target_labels, **target_properties )\n",
    "\n",
    "        # Add the edge with relationship type as an edge attribute\n",
    "        G.add_edge( source_id, target_id, type=relationship_type )\n",
    "\n",
    "driver.close()"
   ],
   "metadata": {
    "collapsed": false
   },
   "id": "47ea6325c3be558d"
  },
  {
   "cell_type": "code",
   "execution_count": null,
   "outputs": [],
   "source": [
    "print( \"Nodes:\", G.nodes( data=True ) )\n",
    "print( \"Edges:\", G.edges( data=True ) )"
   ],
   "metadata": {
    "collapsed": false
   },
   "id": "c246f203e0a8fffb"
  },
  {
   "cell_type": "code",
   "execution_count": null,
   "outputs": [],
   "source": [
    "import matplotlib.pyplot as plt\n",
    "\n",
    "plt.figure( figsize=(10, 10) )\n",
    "nx.draw( G, with_labels=True, node_size=500, node_color=\"lightblue\", font_size=10 )\n",
    "plt.show()"
   ],
   "metadata": {
    "collapsed": false
   },
   "id": "82a7cf65fd16b38f"
  },
  {
   "cell_type": "code",
   "execution_count": null,
   "outputs": [],
   "source": [],
   "metadata": {
    "collapsed": false
   },
   "id": "29fa2790b0c35065"
  }
 ],
 "metadata": {
  "kernelspec": {
   "display_name": "Python 3",
   "language": "python",
   "name": "python3"
  },
  "language_info": {
   "codemirror_mode": {
    "name": "ipython",
    "version": 2
   },
   "file_extension": ".py",
   "mimetype": "text/x-python",
   "name": "python",
   "nbconvert_exporter": "python",
   "pygments_lexer": "ipython2",
   "version": "2.7.6"
  }
 },
 "nbformat": 4,
 "nbformat_minor": 5
}
