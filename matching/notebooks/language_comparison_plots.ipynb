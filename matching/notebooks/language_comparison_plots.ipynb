{
 "cells": [
  {
   "cell_type": "code",
   "execution_count": null,
   "id": "initial_id",
   "metadata": {
    "collapsed": true
   },
   "outputs": [],
   "source": [
    "import os\n",
    "\n",
    "import matplotlib.patches as patches\n",
    "import matplotlib.pyplot as plt\n",
    "import networkx as nx\n",
    "import pandas as pd\n",
    "from matplotlib.patches import Patch\n",
    "\n",
    "import matching.glema.common.utils.arg_utils as arg_utils\n",
    "import matching.glema.common.utils.io_utils as io_utils\n",
    "import matching.glema.common.utils.misc_utils as misc_utils\n",
    "import matching.glema.common.utils.plot_utils as plot_utils\n",
    "import matching.glema.data.process.import_dataset as cpg_importer\n",
    "import matching.misc.cpg_const as cpg_const\n",
    "from matching.glema.common.utils.plot_utils import ColorScheme"
   ]
  },
  {
   "cell_type": "code",
   "execution_count": null,
   "outputs": [],
   "source": [
    "args = arg_utils.parse_args( use_default=True )\n",
    "import_dir = io_utils.get_abs_file_path( args.import_dir, with_subproject=False )\n",
    "list_datasets = os.listdir( import_dir )\n",
    "prefixes = [ \"cpp\", \"java\" ]\n",
    "list_datasets = [ d for d in list_datasets if d.startswith( tuple( prefixes ) ) ]\n",
    "list_datasets"
   ],
   "metadata": {
    "collapsed": false
   },
   "id": "b91687438fc10136"
  },
  {
   "cell_type": "code",
   "execution_count": null,
   "outputs": [],
   "source": [
    "DESIGN_PATTERN_MAPPING = {\n",
    "    cpg_const.DesignPatternType.ABSTRACT_FACTORY.value: \"Abstract Factory\",\n",
    "    #cpg_const.DesignPatternType.ADAPTER.value: \"Adapter\",\n",
    "    cpg_const.DesignPatternType.BUILDER.value: \"Builder\",\n",
    "    cpg_const.DesignPatternType.FACADE.value: \"Facade\",\n",
    "    cpg_const.DesignPatternType.FACTORY_METHOD.value: \"Factory Method\",\n",
    "    #cpg_const.DesignPatternType.OBSERVER.value: \"Observer\",\n",
    "    cpg_const.DesignPatternType.SINGLETON.value: \"Singleton\",\n",
    "    cpg_const.DesignPatternType.DECORATOR.value: \"Decorator\",\n",
    "    cpg_const.DesignPatternType.MEMENTO.value: \"Memento\",\n",
    "    cpg_const.DesignPatternType.PROTOTYPE.value: \"Prototype\",\n",
    "    cpg_const.DesignPatternType.PROXY.value: \"Proxy\",\n",
    "    cpg_const.DesignPatternType.VISITOR.value: \"Visitor\",\n",
    "    cpg_const.NO_DESIGN_PATTERN: \"None\",\n",
    "}\n",
    "\n",
    "DIFF_KEY = \"diff\"\n",
    "CPP_DATASET = \"cpp\"\n",
    "JAVA_DATASET = \"java\"\n",
    "DATASETS = [ JAVA_DATASET, CPP_DATASET ]\n",
    "\n",
    "DATASET_MAPPING = {\n",
    "    JAVA_DATASET: \"Java\",\n",
    "    CPP_DATASET: \"C++\"\n",
    "}\n",
    "\n",
    "METRIC_COL_MAPPING = {\n",
    "    CPP_DATASET: DATASET_MAPPING[ CPP_DATASET ],\n",
    "    JAVA_DATASET: DATASET_MAPPING[ JAVA_DATASET ],\n",
    "    DIFF_KEY: \"$|\\Delta x|$\",\n",
    "}\n",
    "\n",
    "records_metric = \"Records (Total)\"\n",
    "interactions_metric = \"Interactions (Total)\"\n",
    "language_key = \"Language\"\n",
    "\n",
    "INTERACTION_MAPPING = {\n",
    "    cpg_const.NodeLabel.RECORD.value: \"Record\",\n",
    "    cpg_const.NodeLabel.KNOWS_RECORD.value: \"Knows\",\n",
    "    cpg_const.NodeLabel.CALLS_RECORD.value: \"Calls\",\n",
    "    cpg_const.NodeLabel.EXTENDED_BY_RECORD.value: \"Extends\",\n",
    "    cpg_const.NodeLabel.CREATES_RECORD.value: \"Creates\",\n",
    "    cpg_const.NodeLabel.RETURNS_RECORD.value: \"Returns\",\n",
    "}\n",
    "\n",
    "INTERACTION_COLOR_MAPPING = {\n",
    "    cpg_const.NodeLabel.KNOWS_RECORD.value: ColorScheme.PRIMARY,\n",
    "    cpg_const.NodeLabel.CALLS_RECORD.value: ColorScheme.PRIMARY_COMP,\n",
    "    cpg_const.NodeLabel.EXTENDED_BY_RECORD.value: ColorScheme.SECONDARY,\n",
    "    cpg_const.NodeLabel.CREATES_RECORD.value: ColorScheme.SECONDARY_COMP,\n",
    "    cpg_const.NodeLabel.RETURNS_RECORD.value: ColorScheme.HIGHLIGHT\n",
    "}\n",
    "\n",
    "INTERACTION_LEGEND = {\n",
    "    ColorScheme.PRIMARY: INTERACTION_MAPPING[ cpg_const.NodeLabel.KNOWS_RECORD.value ],\n",
    "    ColorScheme.PRIMARY_COMP: INTERACTION_MAPPING[ cpg_const.NodeLabel.CALLS_RECORD.value ],\n",
    "    ColorScheme.SECONDARY: INTERACTION_MAPPING[ cpg_const.NodeLabel.EXTENDED_BY_RECORD.value ],\n",
    "    ColorScheme.SECONDARY_COMP: INTERACTION_MAPPING[ cpg_const.NodeLabel.CREATES_RECORD.value ],\n",
    "    ColorScheme.HIGHLIGHT: INTERACTION_MAPPING[ cpg_const.NodeLabel.RETURNS_RECORD.value ]\n",
    "}"
   ],
   "metadata": {
    "collapsed": false
   },
   "id": "bac81f7c54341423"
  },
  {
   "cell_type": "code",
   "execution_count": null,
   "outputs": [],
   "source": [
    "def preprocess_graph( G: nx.Graph ) -> nx.DiGraph:\n",
    "    G_processed = nx.DiGraph()\n",
    "    node_mapping: dict[ str, int ] = { }\n",
    "    for idx, (n, data) in enumerate( G.nodes( data=True ) ):\n",
    "        record_label = cpg_importer.get_record_label( data )\n",
    "        record_label_idx = misc_utils.get_enum_idx( record_label )\n",
    "\n",
    "        record_scope_attr = cpg_const.NodeAttr.SCOPED_RECORD_NAME.value\n",
    "        record_scope = data[ record_scope_attr ] if record_scope_attr in data else None\n",
    "\n",
    "        record_dataset_attr = cpg_const.NodeAttr.DATASET.value\n",
    "        record_dataset = data[ record_dataset_attr ] if record_dataset_attr in data else None\n",
    "\n",
    "        G_processed.add_node( idx,\n",
    "                              label=record_label_idx,\n",
    "                              record_scope=record_scope,\n",
    "                              record_dataset=record_dataset )\n",
    "        node_mapping[ n ] = int( idx )\n",
    "\n",
    "    for source, target in list( G.edges() ):\n",
    "        G_processed.add_edge( node_mapping[ source ], node_mapping[ target ] )\n",
    "\n",
    "    return G_processed\n",
    "\n",
    "\n",
    "graphs: dict[ str, nx.Graph ] = { }\n",
    "for dataset in list_datasets:\n",
    "    import_file = io_utils.get_abs_file_path( f\"{args.import_dir}{dataset}\", with_subproject=False )\n",
    "    G = preprocess_graph( nx.read_gml( path=import_file ) )\n",
    "    dataset_name = dataset.split( \".\" )[ 0 ]\n",
    "    graphs[ dataset_name ] = G\n"
   ],
   "metadata": {
    "collapsed": false
   },
   "id": "cc2f08add50843c3"
  },
  {
   "cell_type": "code",
   "execution_count": null,
   "outputs": [],
   "source": [
    "def convert_edge_interactions( G: nx.DiGraph ) -> nx.DiGraph:\n",
    "    G_converted = nx.DiGraph()\n",
    "    for n, data in G.nodes( data=True ):\n",
    "        n_label = misc_utils.get_enum_by_idx( cpg_const.NodeLabel, data[ \"label\" ] )\n",
    "        if n_label == cpg_const.NodeLabel.RECORD:\n",
    "            G_converted.add_node( n, **data )\n",
    "\n",
    "    for source in list( G_converted.nodes ):\n",
    "        for interaction in G.successors( source ):\n",
    "            interaction_idx = G.nodes[ interaction ][ \"label\" ]\n",
    "            for target in G.successors( interaction ):\n",
    "                if (source, target) in list( G.edges() ):\n",
    "                    continue\n",
    "                G_converted.add_edge( source, target, label=interaction_idx )\n",
    "\n",
    "    return G_converted"
   ],
   "metadata": {
    "collapsed": false
   },
   "id": "9fcbc790b61f2d8c"
  },
  {
   "cell_type": "code",
   "execution_count": null,
   "outputs": [],
   "source": [
    "dp_graphs: dict[ str, dict[ str, nx.Graph ] ] = { }\n",
    "for pattern_type in cpg_const.DesignPatternType:\n",
    "    if pattern_type.value not in DESIGN_PATTERN_MAPPING.keys():\n",
    "        continue\n",
    "    pattern = pattern_type.value.lower()\n",
    "    pattern = pattern.replace( \"_\", \"-\" )\n",
    "    for dataset, G in graphs.items():\n",
    "        G = convert_edge_interactions( G )\n",
    "        if pattern in dataset:\n",
    "            if pattern_type not in dp_graphs:\n",
    "                dp_graphs[ pattern_type ] = { }\n",
    "            if dataset.startswith( CPP_DATASET ):\n",
    "                dp_graphs[ pattern_type ][ CPP_DATASET ] = G\n",
    "            elif dataset.startswith( JAVA_DATASET ):\n",
    "                dp_graphs[ pattern_type ][ JAVA_DATASET ] = G"
   ],
   "metadata": {
    "collapsed": false
   },
   "id": "5a1ff758d8c963e0"
  },
  {
   "cell_type": "code",
   "execution_count": null,
   "outputs": [],
   "source": [
    "def get_edge_labels( G, mapping=None ):\n",
    "    edgeLabels = { }\n",
    "    for edge in G.edges():\n",
    "        label_idx = G[ edge[ 0 ] ][ edge[ 1 ] ][ \"label\" ]\n",
    "        edgeLabels[ edge ] = misc_utils.get_enum_by_idx( cpg_const.NodeLabel, label_idx ).value\n",
    "        if mapping is not None:\n",
    "            edgeLabels[ edge ] = mapping[ edgeLabels[ edge ] ]\n",
    "    return edgeLabels\n",
    "\n",
    "\n",
    "def get_edge_colors( G, color_mapping ):\n",
    "    edge_colors = [ ]\n",
    "    for edge in G.edges():\n",
    "        label_idx = G[ edge[ 0 ] ][ edge[ 1 ] ][ \"label\" ]\n",
    "        label = misc_utils.get_enum_by_idx( cpg_const.NodeLabel, label_idx ).value\n",
    "        edge_colors.append( color_mapping[ label ] )\n",
    "    return edge_colors\n",
    "\n",
    "\n",
    "def get_node_labels( G ):\n",
    "    node_labels = { }\n",
    "    for n, data in G.nodes( data=True ):\n",
    "        node_labels[ n ] = data[ \"record_scope\" ].split( \".\" )[ -1 ]\n",
    "    return node_labels"
   ],
   "metadata": {
    "collapsed": false
   },
   "id": "abe0746e10f703e7"
  },
  {
   "cell_type": "code",
   "execution_count": null,
   "outputs": [],
   "source": [
    "metrics = { }\n",
    "for pattern, datasets in dp_graphs.items():\n",
    "    if pattern not in metrics:\n",
    "        metrics[ pattern ] = { }\n",
    "    for dataset, G in datasets.items():\n",
    "        edge_colors = get_edge_colors( G, INTERACTION_COLOR_MAPPING )\n",
    "        edge_labels = get_edge_labels( G, mapping=INTERACTION_MAPPING )\n",
    "        node_labels = get_node_labels( G )\n",
    "        \"\"\"\n",
    "        plot_utils.plot_graph( G, title=f\"{DESIGN_PATTERN_MAPPING[ pattern.value ]} - {DATASET_MAPPING[ dataset ]}\",\n",
    "                               pos=nx.circular_layout( G ), figsize=(8, 8), font_size=10, edge_width=2,\n",
    "                               edgeColors=edge_colors, nodeLabels=node_labels, color_legend=INTERACTION_LEGEND )\n",
    "        \"\"\"\n",
    "        metrics[ pattern ][ dataset ] = { }\n",
    "        metrics[ pattern ][ dataset ][ records_metric ] = G.number_of_nodes()\n",
    "        metrics[ pattern ][ dataset ][ interactions_metric ] = G.number_of_edges()\n",
    "        for label in edge_labels.values():\n",
    "            if label not in metrics[ pattern ][ dataset ]:\n",
    "                metrics[ pattern ][ dataset ][ label ] = 0\n",
    "            metrics[ pattern ][ dataset ][ label ] += 1"
   ],
   "metadata": {
    "collapsed": false
   },
   "id": "8304d8fc54c93d80"
  },
  {
   "cell_type": "code",
   "execution_count": null,
   "outputs": [],
   "source": [
    "n = len( DATASETS )\n",
    "m = len( dp_graphs.keys() )\n",
    "axis_size = 5\n",
    "font_size = 10\n",
    "fig, axes = plt.subplots( n, m, figsize=(axis_size * m, axis_size * n) )\n",
    "for i, pattern in enumerate( dp_graphs.keys() ):\n",
    "    for j, dataset in enumerate( DATASETS ):\n",
    "        G = dp_graphs[ pattern ][ dataset ]\n",
    "        edge_colors = get_edge_colors( G, INTERACTION_COLOR_MAPPING )\n",
    "        edge_labels = get_edge_labels( G, mapping=INTERACTION_MAPPING )\n",
    "        node_labels = get_node_labels( G )\n",
    "\n",
    "        ax = axes[ j ][ i ]\n",
    "        plot_utils.plot_graph( G, show_title=False, ax=ax,\n",
    "                               edge_width=2, font_size=font_size, nodeColors=ColorScheme.GREY_LIGHT,\n",
    "                               pos=nx.circular_layout( G ), margin=0.3,\n",
    "                               edgeColors=edge_colors, nodeLabels=node_labels )\n",
    "\n",
    "        border_width = 1.5\n",
    "        line_style = \"--\"\n",
    "        rect = patches.Rectangle( (0, 0), 1, 1, transform=ax.transAxes,\n",
    "                                  fill=False, edgecolor=\"black\", linewidth=border_width,\n",
    "                                  linestyle=line_style )\n",
    "        ax.add_patch( rect )\n",
    "\n",
    "        ax.set_xticks( [ ] )\n",
    "        ax.set_yticks( [ ] )\n",
    "\n",
    "plt.subplots_adjust( left=0.1, bottom=0.1, top=0.9, right=0.9, wspace=0.05, hspace=0.05 )\n",
    "# Add query (x-axis) labels at the bottom center of each column.\n",
    "for i, pattern in enumerate( dp_graphs.keys() ):\n",
    "    pos = axes[ 0 ][ i ].get_position()\n",
    "    x = (pos.x0 + pos.x1) / 2.0\n",
    "    y = pos.y1 + 0.04  # position slightly below the subplot\n",
    "    fig.text( x, y, DESIGN_PATTERN_MAPPING[ pattern.value ],\n",
    "              ha=\"center\", va=\"bottom\", fontsize=font_size * 1.8 )\n",
    "\n",
    "# Add source (y-axis) labels at the left center of each row.\n",
    "for j, dataset in enumerate( DATASETS ):\n",
    "    pos = axes[ j ][ 0 ].get_position()\n",
    "    x = pos.x0 - 0.02  # position slightly left of the subplot\n",
    "    y = (pos.y0 + pos.y1) / 2.0\n",
    "    fig.text( x, y, DATASET_MAPPING[ dataset ],\n",
    "              ha=\"right\", va=\"center\", fontsize=font_size * 1.8, rotation='vertical' )\n",
    "\n",
    "legend_elements = [ Patch( facecolor=color, edgecolor='black', label=label )\n",
    "                    for color, label in INTERACTION_LEGEND.items() ]\n",
    "legend_pos = axes[ 0 ][ -1 ].get_position()\n",
    "axis_delta = legend_pos.x1 - legend_pos.x0\n",
    "legend_pos.y1 += 0.008\n",
    "legend_pos.x0 += 0.06\n",
    "legend_pos.x1 += 0.06\n",
    "fig.legend( handles=legend_elements, bbox_to_anchor=legend_pos, title=\"Interactions\" )\n",
    "\n",
    "plt.savefig( f\"plots/language_comparison.png\", bbox_inches='tight', pad_inches=0.1 )"
   ],
   "metadata": {
    "collapsed": false
   },
   "id": "df9e7286f6ee1cc1"
  },
  {
   "cell_type": "code",
   "execution_count": null,
   "outputs": [],
   "source": [
    "metric_names = [ records_metric, interactions_metric, *INTERACTION_LEGEND.values() ]\n",
    "metric_diffs = { }\n",
    "for pattern, datasets in metrics.items():\n",
    "    metric_diffs[ pattern ] = { }\n",
    "\n",
    "    for metric in metric_names:\n",
    "        metric_a = datasets[ CPP_DATASET ].get( metric, 0 )\n",
    "        metric_b = datasets[ JAVA_DATASET ].get( metric, 0 )\n",
    "        metric_diffs[ pattern ][ metric ] = abs( metric_a - metric_b )\n",
    "\n",
    "for pattern, datasets in metrics.items():\n",
    "    metrics[ pattern ][ DIFF_KEY ] = metric_diffs[ pattern ]\n",
    "metrics"
   ],
   "metadata": {
    "collapsed": false
   },
   "id": "a3f0599d0567c4be"
  },
  {
   "cell_type": "code",
   "execution_count": null,
   "outputs": [],
   "source": [
    "metric_df_data = { \"Measure\": metric_names }\n",
    "for pattern in metrics.keys():\n",
    "    for col in METRIC_COL_MAPPING.keys():\n",
    "        col_name = f\"{DESIGN_PATTERN_MAPPING[ pattern.value ]} ({METRIC_COL_MAPPING[ col ]})\"\n",
    "        col_metrics = metrics[ pattern ][ col ]\n",
    "        col_values = [ col_metrics.get( metric, 0 ) for metric in metric_names ]\n",
    "        metric_df_data[ col_name ] = col_values\n",
    "\n",
    "metric_df = pd.DataFrame( data=metric_df_data )\n",
    "metric_df.to_csv( f\"tables/language_difference.csv\", index=False )\n",
    "metric_df"
   ],
   "metadata": {
    "collapsed": false
   },
   "id": "7e1a546389a2d187"
  },
  {
   "cell_type": "code",
   "execution_count": null,
   "outputs": [],
   "source": [
    "pattern_dfs = {}\n",
    "cols = [ language_key, *metric_names ]\n",
    "for pattern in metrics.keys():\n",
    "    pattern_df_data = {}\n",
    "    for dataset in METRIC_COL_MAPPING.keys():\n",
    "        for col in cols:\n",
    "            if col not in pattern_df_data:\n",
    "                pattern_df_data[col] = []\n",
    "            if col == language_key:\n",
    "                pattern_df_data[col].append( METRIC_COL_MAPPING[dataset] )\n",
    "            else:\n",
    "                pattern_df_data[col].append( metrics[ pattern ][ dataset ].get( col, 0 ) )   \n",
    "    pattern_df_data = pd.DataFrame( data=pattern_df_data )\n",
    "    pattern_df_data.to_csv( f\"tables/language_difference_{pattern.value}.csv\", index=False )\n",
    "    pattern_dfs[ DESIGN_PATTERN_MAPPING[ pattern.value ] ] = pattern_df_data\n",
    "pattern_dfs[ \"Builder\" ]"
   ],
   "metadata": {
    "collapsed": false
   },
   "id": "8effe3bb15d7a3c"
  },
  {
   "cell_type": "code",
   "execution_count": null,
   "outputs": [],
   "source": [],
   "metadata": {
    "collapsed": false
   },
   "id": "f590ac7e9f75e5c8"
  }
 ],
 "metadata": {
  "kernelspec": {
   "display_name": "Python 3",
   "language": "python",
   "name": "python3"
  },
  "language_info": {
   "codemirror_mode": {
    "name": "ipython",
    "version": 2
   },
   "file_extension": ".py",
   "mimetype": "text/x-python",
   "name": "python",
   "nbconvert_exporter": "python",
   "pygments_lexer": "ipython2",
   "version": "2.7.6"
  }
 },
 "nbformat": 4,
 "nbformat_minor": 5
}
