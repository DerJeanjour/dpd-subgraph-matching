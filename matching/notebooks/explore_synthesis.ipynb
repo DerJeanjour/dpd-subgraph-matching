{
 "cells": [
  {
   "cell_type": "code",
   "execution_count": null,
   "id": "initial_id",
   "metadata": {
    "collapsed": true
   },
   "outputs": [],
   "source": [
    "import networkx as nx\n",
    "import numpy as np\n",
    "\n",
    "import matching.glema.common.utils.arg_utils as arg_utils\n",
    "import matching.glema.common.utils.graph_utils as graph_utils\n",
    "import matching.glema.common.utils.misc_utils as misc_utils\n",
    "import matching.glema.common.utils.model_utils as model_utils\n",
    "import matching.glema.common.utils.plot_utils as plot_utils\n",
    "import matching.glema.data.process.data_synthesis as synthesis\n",
    "import matching.misc.cpg_const as cpg_const"
   ]
  },
  {
   "cell_type": "code",
   "execution_count": null,
   "outputs": [],
   "source": [
    "args = arg_utils.parse_args( use_default=True )\n",
    "\n",
    "args.dataset = \"CPG_augm_large\"\n",
    "args.directed = False\n",
    "args.anchored = True\n",
    "version = model_utils.get_latest_model_version( args )\n",
    "model_name = model_utils.get_model_name( args, version )\n",
    "\n",
    "args = arg_utils.load_args( args, model_name )\n",
    "args.iso = True\n",
    "args.test_data = True"
   ],
   "metadata": {
    "collapsed": false
   },
   "id": "576f26f8ae6422d9"
  },
  {
   "cell_type": "code",
   "execution_count": null,
   "outputs": [],
   "source": [
    "config_file = f\"{args.config_dir}{args.dataset}.json\"\n",
    "config = synthesis.read_config( config_file )\n",
    "config"
   ],
   "metadata": {
    "collapsed": false
   },
   "id": "66ce39bb06a2bf8b"
  },
  {
   "cell_type": "code",
   "execution_count": null,
   "outputs": [],
   "source": [
    "def add_features( graph, NN, NE, strict_edges=False ):\n",
    "    # add anchor by pagerank score\n",
    "    anchor = graph_utils.top_pr_ranked_node( graph )\n",
    "    for _, data in graph.nodes( data=True ):\n",
    "        data[ \"anchor\" ] = 0\n",
    "    graph.nodes[ anchor ][ \"anchor\" ] = 1\n",
    "\n",
    "    # add node labels\n",
    "    bft_tree = nx.traversal.dfs_tree( nx.Graph( graph ), anchor )\n",
    "    even_depth_label = misc_utils.get_enum_idx( cpg_const.NodeLabel.RECORD )\n",
    "    odd_depth_labels = [ i for i in list( range( 1, NN + 1 ) ) if i != even_depth_label ]\n",
    "    stack = [ (anchor, 0) ]\n",
    "    while stack:\n",
    "        current_node, depth = stack.pop()\n",
    "        if depth % 2 == 0:\n",
    "            graph.nodes[ current_node ][ \"label\" ] = even_depth_label\n",
    "        else:\n",
    "            graph.nodes[ current_node ][ \"label\" ] = np.random.choice( odd_depth_labels )\n",
    "        for child in bft_tree.successors( current_node ):\n",
    "            stack.append( (child, depth + 1) )\n",
    "\n",
    "    # add edge labels and optionally remove invalid edges \n",
    "    edges_to_remove = list()\n",
    "    for source_nid, target_nid, edata in graph.edges( data=True ):\n",
    "\n",
    "        source_label = graph.nodes[ source_nid ][ \"label\" ]\n",
    "        target_label = graph.nodes[ target_nid ][ \"label\" ]\n",
    "\n",
    "        if source_label == even_depth_label and target_label == even_depth_label:\n",
    "            edges_to_remove.append( (source_nid, target_nid) )\n",
    "            continue\n",
    "        if source_label in odd_depth_labels and target_label in odd_depth_labels:\n",
    "            edges_to_remove.append( (source_nid, target_nid) )\n",
    "            continue\n",
    "\n",
    "        edata[ \"label\" ] = np.random.randint( 1, NE + 1, 1 )[ 0 ]\n",
    "    if strict_edges:\n",
    "        for source_nid, target_nid in edges_to_remove:\n",
    "            graph.remove_edge( source_nid, target_nid )\n",
    "\n",
    "    return graph, anchor"
   ],
   "metadata": {
    "collapsed": false
   },
   "id": "3f2967710bb8fee5"
  },
  {
   "cell_type": "code",
   "execution_count": null,
   "outputs": [],
   "source": [
    "def generate_example( config, seed, strict_edges=False, normalize=False ):\n",
    "    misc_utils.set_seed( seed )\n",
    "    G = synthesis.generate_connected_graph(\n",
    "        config[ \"avg_source_size\" ],\n",
    "        config[ \"std_source_size\" ],\n",
    "        config[ \"avg_degree\" ],\n",
    "        config[ \"std_degree\" ],\n",
    "        False\n",
    "    )\n",
    "    G, anchor = synthesis.add_features( G, \n",
    "                              config[ \"number_label_node\" ], \n",
    "                              config[ \"number_label_edge\" ],\n",
    "                              strict_edges=strict_edges )\n",
    "    if normalize:\n",
    "        G, _ = graph_utils.normalize_graph( G, max_distance=4, force_directed=True )\n",
    "    plot_utils.plot_graph( G,\n",
    "                           title=f\"Example #{seed}\",\n",
    "                           nodeColors=graph_utils.get_node_colors( G ),\n",
    "                           nodeLabels=graph_utils.get_node_labels( G ) )"
   ],
   "metadata": {
    "collapsed": false
   },
   "id": "17e174049fae10d3"
  },
  {
   "cell_type": "code",
   "execution_count": null,
   "outputs": [],
   "source": [
    "for i in list( range( 10 ) ):\n",
    "    generate_example( config, i, strict_edges=True, normalize=False )"
   ],
   "metadata": {
    "collapsed": false
   },
   "id": "442418b6d78daa15"
  },
  {
   "cell_type": "code",
   "execution_count": null,
   "outputs": [],
   "source": [],
   "metadata": {
    "collapsed": false
   },
   "id": "39634e71cb90c77a"
  }
 ],
 "metadata": {
  "kernelspec": {
   "display_name": "Python 3",
   "language": "python",
   "name": "python3"
  },
  "language_info": {
   "codemirror_mode": {
    "name": "ipython",
    "version": 2
   },
   "file_extension": ".py",
   "mimetype": "text/x-python",
   "name": "python",
   "nbconvert_exporter": "python",
   "pygments_lexer": "ipython2",
   "version": "2.7.6"
  }
 },
 "nbformat": 4,
 "nbformat_minor": 5
}
