{
 "cells": [
  {
   "cell_type": "code",
   "execution_count": null,
   "id": "initial_id",
   "metadata": {
    "collapsed": true
   },
   "outputs": [],
   "source": [
    "import os\n",
    "import random\n",
    "from tqdm import tqdm\n",
    "import numpy as np\n",
    "import networkx as nx\n",
    "import matching.glema.common.utils.arg_utils as arg_utils\n",
    "import matching.glema.common.utils.misc_utils as misc_utils\n",
    "import matching.glema.common.utils.graph_utils as graph_utils\n",
    "import matching.glema.common.utils.plot_utils as plot_utils\n",
    "import matching.glema.data.process.data_generator as generator\n",
    "import matching.glema.data.process.data_synthesis as synthesis"
   ]
  },
  {
   "cell_type": "code",
   "execution_count": null,
   "outputs": [],
   "source": [
    "args = arg_utils.parse_args( use_default=True )\n",
    "args.dataset = \"CPG_augm_large\"\n",
    "args.seed = 42\n",
    "# args.num_workers = 1\n",
    "args.split_data = True\n",
    "args.num_subgraphs = 64\n",
    "args.directed = False\n",
    "args.max_subgraph = -1"
   ],
   "metadata": {
    "collapsed": false
   },
   "id": "cce81cdf4acc6d59"
  },
  {
   "cell_type": "code",
   "execution_count": null,
   "outputs": [],
   "source": [
    "config_file = os.path.join( args.config_dir, f\"{args.dataset}.json\" )\n",
    "config = generator.read_config( config_file )\n",
    "config"
   ],
   "metadata": {
    "collapsed": false
   },
   "id": "21b5be1c8be6e507"
  },
  {
   "cell_type": "code",
   "execution_count": null,
   "outputs": [],
   "source": [
    "def node_match( first_node, second_node ):\n",
    "    return first_node[ \"label\" ] == second_node[ \"label\" ]\n",
    "\n",
    "\n",
    "def edge_match( first_edge, second_edge ):\n",
    "    return first_edge[ \"label\" ] == second_edge[ \"label\" ]\n",
    "\n",
    "def is_iso( graph, subgraph ):\n",
    "    graph_matcher = nx.algorithms.isomorphism.GraphMatcher(\n",
    "        nx.Graph( graph ), nx.Graph( subgraph ), node_match=node_match, edge_match=edge_match\n",
    "    )\n",
    "    return graph_matcher.subgraph_is_isomorphic()"
   ],
   "metadata": {
    "collapsed": false
   },
   "id": "7a97ee8a75a2b11f"
  },
  {
   "cell_type": "code",
   "execution_count": null,
   "outputs": [],
   "source": [
    "def generate_rnd_graph( config, seed, num_labels=3 ):\n",
    "    misc_utils.set_seed( seed )\n",
    "    graph = graph_utils.generate_graph( int( config[ \"avg_source_size\" ] ), directed=True )\n",
    "    biggest_cluster_size = 0\n",
    "    biggest_cluster: [ ] = None\n",
    "    for c in nx.weakly_connected_components( graph ):\n",
    "        cluster = [ n for n in c ]\n",
    "        if len( cluster ) > biggest_cluster_size:\n",
    "            biggest_cluster = cluster\n",
    "            biggest_cluster_size = len( cluster )\n",
    "    graph = graph.subgraph( biggest_cluster )\n",
    "    for n, data in graph.nodes( data=True ):\n",
    "        data[ \"label\" ] = random.randint(1, num_labels)\n",
    "        data[ \"anchor\" ] = 0\n",
    "    for s, t, data in graph.edges( data=True ):\n",
    "        data[ \"label\" ] = 1\n",
    "        \n",
    "    if not args.directed:\n",
    "        graph = graph.to_undirected()\n",
    "    anchor = graph_utils.top_pr_ranked_node( graph )\n",
    "    graph.nodes[ anchor ][ \"anchor\" ] = 1\n",
    "    return graph, anchor"
   ],
   "metadata": {
    "collapsed": false
   },
   "id": "8965e59692e87514"
  },
  {
   "cell_type": "code",
   "execution_count": null,
   "outputs": [],
   "source": [
    "graph, anchor = generate_rnd_graph( config, 16 )\n",
    "colors = [ \"purple\" if n == anchor else \"grey\" for n in graph.nodes() ]\n",
    "plot_utils.plot_graph( title=\"rnd graph\", graph=graph, nodeColors=colors )"
   ],
   "metadata": {
    "collapsed": false
   },
   "id": "68537ed2d9e3d58"
  },
  {
   "cell_type": "code",
   "execution_count": null,
   "outputs": [],
   "source": [
    "def generate_subgraph_iso( graph, anchor, num, config ):\n",
    "    subgraphs = [ ]\n",
    "    for i in range( num ):\n",
    "        misc_utils.set_seed( i )\n",
    "        no_of_nodes = np.random.randint( 2, graph.number_of_nodes() + 1 )\n",
    "        subgraph = generator.generate_iso_subgraph(\n",
    "            nx.Graph( graph ),\n",
    "            anchor,\n",
    "            True,\n",
    "            no_of_nodes,\n",
    "            **config\n",
    "        )\n",
    "        subgraphs.append( subgraph )\n",
    "    return subgraphs"
   ],
   "metadata": {
    "collapsed": false
   },
   "id": "3443f7f6e1de5607"
  },
  {
   "cell_type": "code",
   "execution_count": null,
   "outputs": [],
   "source": [
    "num_subgraphs = 23\n",
    "iso_subgraphs = generate_subgraph_iso( graph, anchor, num_subgraphs, config )\n",
    "iso_subgraph = iso_subgraphs[ num_subgraphs - 1 ]\n",
    "print( f\"Is isomorph: {is_iso( graph, iso_subgraph )}\" )\n",
    "\n",
    "matching_colors = {\n",
    "    2: \"purple\",\n",
    "    1: \"green\",\n",
    "    0: \"grey\",\n",
    "    -1: \"red\"\n",
    "}\n",
    "combined_iso, node_colors, edge_colors = graph_utils.combine_graph(\n",
    "    graph.to_undirected(), iso_subgraph, anchor=anchor, matching_colors=matching_colors )\n",
    "\n",
    "plot_utils.plot_graph(\n",
    "    title=\"iso graph in rnd graph\",\n",
    "    graph=combined_iso,\n",
    "    nodeColors=node_colors,\n",
    "    edgeColors=edge_colors )"
   ],
   "metadata": {
    "collapsed": false
   },
   "id": "1fef8cf8d4110738"
  },
  {
   "cell_type": "code",
   "execution_count": null,
   "outputs": [],
   "source": [
    "anchor_iso_subgraphs = 0\n",
    "iso_iso_subgraphs = 0\n",
    "total_iso_subgraphs = 0\n",
    "non_iso_example = None\n",
    "for seed in tqdm( range( 100 ) ):\n",
    "    graph, anchor = generate_rnd_graph( config, seed )\n",
    "    subgraphs = generate_subgraph_iso( graph, anchor, 20, config )\n",
    "    for subgraph in subgraphs:\n",
    "        if anchor in subgraph.nodes:\n",
    "            anchor_iso_subgraphs += 1\n",
    "        if is_iso( graph, subgraph ):\n",
    "            iso_iso_subgraphs += 1\n",
    "        else:\n",
    "            non_iso_example = (graph, subgraph)\n",
    "        total_iso_subgraphs += 1\n",
    "\n",
    "print( f\"Found anchors in iso subgraphs: {anchor_iso_subgraphs}/{total_iso_subgraphs}\" )\n",
    "print( f\"Found isomorph graphs in iso subgraphs: {iso_iso_subgraphs}/{total_iso_subgraphs}\" )\n",
    "if non_iso_example is not None:\n",
    "    graph, subgraph = non_iso_example\n",
    "    plot_utils.plot_graph( graph, title=\"graph\", \n",
    "                           nodeLabels=graph_utils.get_node_labels( graph ),\n",
    "                           nodeColors=graph_utils.get_node_colors(graph) )\n",
    "    plot_utils.plot_graph( subgraph, title=\"subgraph\", \n",
    "                           nodeLabels=graph_utils.get_node_labels( subgraph ),\n",
    "                           nodeColors=graph_utils.get_node_colors(subgraph) )"
   ],
   "metadata": {
    "collapsed": false
   },
   "id": "f2ffebc389ff7703"
  },
  {
   "cell_type": "code",
   "execution_count": null,
   "outputs": [],
   "source": [
    "def generate_subgraph_noniso( graph, anchor, num, config ):\n",
    "    subgraphs = [ ]\n",
    "    for i in range( num ):\n",
    "        misc_utils.set_seed( i )\n",
    "        no_of_nodes = np.random.randint( 2, graph.number_of_nodes() + 1 )\n",
    "        subgraph = generator.generate_noniso_subgraph(\n",
    "            nx.Graph( graph ),\n",
    "            anchor,\n",
    "            True,\n",
    "            no_of_nodes,\n",
    "            **config\n",
    "        )\n",
    "        subgraphs.append( subgraph )\n",
    "    return subgraphs"
   ],
   "metadata": {
    "collapsed": false
   },
   "id": "6c88585c02355e14"
  },
  {
   "cell_type": "code",
   "execution_count": null,
   "outputs": [],
   "source": [
    "num_subgraphs = 14\n",
    "noniso_subgraphs = generate_subgraph_noniso( graph, anchor, num_subgraphs, config )\n",
    "noniso_subgraph = noniso_subgraphs[ num_subgraphs - 1 ]\n",
    "print( f\"Is isomorph: {is_iso( graph, noniso_subgraph )}\" )\n",
    "\n",
    "matching_colors = {\n",
    "    2: \"purple\",\n",
    "    1: \"green\",\n",
    "    0: \"grey\",\n",
    "    -1: \"red\"\n",
    "}\n",
    "combined_noniso, node_colors, edge_colors = graph_utils.combine_graph(\n",
    "    graph.to_undirected(), noniso_subgraph, anchor=anchor, matching_colors=matching_colors )\n",
    "\n",
    "plot_utils.plot_graph(\n",
    "    title=\"non iso graph in rnd graph\",\n",
    "    graph=combined_noniso,\n",
    "    nodeColors=node_colors,\n",
    "    edgeColors=edge_colors )"
   ],
   "metadata": {
    "collapsed": false
   },
   "id": "d8323333b399733a"
  },
  {
   "cell_type": "code",
   "execution_count": null,
   "outputs": [],
   "source": [
    "anchor_noniso_subgraphs = 0\n",
    "iso_noniso_subgraphs = 0\n",
    "total_noniso_subgraphs = 0\n",
    "skipped_subgraphs = 0\n",
    "for seed in tqdm( range( 100 ) ):\n",
    "    graph, anchor = generate_rnd_graph( config, seed )\n",
    "    #colors = [ \"purple\" if n == anchor else \"grey\" for n in graph.nodes() ]\n",
    "    #plot_utils.plot_graph( title=f\"#{seed}\", graph=graph, nodeColors=colors )\n",
    "    \n",
    "    subgraphs = generate_subgraph_noniso( graph, anchor, 20, config )\n",
    "    for subgraph in subgraphs:\n",
    "        if subgraph == None:\n",
    "            skipped_subgraphs += 1\n",
    "            continue\n",
    "        if anchor in subgraph.nodes:\n",
    "            anchor_noniso_subgraphs += 1\n",
    "        if is_iso( graph, subgraph ):\n",
    "            iso_noniso_subgraphs += 1\n",
    "        total_noniso_subgraphs += 1\n",
    "\n",
    "print( f\"Skipped generation of subgraphs: {skipped_subgraphs}\" )\n",
    "print( f\"Found anchors in non iso subgraphs: {anchor_noniso_subgraphs}/{total_noniso_subgraphs}\" )\n",
    "print( f\"Found isomorph graphs in non iso subgraphs: {iso_noniso_subgraphs}/{total_noniso_subgraphs}\" )"
   ],
   "metadata": {
    "collapsed": false
   },
   "id": "5f23ffb0b13b7c3c"
  },
  {
   "cell_type": "code",
   "execution_count": null,
   "outputs": [],
   "source": [],
   "metadata": {
    "collapsed": false
   },
   "id": "d0e8628f65833f53"
  }
 ],
 "metadata": {
  "kernelspec": {
   "display_name": "Python 3",
   "language": "python",
   "name": "python3"
  },
  "language_info": {
   "codemirror_mode": {
    "name": "ipython",
    "version": 2
   },
   "file_extension": ".py",
   "mimetype": "text/x-python",
   "name": "python",
   "nbconvert_exporter": "python",
   "pygments_lexer": "ipython2",
   "version": "2.7.6"
  }
 },
 "nbformat": 4,
 "nbformat_minor": 5
}
