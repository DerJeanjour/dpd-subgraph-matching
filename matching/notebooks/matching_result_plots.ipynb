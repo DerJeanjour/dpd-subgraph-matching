{
 "cells": [
  {
   "cell_type": "code",
   "execution_count": null,
   "id": "initial_id",
   "metadata": {
    "collapsed": true
   },
   "outputs": [],
   "source": [
    "import os\n",
    "from functools import reduce\n",
    "\n",
    "import matplotlib.pyplot as plt\n",
    "import numpy as np\n",
    "import pandas as pd\n",
    "from matplotlib.colors import LinearSegmentedColormap\n",
    "from sklearn.metrics import confusion_matrix, ConfusionMatrixDisplay\n",
    "\n",
    "import matching.glema.common.utils.arg_utils as arg_utils\n",
    "import matching.glema.common.utils.io_utils as io_utils\n",
    "import matching.glema.common.utils.model_utils as model_utils\n",
    "import matching.glema.evaluation.evaluate_pattern_matching as epm\n",
    "import matching.misc.cpg_const as cpg_const\n",
    "from matching.glema.common.utils.plot_utils import ColorScheme"
   ]
  },
  {
   "cell_type": "code",
   "execution_count": null,
   "outputs": [],
   "source": [
    "args = arg_utils.parse_args( use_default=True )\n",
    "#args.dataset = \"dpdf\"\n",
    "args.dataset = \"CPG_augm_large\"\n",
    "args.directed = True\n",
    "args.anchored = True\n",
    "version = model_utils.get_latest_model_version( args )\n",
    "model_name = model_utils.get_model_name( args, version )\n",
    "\n",
    "result_dir = os.path.join( args.result_dir, model_name )\n",
    "subgraph_matching_file = io_utils.get_abs_file_path( os.path.join( result_dir, \"result.csv\" ) )\n",
    "pattern_matching_file = io_utils.get_abs_file_path( os.path.join( result_dir, \"result_pattern_matching.csv\" ) )\n",
    "pattern_matching_sources_file = io_utils.get_abs_file_path(\n",
    "    os.path.join( result_dir, \"result_pattern_matching_sources.csv\" ) )"
   ],
   "metadata": {
    "collapsed": false
   },
   "id": "310b818640d7026a"
  },
  {
   "cell_type": "code",
   "execution_count": null,
   "outputs": [],
   "source": [
    "DESIGN_PATTERN_MAPPING = {\n",
    "    #cpg_const.DesignPatternType.ABSTRACT_FACTORY.value: \"Abstract Factory\",\n",
    "    cpg_const.DesignPatternType.ADAPTER.value: \"Adapter\",\n",
    "    cpg_const.DesignPatternType.BUILDER.value: \"Builder\",\n",
    "    #cpg_const.DesignPatternType.FACADE.value: \"Facade\",\n",
    "    cpg_const.DesignPatternType.FACTORY_METHOD.value: \"Factory Method\",\n",
    "    cpg_const.DesignPatternType.OBSERVER.value: \"Observer\",\n",
    "    cpg_const.DesignPatternType.SINGLETON.value: \"Singleton\",\n",
    "    cpg_const.DesignPatternType.DECORATOR.value: \"Decorator\",\n",
    "    #cpg_const.DesignPatternType.MEMENTO.value: \"Memento\",\n",
    "    #cpg_const.DesignPatternType.PROTOTYPE.value: \"Prototype\",\n",
    "    #cpg_const.DesignPatternType.PROXY.value: \"Proxy\",\n",
    "    #cpg_const.DesignPatternType.VISITOR.value: \"Visitor\",\n",
    "    cpg_const.NO_DESIGN_PATTERN: \"None\",\n",
    "}\n",
    "\n",
    "DATASET_KEY = \"dataset\"\n",
    "RECORD_KEY = \"record\"\n",
    "TRUE_KEY = \"true_type\"\n",
    "PRED_KEY = \"pred_type\"\n",
    "PRED_SCORE_KEY = \"pred_score\"\n",
    "\n",
    "CONFIDENCE_KEY = \"Confident\"\n",
    "TIME_KEY = \"Execution Time\"\n",
    "ROC_KEY = \"ROC AUC\"\n",
    "PR_KEY = \"PR AUC\"\n",
    "PREC_KEY = \"Precision\"\n",
    "REC_KEY = \"Recall\"\n",
    "F1_KEY = \"F1-Score\"\n",
    "ACC_KEY = \"Accuracy\"\n",
    "PATTERN_KEY = \"Pattern\"\n",
    "\n",
    "METRIC_COMPUTE_MAPPING = {\n",
    "    ROC_KEY: \"roc\",\n",
    "    PR_KEY: \"avp\",\n",
    "    PREC_KEY: \"pre\",\n",
    "    REC_KEY: \"rec\",\n",
    "    F1_KEY: \"f1s\",\n",
    "    ACC_KEY: \"acc\"\n",
    "}\n",
    "\n",
    "KEY_MAPPING = {\n",
    "    DATASET_KEY: \"Project\",\n",
    "    RECORD_KEY: \"Record\",\n",
    "    TRUE_KEY: \"True Pattern\",\n",
    "    PRED_KEY: \"Predicted Pattern\",\n",
    "    PRED_SCORE_KEY: \"Prediction Score\",\n",
    "    CONFIDENCE_KEY: \"Confidence\",\n",
    "    TIME_KEY: \"Runtime (s)\",\n",
    "    ROC_KEY: \"ROC AUC\",\n",
    "    PR_KEY: \"PR AUC\",\n",
    "    PREC_KEY: \"Precision\",\n",
    "    REC_KEY: \"Recall\",\n",
    "    F1_KEY: \"F1-Score\",\n",
    "    ACC_KEY: \"Accuracy\",\n",
    "}\n",
    "\n",
    "PROJECT_QUICK_UML = \"QuickUML\"\n",
    "PROJECT_JUNIT = \"JUnit\"\n",
    "PROJECT_J_HOT_DRAW = \"JHotDraw\"\n",
    "PROJECT_MAPPER_XML = \"MapperXML\"\n",
    "PROJECT_NUTCH = \"Apache Nutch\"\n",
    "PROJECT_PMD = \"PMD\"\n",
    "\n",
    "PROJECT_MAPPING = {\n",
    "    \"p_mart-1_-_quickuml_2001\": PROJECT_QUICK_UML,\n",
    "    \"p_mart-5_-_junit_v37\": PROJECT_JUNIT,\n",
    "    \"p_mart-6_-_jhotdraw_v51\": PROJECT_J_HOT_DRAW,\n",
    "    \"p_mart-8_-_mapperxml_v197\": PROJECT_MAPPER_XML,\n",
    "    \"p_mart-10_-_nutch_v04\": PROJECT_NUTCH,\n",
    "    \"p_mart-11_-_pmd_v18\": PROJECT_PMD,\n",
    "}\n",
    "\n",
    "NAN_MAPPING = \"-\""
   ],
   "metadata": {
    "collapsed": false
   },
   "id": "cb1a31d74c8a32e5"
  },
  {
   "cell_type": "code",
   "execution_count": null,
   "outputs": [],
   "source": [
    "subgraph_matching_df = pd.read_csv( subgraph_matching_file )\n",
    "pattern_matching_df = pd.read_csv( pattern_matching_file )\n",
    "source_pred_df = pd.read_csv( pattern_matching_sources_file, na_filter=False )"
   ],
   "metadata": {
    "collapsed": false
   },
   "id": "268c49d5e484c131"
  },
  {
   "cell_type": "code",
   "execution_count": null,
   "outputs": [],
   "source": [
    "source_pred_df"
   ],
   "metadata": {
    "collapsed": false
   },
   "id": "b44b5982117bf02"
  },
  {
   "cell_type": "code",
   "execution_count": null,
   "outputs": [],
   "source": [
    "# remove rows with a true_type not in the MAPPING\n",
    "source_pred_df = source_pred_df[ source_pred_df[ TRUE_KEY ].isin( DESIGN_PATTERN_MAPPING.keys() ) ]\n",
    "# rows where pred_type is not in the MAPPING keys, set it to NONE\n",
    "source_pred_df.loc[\n",
    "    ~source_pred_df[ PRED_KEY ].isin( DESIGN_PATTERN_MAPPING.keys() ), PRED_KEY ] = cpg_const.NO_DESIGN_PATTERN\n",
    "source_pred_df[ DATASET_KEY ] = source_pred_df[ DATASET_KEY ].map( PROJECT_MAPPING )\n",
    "source_pred_df"
   ],
   "metadata": {
    "collapsed": false
   },
   "id": "14fc695c32867e2c"
  },
  {
   "cell_type": "markdown",
   "source": [
    "## Confusion Matrix"
   ],
   "metadata": {
    "collapsed": false
   },
   "id": "90afff996cccf797"
  },
  {
   "cell_type": "code",
   "execution_count": null,
   "outputs": [],
   "source": [
    "def compute_pred_cm( true_labels: list[ str ], pred_labels: list[ str ], file_name,\n",
    "                     labels=None, include_na=True ):\n",
    "    if labels is None:\n",
    "        labels = [ dp.value for dp in cpg_const.DesignPatternType ]\n",
    "    if include_na:\n",
    "        labels = [ *labels, cpg_const.NO_DESIGN_PATTERN ]\n",
    "\n",
    "    cm = confusion_matrix( true_labels, pred_labels, labels=labels, normalize=\"true\" )\n",
    "    cm = np.round( cm, 2 )\n",
    "\n",
    "    display_labels = [ DESIGN_PATTERN_MAPPING[ label ] for label in labels ]\n",
    "    fig, ax = plt.subplots( figsize=(8, 6) )\n",
    "    disp = ConfusionMatrixDisplay( confusion_matrix=cm, display_labels=display_labels )\n",
    "\n",
    "    cmap = LinearSegmentedColormap.from_list( \"custom_cmap\", [\n",
    "        ColorScheme.SECONDARY_LIGHT,\n",
    "        ColorScheme.SECONDARY_DARK ] )\n",
    "    disp.plot( cmap=cmap, ax=ax, colorbar=True )\n",
    "\n",
    "    for text in disp.text_.ravel():\n",
    "        text.set_fontsize( 8 )\n",
    "    plt.xlabel( KEY_MAPPING[ PRED_KEY ], fontsize=14 )\n",
    "    plt.ylabel( KEY_MAPPING[ TRUE_KEY ], fontsize=14 )\n",
    "    plt.xticks( fontsize=10, rotation=60 )\n",
    "    plt.yticks( fontsize=10 )\n",
    "\n",
    "    plt.savefig( f\"plots/{file_name}\", bbox_inches='tight', pad_inches=0.1 )\n",
    "\n",
    "\n",
    "pattern_types = set( DESIGN_PATTERN_MAPPING.keys() )\n",
    "pattern_types.remove( cpg_const.NO_DESIGN_PATTERN )\n",
    "print( pattern_types )\n",
    "true_labels = source_pred_df[ TRUE_KEY ].to_list()\n",
    "pred_labels = source_pred_df[ PRED_KEY ].to_list()\n",
    "compute_pred_cm( true_labels, pred_labels, \"matching_cm\", labels=pattern_types, include_na=True )"
   ],
   "metadata": {
    "collapsed": false
   },
   "id": "e845331cdaf9bcac"
  },
  {
   "cell_type": "markdown",
   "source": [
    "## Metric Value Progress "
   ],
   "metadata": {
    "collapsed": false
   },
   "id": "ce88446d5fe1fce3"
  },
  {
   "cell_type": "code",
   "execution_count": null,
   "outputs": [],
   "source": [
    "subgraph_matching_df"
   ],
   "metadata": {
    "collapsed": false
   },
   "id": "7d499d97e81bd2e1"
  },
  {
   "cell_type": "code",
   "execution_count": null,
   "outputs": [],
   "source": [
    "def plot_metrics( df, name, x_col,\n",
    "                  metric_cols=None,\n",
    "                  color_scheme=None,\n",
    "                  force_even_x_spacing=False ):\n",
    "    if metric_cols is None:\n",
    "        # Use all columns except the x-axis column if metric_cols not provided\n",
    "        metric_cols = [ col for col in df.columns if col != x_col ]\n",
    "\n",
    "    plt.figure( figsize=(10, 6) )\n",
    "\n",
    "    x_positions = df[ x_col ]\n",
    "    if force_even_x_spacing:\n",
    "        x_positions = range( len( df ) )\n",
    "\n",
    "    # Plot each metric column\n",
    "    for i, col in enumerate( metric_cols ):\n",
    "        # Use a color from the color_scheme if provided, cycling if necessary\n",
    "        color = color_scheme[ i % len( color_scheme ) ] if color_scheme else None\n",
    "        plt.plot( x_positions, df[ col ], marker=\"o\", label=KEY_MAPPING[ col ], color=color )\n",
    "\n",
    "    plt.xlabel( KEY_MAPPING[ x_col ] )\n",
    "    if force_even_x_spacing:\n",
    "        plt.xticks( x_positions, df[ x_col ] )\n",
    "    plt.ylabel( \"Metric Value\" )\n",
    "    plt.legend()\n",
    "    plt.grid( True )\n",
    "    plt.tight_layout()\n",
    "    plt.savefig( f\"plots/metric_progress_{name}\", bbox_inches='tight', pad_inches=0.1 )\n",
    "\n",
    "\n",
    "metric_cols_1 = [ ACC_KEY, PREC_KEY, REC_KEY, F1_KEY ]\n",
    "metric_cols_2 = [ ROC_KEY, PR_KEY ]\n",
    "\n",
    "plot_metrics( subgraph_matching_df,\n",
    "              \"subgraph_matching_general\",\n",
    "              CONFIDENCE_KEY,\n",
    "              color_scheme=ColorScheme.all_high_contrast(),\n",
    "              metric_cols=metric_cols_1,\n",
    "              force_even_x_spacing=True )\n",
    "plot_metrics( subgraph_matching_df,\n",
    "              \"subgraph_matching_auc\",\n",
    "              CONFIDENCE_KEY,\n",
    "              color_scheme=ColorScheme.all_high_contrast(),\n",
    "              metric_cols=metric_cols_2,\n",
    "              force_even_x_spacing=True )\n",
    "\n",
    "plot_metrics( pattern_matching_df,\n",
    "              \"pattern_matching_general\",\n",
    "              CONFIDENCE_KEY,\n",
    "              color_scheme=ColorScheme.all_high_contrast(),\n",
    "              metric_cols=metric_cols_1,\n",
    "              force_even_x_spacing=True )\n",
    "plot_metrics( pattern_matching_df,\n",
    "              \"pattern_matching_auc\",\n",
    "              CONFIDENCE_KEY,\n",
    "              color_scheme=ColorScheme.all_high_contrast(),\n",
    "              metric_cols=metric_cols_2,\n",
    "              force_even_x_spacing=True )"
   ],
   "metadata": {
    "collapsed": false
   },
   "id": "9184d843ffe8146a"
  },
  {
   "cell_type": "markdown",
   "source": [
    "## Tables"
   ],
   "metadata": {
    "collapsed": false
   },
   "id": "7df12b4b00a814dc"
  },
  {
   "cell_type": "code",
   "execution_count": null,
   "outputs": [],
   "source": [
    "def filter_by_column_value( df: pd.DataFrame, col: str, value ) -> pd.DataFrame:\n",
    "    return df.loc[ df[ col ] == value ]\n",
    "\n",
    "\n",
    "def to_binarized_patterns( df: pd.DataFrame, pattern: str ) -> pd.DataFrame:\n",
    "    df = df.copy()\n",
    "    df.loc[ df[ TRUE_KEY ] != pattern, [ TRUE_KEY ] ] = cpg_const.NO_DESIGN_PATTERN\n",
    "    df.loc[ df[ PRED_KEY ] != pattern, [ PRED_KEY ] ] = cpg_const.NO_DESIGN_PATTERN\n",
    "    return df\n",
    "\n",
    "\n",
    "def group_by_col( df: pd.DataFrame, col: str, binarize_patterns=False ) -> dict[ str, pd.DataFrame ]:\n",
    "    groups: dict[ str, pd.DataFrame ] = { }\n",
    "    for col_value in list( source_pred_df[ col ].unique() ):\n",
    "        if binarize_patterns:\n",
    "            if col_value == cpg_const.NO_DESIGN_PATTERN:\n",
    "                continue\n",
    "            groups[ col_value ] = to_binarized_patterns( df, col_value )\n",
    "        else:\n",
    "            groups[ col_value ] = filter_by_column_value( df, col, col_value )\n",
    "    return groups"
   ],
   "metadata": {
    "collapsed": false
   },
   "id": "3cf2c43c6250e649"
  },
  {
   "cell_type": "code",
   "execution_count": null,
   "outputs": [],
   "source": [
    "source_pred_dataset_dfs = group_by_col( source_pred_df, DATASET_KEY )\n",
    "source_pred_dataset_df_example = source_pred_dataset_dfs[ PROJECT_QUICK_UML ]\n",
    "source_pred_dataset_df_example"
   ],
   "metadata": {
    "collapsed": false
   },
   "id": "1c4a149ab55ffcc0"
  },
  {
   "cell_type": "code",
   "execution_count": null,
   "outputs": [],
   "source": [
    "source_pred_pattern_dfs = group_by_col( source_pred_df, TRUE_KEY, binarize_patterns=True )\n",
    "source_pred_pattern_df_example = source_pred_pattern_dfs[ cpg_const.DesignPatternType.ADAPTER.value ]\n",
    "source_pred_pattern_df_example"
   ],
   "metadata": {
    "collapsed": false
   },
   "id": "d9c7747490863b47"
  },
  {
   "cell_type": "code",
   "execution_count": null,
   "outputs": [],
   "source": [
    "def get_metric_df( df: pd.DataFrame, name: str, round_to: int = 3 ) -> pd.DataFrame:\n",
    "    true_labels = df[ TRUE_KEY ].to_list()\n",
    "    pred_labels = df[ PRED_KEY ].to_list()\n",
    "    x_labels, y_labels = epm.to_numeric_labels( true_labels, pred_labels )\n",
    "    metrics = epm.compute_metrics( x_labels, y_labels )\n",
    "\n",
    "    metric_cols = [ ACC_KEY, PREC_KEY, REC_KEY, F1_KEY, ROC_KEY, PR_KEY ]\n",
    "    data = [ round( metrics[ METRIC_COMPUTE_MAPPING[ key ] ], round_to ) for key in metric_cols ]\n",
    "    return pd.DataFrame( [ [ name, *data ] ], columns=[ \"Pattern\", *metric_cols ] )\n",
    "\n",
    "\n",
    "def get_empty_metric_df( name: str ):\n",
    "    metric_cols = [ ACC_KEY, PREC_KEY, REC_KEY, F1_KEY, ROC_KEY, PR_KEY ]\n",
    "    #data = [ cpg_const.NO_DESIGN_PATTERN for _ in metric_cols ]\n",
    "    data = [ np.nan for _ in metric_cols ]\n",
    "    return pd.DataFrame( [ [ name, *data ] ], columns=[ \"Pattern\", *metric_cols ] )\n",
    "\n",
    "\n",
    "def compute_overall_row( df: pd.DataFrame ) -> pd.DataFrame:\n",
    "    df_copy = df.copy()\n",
    "    # Convert the metric columns to numeric values (skip the 'Pattern' column)\n",
    "    df_copy.iloc[ :, 1: ] = df_copy.iloc[ :, 1: ].apply( pd.to_numeric )\n",
    "    # Compute the average of each metric, automatically ignoring NaN values\n",
    "    metrics_mean = df_copy.iloc[ :, 1: ].mean()\n",
    "    metrics_mean = metrics_mean.round( 3 )\n",
    "    # Create a new row for 'Overall'\n",
    "    overall_row = { \"Pattern\": \"Overall\" }\n",
    "    overall_row.update( metrics_mean.to_dict() )\n",
    "    overall_row = { k: [ v ] for k, v in overall_row.items() }\n",
    "    overall = pd.DataFrame.from_dict( overall_row, orient='columns' )\n",
    "    # Append the new row to the DataFrame\n",
    "    return pd.concat( [ df, overall ], ignore_index=True )\n",
    "\n",
    "\n",
    "def get_metric_df_by_patterns( df: pd.DataFrame, table_name ) -> pd.DataFrame:\n",
    "    #metrics = get_metric_df( df, \"All\" )\n",
    "    metrics = None\n",
    "    for pattern, pattern_df in group_by_col( df, TRUE_KEY, binarize_patterns=True ).items():\n",
    "        pattern_metrics = get_empty_metric_df( DESIGN_PATTERN_MAPPING[ pattern ] )\n",
    "        if len( pattern_df[ TRUE_KEY ].unique() ) >= 2:\n",
    "            pattern_metrics = get_metric_df( pattern_df, DESIGN_PATTERN_MAPPING[ pattern ] )\n",
    "        if metrics is None:\n",
    "            metrics = pattern_metrics\n",
    "        else:\n",
    "            metrics = pd.concat( [ metrics, pattern_metrics ], ignore_index=True )\n",
    "\n",
    "    \n",
    "\n",
    "    metrics_copy = metrics.copy()\n",
    "    metrics_copy = compute_overall_row( metrics_copy )\n",
    "    metrics_copy = metrics_copy.replace( np.nan, NAN_MAPPING )\n",
    "    metrics_copy = metrics_copy.applymap( lambda x: \"{:.2f}\".format( x ) if isinstance( x, (int, float) ) else x )\n",
    "\n",
    "    table_name = table_name.replace( \" \", \"_\" )\n",
    "    table_name = table_name.lower()\n",
    "    metrics_copy.to_csv( f\"tables/metrics_{table_name}.csv\", index=False )\n",
    "    return metrics\n",
    "\n",
    "\n",
    "all_metrics = get_metric_df_by_patterns( source_pred_df, \"all\" )\n",
    "for dataset, dataset_df in source_pred_dataset_dfs.items():\n",
    "    get_metric_df_by_patterns( dataset_df, dataset )\n",
    "all_metrics"
   ],
   "metadata": {
    "collapsed": false
   },
   "id": "8796e683b5a3390b"
  },
  {
   "cell_type": "code",
   "execution_count": null,
   "outputs": [],
   "source": [
    "get_metric_df( source_pred_df, \"all\" )"
   ],
   "metadata": {
    "collapsed": false
   },
   "id": "74803357d91417fd"
  },
  {
   "cell_type": "code",
   "execution_count": null,
   "outputs": [],
   "source": [
    "def f1( P, R ):\n",
    "    if np.isnan( P ) or np.isnan( R ):\n",
    "        return np.nan\n",
    "    return round( 2 * ((P * R) / (P + R)), 3 )"
   ],
   "metadata": {
    "collapsed": false
   },
   "id": "8f57f05acbdea48d"
  },
  {
   "cell_type": "code",
   "execution_count": null,
   "outputs": [],
   "source": [
    "REFERENCE_OWN = \"Own\"\n",
    "REFERENCE_DPDF = \"DPDF\"\n",
    "REFERENCE_DPF_GNN = \"DPF GNN\"\n",
    "\n",
    "REFERENCE_MAPPING = {\n",
    "    \"dpdf\": REFERENCE_DPDF,\n",
    "    \"dpf_gnn\": REFERENCE_DPF_GNN\n",
    "}\n",
    "\n",
    "metric_dfs: dict[ str, pd.DataFrame ] = {\n",
    "    REFERENCE_OWN: all_metrics[ [ PATTERN_KEY, REC_KEY, PREC_KEY, F1_KEY ] ]\n",
    "}\n",
    "for reference_name in REFERENCE_MAPPING.keys():\n",
    "    rdf = pd.read_csv( f\"tables/reference_metrics_{reference_name}.csv\" )\n",
    "    rdf = rdf.loc[ rdf[ PATTERN_KEY ].isin( list( all_metrics[ PATTERN_KEY ].unique() ) ) ]\n",
    "    rdf[ F1_KEY ] = rdf.apply( lambda row: f1( row[ PREC_KEY ], row[ REC_KEY ] ), axis=1 )\n",
    "    metric_dfs[ REFERENCE_MAPPING[ reference_name ] ] = rdf\n",
    "\n",
    "metric_dfs[ REFERENCE_OWN ]"
   ],
   "metadata": {
    "collapsed": false
   },
   "id": "9e122f6d6402d319"
  },
  {
   "cell_type": "code",
   "execution_count": null,
   "outputs": [],
   "source": [
    "reference_dfs = [ ]\n",
    "for ref_name, df in metric_dfs.items():\n",
    "    # Rename the metric columns while keeping \"Pattern\" unchanged\n",
    "    df_renamed = df.rename( columns={\n",
    "        REC_KEY: f\"{REC_KEY} ({ref_name})\",\n",
    "        PREC_KEY: f\"{PREC_KEY} ({ref_name})\",\n",
    "        F1_KEY: f\"{F1_KEY} ({ref_name})\"\n",
    "    } )\n",
    "    reference_dfs.append( df_renamed )\n",
    "\n",
    "\n",
    "def mark_row_max_bold( row ):\n",
    "    # Convert each cell to numeric where possible\n",
    "    numeric_vals = pd.to_numeric( row, errors='coerce' )\n",
    "    max_val = numeric_vals.max()\n",
    "    # Replace cells equal to the max value with the formatted string\n",
    "    return row.apply( lambda x: f\"textbf{{{x}}}\" if pd.to_numeric( x, errors='coerce' ) == max_val else x )\n",
    "\n",
    "\n",
    "combined_ref_df = reduce( lambda left, right: pd.merge( left, right, on=\"Pattern\", how=\"outer\" ), reference_dfs )\n",
    "combined_ref_df = compute_overall_row( combined_ref_df )\n",
    "combined_ref_df = combined_ref_df.replace( np.nan, NAN_MAPPING )\n",
    "combined_ref_df = combined_ref_df.applymap( lambda x: \"{:.2f}\".format( x ) if isinstance( x, (int, float) ) else x )\n",
    "#combined_ref_df = combined_ref_df.apply( mark_row_max_bold, axis=1 )\n",
    "combined_ref_df.to_csv( f\"tables/metric_comparison.csv\", index=False )\n",
    "combined_ref_df"
   ],
   "metadata": {
    "collapsed": false
   },
   "id": "d5c97cd99e577bfd"
  },
  {
   "cell_type": "code",
   "execution_count": null,
   "outputs": [],
   "source": [
    "def mark_max_row_value_per_metric( df: pd.DataFrame ) -> pd.DataFrame:\n",
    "    df = df.copy()\n",
    "    groups = { }\n",
    "    for col in df.columns:\n",
    "        if col.startswith( REC_KEY ) or col.startswith( PREC_KEY ) or col.startswith( F1_KEY ):\n",
    "            col_type = col.split( \" \" )[ 0 ]  # e.g. \"Recall\" from \"Recall (Method1)\"\n",
    "            groups.setdefault( col_type, [ ] ).append( col )\n",
    "    \n",
    "    # For each group (column type), find the maximum value per row and mark it.\n",
    "    for col_type, cols in groups.items():\n",
    "        # Convert the values in these columns back to numeric (they're strings with two decimals)\n",
    "        numeric_df = df[ cols ].apply( pd.to_numeric, errors='coerce' )\n",
    "        # Compute the maximum numeric value for each row in this group.\n",
    "        max_values = numeric_df.max( axis=1 )\n",
    "    \n",
    "        # Now, for each column in the current group, mark the cell if its value equals the row's max.\n",
    "        for col in cols:\n",
    "            # Create a boolean mask where the cell equals the maximum for that row.\n",
    "            mask = numeric_df[ col ] == max_values\n",
    "            # Update the df where mask is True by wrapping the value in \"textbf{...}\".\n",
    "            df.loc[ mask, col ] = \"\\\\textbf{\" + df.loc[ mask, col ] + \"}\"\n",
    "    return df\n",
    "\n",
    "combined_ref_df = mark_max_row_value_per_metric( combined_ref_df )\n",
    "combined_ref_df.to_csv( f\"tables/metric_comparison.csv\", index=False )\n",
    "combined_ref_df"
   ],
   "metadata": {
    "collapsed": false
   },
   "id": "61850a9304c12bb9"
  },
  {
   "cell_type": "code",
   "execution_count": null,
   "outputs": [],
   "source": [],
   "metadata": {
    "collapsed": false
   },
   "id": "ac0956e4697cf33c"
  }
 ],
 "metadata": {
  "kernelspec": {
   "display_name": "Python 3",
   "language": "python",
   "name": "python3"
  },
  "language_info": {
   "codemirror_mode": {
    "name": "ipython",
    "version": 2
   },
   "file_extension": ".py",
   "mimetype": "text/x-python",
   "name": "python",
   "nbconvert_exporter": "python",
   "pygments_lexer": "ipython2",
   "version": "2.7.6"
  }
 },
 "nbformat": 4,
 "nbformat_minor": 5
}
